{
 "cells": [
  {
   "cell_type": "code",
   "execution_count": 1,
   "id": "ec1fcc95",
   "metadata": {},
   "outputs": [
    {
     "name": "stderr",
     "output_type": "stream",
     "text": [
      "/home/ahmadph/anaconda3/envs/dl/lib/python3.9/site-packages/gensim/similarities/__init__.py:15: UserWarning: The gensim.similarities.levenshtein submodule is disabled, because the optional Levenshtein package <https://pypi.org/project/python-Levenshtein/> is unavailable. Install Levenhstein (e.g. `pip install python-Levenshtein`) to suppress this warning.\n",
      "  warnings.warn(msg)\n",
      "[nltk_data] Downloading package punkt to /home/ahmadph/nltk_data...\n",
      "[nltk_data]   Package punkt is already up-to-date!\n",
      "[nltk_data] Downloading package stopwords to\n",
      "[nltk_data]     /home/ahmadph/nltk_data...\n",
      "[nltk_data]   Package stopwords is already up-to-date!\n"
     ]
    }
   ],
   "source": [
    "import sys\n",
    "sys.path.append('..')\n",
    "import pickle\n",
    "import gensim.downloader as api\n",
    "import nltk\n",
    "from nltk.tokenize import word_tokenize, wordpunct_tokenize\n",
    "from nltk.corpus import stopwords\n",
    "import string\n",
    "import numpy as np\n",
    "\n",
    "nltk.download('punkt')\n",
    "nltk.download('stopwords')\n",
    "\n",
    "\n",
    "with open('../trainTest.pk', 'rb') as f:\n",
    "    classes = pickle.load(f)\n",
    "    train = pickle.load(f)\n",
    "    test = pickle.load(f)"
   ]
  },
  {
   "cell_type": "code",
   "execution_count": 2,
   "id": "efdb6c77",
   "metadata": {},
   "outputs": [],
   "source": [
    "wv = api.load('word2vec-google-news-300')"
   ]
  },
  {
   "cell_type": "code",
   "execution_count": 3,
   "id": "7f7295ef",
   "metadata": {},
   "outputs": [],
   "source": [
    "def remove_punctuation(s: str) -> str:\n",
    "    result = ''\n",
    "    for c in s:\n",
    "        if c not in string.punctuation:\n",
    "            result += c\n",
    "    return result\n",
    "\n",
    "english_stopwords = stopwords.words('english')\n",
    "def remove_stopwords(_list):\n",
    "    return list(filter(lambda token: token not in stopwords.words('english'), _list))\n",
    "\n",
    "def preprocess(s: str):\n",
    "    return remove_stopwords(word_tokenize(remove_punctuation(s.lower())))\n",
    "\n",
    "def get_embeddings(words):\n",
    "    result = []\n",
    "    for word in words:\n",
    "        if word in wv:\n",
    "            result.append(wv[word])\n",
    "    return np.array(result)"
   ]
  },
  {
   "cell_type": "code",
   "execution_count": 19,
   "id": "a90aa776",
   "metadata": {},
   "outputs": [
    {
     "name": "stdout",
     "output_type": "stream",
     "text": [
      "0\n",
      "200\n",
      "400\n",
      "600\n",
      "800\n",
      "1000\n",
      "1200\n",
      "1400\n",
      "1600\n",
      "1800\n",
      "2000\n",
      "2200\n",
      "2400\n",
      "2600\n",
      "2800\n",
      "title shape, synopsis shape\n",
      "3000 3000\n"
     ]
    }
   ],
   "source": [
    "dataset_name = \"test\"\n",
    "dataset = train if dataset_name == \"train\" else test\n",
    "\n",
    "title_embeddings = []\n",
    "synopsis_embeddings = []\n",
    "for i, (cls, title, synopsis, id) in enumerate(dataset):\n",
    "    title_embeddings.append(get_embeddings(preprocess(title)))\n",
    "    synopsis_embeddings.append(get_embeddings(preprocess(synopsis)))\n",
    "    \n",
    "    if i % 200 == 0:\n",
    "        print(i)\n",
    "\n",
    "print('title shape, synopsis shape')\n",
    "print(len(title_embeddings), len(synopsis_embeddings))"
   ]
  },
  {
   "cell_type": "code",
   "execution_count": 22,
   "id": "1ab31541",
   "metadata": {},
   "outputs": [],
   "source": [
    "import pickle\n",
    "pickle_filename = \"{}.pk\".format(dataset_name)\n",
    "with open(pickle_filename, 'wb') as f:\n",
    "    pickle.dump([title_embeddings, synopsis_embeddings], f)"
   ]
  },
  {
   "cell_type": "code",
   "execution_count": 23,
   "id": "eab45489",
   "metadata": {},
   "outputs": [],
   "source": [
    "import pickle\n",
    "with open(pickle_filename, 'rb') as f:\n",
    "    loaded_t, loaded_s = pickle.load(f)"
   ]
  },
  {
   "cell_type": "code",
   "execution_count": null,
   "id": "0af2f165",
   "metadata": {},
   "outputs": [],
   "source": [
    "title = train[20][1]\n",
    "print('title:', title)\n",
    "title = preprocess(title)\n",
    "print(title)\n",
    "title_embeddings = []\n",
    "for word in title:\n",
    "    if word in wv:\n",
    "        print('appending:', word)\n",
    "        title_embeddings.append(wv[word])\n",
    "title_embeddings = np.array(title_embeddings)\n",
    "#     print(title_embeddings.shape)\n"
   ]
  }
 ],
 "metadata": {
  "kernelspec": {
   "display_name": "Python 3",
   "language": "python",
   "name": "python3"
  },
  "language_info": {
   "codemirror_mode": {
    "name": "ipython",
    "version": 3
   },
   "file_extension": ".py",
   "mimetype": "text/x-python",
   "name": "python",
   "nbconvert_exporter": "python",
   "pygments_lexer": "ipython3",
   "version": "3.9.7"
  }
 },
 "nbformat": 4,
 "nbformat_minor": 5
}
