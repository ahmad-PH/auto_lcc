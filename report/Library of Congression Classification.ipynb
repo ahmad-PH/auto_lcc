{
 "cells": [
  {
   "cell_type": "code",
   "execution_count": 1,
   "id": "812a42b6",
   "metadata": {},
   "outputs": [],
   "source": [
    "import os\n",
    "import time\n",
    "import pickle\n",
    "import itertools\n",
    "import pandas as pd\n",
    "from tqdm import tqdm\n",
    "from iml_group_proj.config import RANDOM_STATE\n",
    "from iml_group_proj.evaluation import evaluate_many\n",
    "from iml_group_proj.data.utils import load_libofc_df\n",
    "from iml_group_proj.data.preprocess import AverageEmbeddingsPerRecord, DataMode\n",
    "from iml_group_proj.data.embeddings import EmbeddingsDataLoader, EmbeddingsType\n",
    "from iml_group_proj.trainer import train_model, maybe_load_model\n",
    "\n",
    "from sklearn.svm import SVC\n",
    "from sklearn.naive_bayes import GaussianNB\n",
    "from sklearn.neural_network import MLPClassifier\n",
    "from sklearn.multiclass import OneVsRestClassifier as OVC\n",
    "\n",
    "%load_ext autoreload\n",
    "%autoreload 2"
   ]
  },
  {
   "cell_type": "code",
   "execution_count": 2,
   "id": "6fcd2875",
   "metadata": {},
   "outputs": [],
   "source": [
    "DATA_PATH = \"../github_data\"\n",
    "CACHE_DIR = \"../_cache/\"\n",
    "def experiment_to_file_path(experiment, model_name):\n",
    "    return os.path.join(CACHE_DIR, f\"{experiment[0]}_{experiment[1]}_{model_name}.pk\")\n",
    "        \n",
    "def get_experiment_result(embeddings_type, data_mode, models):\n",
    "    print(f\"Starting experiment with {embeddings_type} embeddings with {data_mode}\")\n",
    "    data = EmbeddingsDataLoader.load(DATA_PATH, embeddings_type)\n",
    "    X_train, y_train, X_test, y_test = AverageEmbeddingsPerRecord.prep(data, embeddings_type, data_mode)\n",
    "    \n",
    "    trained_models = []\n",
    "    for model in models:\n",
    "        trained_model = train_model(\n",
    "            model,\n",
    "            X_train,\n",
    "            y_train,\n",
    "            {\"embeddings_type\": embeddings_type, \"data\": data_mode},\n",
    "            experiment_to_file_path((embeddings_type, data_mode), model[2])\n",
    "        )\n",
    "        \n",
    "        trained_models.append(trained_model)\n",
    "    print(\"Evaluating\")\n",
    "    result_df = evaluate_many(trained_models, X_train, y_train, X_test, y_test)\n",
    "\n",
    "    return result_df, trained_models"
   ]
  },
  {
   "cell_type": "code",
   "execution_count": 3,
   "id": "249cc891",
   "metadata": {},
   "outputs": [],
   "source": [
    "## Defining each experiment settings\n",
    "embeddings_types = [\n",
    "    EmbeddingsType.TFIDF, \n",
    "    EmbeddingsType.W2V,\n",
    "    EmbeddingsType.BERT_XS,\n",
    "    EmbeddingsType.BERT_S\n",
    "]\n",
    "data_types = [DataMode.title_only, DataMode.synopsis_only, DataMode.both_title_synopsis]\n",
    "\n",
    "experiments = list(itertools.product(embeddings_types, data_types))\n",
    "\n",
    "models = [\n",
    "        (MLPClassifier(random_state=1, max_iter=250, hidden_layer_sizes=(600, 600), early_stopping=True), None, 'MLP'),\n",
    "        (SVC(C=100, kernel=\"rbf\", gamma=0.001, random_state=RANDOM_STATE), None, \"SVC\"),\n",
    "        # (OVC(SVC(C=100, kernel=\"rbf\", gamma=0.001, random_state=RANDOM_STATE)), None, \"OVC-SVC\"),\n",
    "        (GaussianNB(), None,'NaiveBayes'),\n",
    "]"
   ]
  },
  {
   "cell_type": "code",
   "execution_count": null,
   "id": "95daf32d",
   "metadata": {
    "scrolled": true
   },
   "outputs": [
    {
     "name": "stderr",
     "output_type": "stream",
     "text": [
      "\r",
      "  0%|                                                                                                                                                                   | 0/12 [00:00<?, ?it/s]"
     ]
    },
    {
     "name": "stdout",
     "output_type": "stream",
     "text": [
      "Starting experiment with tfidf embeddings with title\n",
      "Model found at ../_cache/tfidf_title_MLP.pk, skip training flow...\n",
      "Model found at ../_cache/tfidf_title_SVC.pk, skip training flow...\n",
      "Model found at ../_cache/tfidf_title_NaiveBayes.pk, skip training flow...\n",
      "Evaluating\n"
     ]
    }
   ],
   "source": [
    "result_dfs = []\n",
    "trained_models_list = []\n",
    "for (embeddings_type, data_type) in tqdm(experiments):\n",
    "    result_df, trained_models = get_experiment_result(embeddings_type, data_type, models)\n",
    "    print(result_df)\n",
    "    trained_models_list.extend(trained_models)\n",
    "    result_dfs.append(result_df)"
   ]
  },
  {
   "cell_type": "code",
   "execution_count": null,
   "id": "fe9d3413",
   "metadata": {},
   "outputs": [],
   "source": [
    "result_dfs"
   ]
  },
  {
   "cell_type": "code",
   "execution_count": null,
   "id": "0cb14a27",
   "metadata": {},
   "outputs": [],
   "source": [
    "#final_result_df = pd.concat([pd.DataFrame(r) for e in result_dfs])\n",
    "final_result_df = pd.concat(result_dfs)\n",
    "final_result_df.to_csv(\"../_output/experiments_result.csv\")"
   ]
  },
  {
   "cell_type": "code",
   "execution_count": null,
   "id": "891114bc",
   "metadata": {},
   "outputs": [],
   "source": [
    "#final_result_df[~final_result_df[\"is_train\"]]"
   ]
  },
  {
   "cell_type": "code",
   "execution_count": null,
   "id": "c3454575",
   "metadata": {},
   "outputs": [],
   "source": [
    "print(\"TEST\")"
   ]
  },
  {
   "cell_type": "code",
   "execution_count": null,
   "id": "145ba912",
   "metadata": {},
   "outputs": [],
   "source": []
  }
 ],
 "metadata": {
  "kernelspec": {
   "display_name": "Python 3 (ipykernel)",
   "language": "python",
   "name": "python3"
  },
  "language_info": {
   "codemirror_mode": {
    "name": "ipython",
    "version": 3
   },
   "file_extension": ".py",
   "mimetype": "text/x-python",
   "name": "python",
   "nbconvert_exporter": "python",
   "pygments_lexer": "ipython3",
   "version": "3.9.1"
  }
 },
 "nbformat": 4,
 "nbformat_minor": 5
}
