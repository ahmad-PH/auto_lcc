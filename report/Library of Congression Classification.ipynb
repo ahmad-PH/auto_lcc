{
 "cells": [
  {
   "cell_type": "code",
   "execution_count": 32,
   "id": "ce7b3ef3",
   "metadata": {},
   "outputs": [],
   "source": [
    "import time\n",
    "import itertools\n",
    "import pandas as pd\n",
    "from iml_group_proj.config import RANDOM_STATE\n",
    "from iml_group_proj.evaluation import evaluate_many\n",
    "from iml_group_proj.data.utils import load_libofc_df\n",
    "from iml_group_proj.data.preprocess import AverageEmbeddingsPerRecord, DataMode\n",
    "from iml_group_proj.data.embeddings import EmbeddingsDataLoader, EmbeddingsType\n",
    "from iml_group_proj_back.train_models import train_models\n",
    "\n",
    "from sklearn.svm import SVC\n",
    "from sklearn.naive_bayes import GaussianNB\n",
    "from sklearn.neural_network import MLPClassifier\n",
    "from sklearn.multiclass import OneVsRestClassifier as OVC"
   ]
  },
  {
   "cell_type": "code",
   "execution_count": 33,
   "id": "440b1bb6",
   "metadata": {},
   "outputs": [],
   "source": [
    "# %load_ext autoreload\n",
    "# %autoreload 2\n",
    "\n",
    "\n",
    "# DATA_PATH = \"../github_data\"\n",
    "# # List of Embeddings or PCA-ed tf-idf. \n",
    "# embeddings_type = \"tfidf\"\n",
    "# print(f\"Starting experiment with {embeddings_type} embeddings\")\n",
    "# data = EmbeddingsDataLoader.load(DATA_PATH, embeddings_type)\n",
    "# X_train, y_train, X_test, y_test = AverageEmbeddingsPerRecord.prep(data, embeddings_type, 0)\n",
    "\n",
    "# print(X_train.shape)"
   ]
  },
  {
   "cell_type": "code",
   "execution_count": 30,
   "id": "7f119889",
   "metadata": {},
   "outputs": [],
   "source": [
    "DATA_PATH = \"../github_data\"\n",
    "# List of Embeddings or PCA-ed tf-idf. \n",
    "\n",
    "def get_experiment_result(embeddings_type, data_mode, models):\n",
    "    print(f\"Starting experiment with {embeddings_type} embeddings\")\n",
    "    data = EmbeddingsDataLoader.load(DATA_PATH, embeddings_type)\n",
    "    X_train, y_train, X_test, y_test = AverageEmbeddingsPerRecord.prep(data, embeddings_type, data_mode)\n",
    "    \n",
    "    trained_models = train_models(models, X_train, y_train, {\"embeddings_type\": embeddings_type, \"data\": data_mode})\n",
    "    \n",
    "    # Can move the evaluation outside so that we can update the evaluation methods\n",
    "    result_df = evaluate_many(trained_models, X_train, y_train, X_test, y_test)\n",
    "\n",
    "    return result_df"
   ]
  },
  {
   "cell_type": "code",
   "execution_count": 31,
   "id": "472caa58",
   "metadata": {},
   "outputs": [],
   "source": [
    "embeddings_types = [EmbeddingsType.TFIDF, EmbeddingsType.W2V, EmbeddingsType.BERT]\n",
    "data_types = [DataMode.title_only, DataMode.synopsis_only, DataMode.both_title_synopsis]\n",
    "\n",
    "experiments = list(itertools.product(embeddings_types, data_types))\n",
    "\n",
    "models = [\n",
    "        (MLPClassifier(random_state=1, max_iter=100), None, 'MLP_100'),\n",
    "        (SVC(C=100, kernel=\"rbf\", gamma=0.001, random_state=RANDOM_STATE), None, \"SVC\"),\n",
    "        # (OVC(SVC(C=100, kernel=\"rbf\", gamma=0.001, random_state=RANDOM_STATE)), None, \"OVC-SVC\"),\n",
    "        (GaussianNB(), None,'NaiveBayes'),\n",
    "]"
   ]
  },
  {
   "cell_type": "code",
   "execution_count": null,
   "id": "6675678f",
   "metadata": {},
   "outputs": [],
   "source": [
    "result_dfs = []\n",
    "for (embeddings_type, data_type) in experiments:\n",
    "    result_df = get_experiment_result(embeddings_type, data_type, models)\n",
    "    print(result_df.head(100))\n",
    "    result_dfs.append(result_df)"
   ]
  },
  {
   "cell_type": "code",
   "execution_count": null,
   "id": "8ebfb854",
   "metadata": {},
   "outputs": [],
   "source": [
    "final_result_df = pd.concat(result_dfs)\n",
    "final_result_df"
   ]
  },
  {
   "cell_type": "code",
   "execution_count": null,
   "id": "816f01cd",
   "metadata": {},
   "outputs": [],
   "source": []
  },
  {
   "cell_type": "code",
   "execution_count": null,
   "id": "a0065f05",
   "metadata": {},
   "outputs": [],
   "source": []
  }
 ],
 "metadata": {
  "kernelspec": {
   "display_name": "Python 3 (ipykernel)",
   "language": "python",
   "name": "python3"
  },
  "language_info": {
   "codemirror_mode": {
    "name": "ipython",
    "version": 3
   },
   "file_extension": ".py",
   "mimetype": "text/x-python",
   "name": "python",
   "nbconvert_exporter": "python",
   "pygments_lexer": "ipython3",
   "version": "3.9.1"
  }
 },
 "nbformat": 4,
 "nbformat_minor": 5
}
