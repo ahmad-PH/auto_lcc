{
 "cells": [
  {
   "cell_type": "code",
   "execution_count": 1,
   "id": "a97f4f96",
   "metadata": {},
   "outputs": [],
   "source": [
    "import sys\n",
    "sys.path.append('../..')\n",
    "from data import RecordStore, Record\n",
    "import numpy as np\n",
    "from typing import *\n",
    "import torch\n",
    "import torch.nn as nn\n",
    "import torch.nn.functional as F\n",
    "import torch.nn.utils.rnn as rnn\n",
    "import matplotlib.pyplot as plt\n"
   ]
  },
  {
   "cell_type": "code",
   "execution_count": 2,
   "id": "6dad5c80",
   "metadata": {},
   "outputs": [
    {
     "data": {
      "text/plain": [
       "(15,\n",
       " ['P', 'D', 'Q', 'K', 'E', 'H', 'F', 'T', 'S', 'R', 'G', 'B', 'N', 'L', 'J'])"
      ]
     },
     "execution_count": 2,
     "metadata": {},
     "output_type": "execute_result"
    }
   ],
   "source": [
    "RecordStore.load()\n",
    "RecordStore.load_w2v()\n",
    "\n",
    "len(RecordStore.classes), RecordStore.classes"
   ]
  },
  {
   "cell_type": "code",
   "execution_count": 3,
   "id": "cea940a6",
   "metadata": {},
   "outputs": [],
   "source": [
    "class LSTM_Classifier(torch.nn.Module):\n",
    "    def __init__(self) -> None:\n",
    "        super(LSTM_Classifier, self).__init__()\n",
    "        num_layers = 2\n",
    "        dropout = 0.1\n",
    "        hidden_size = 300\n",
    "        # h0 = torch.randn(num_layers, batch_size, hidden_size)\n",
    "        # c0 = torch.randn(num_layers, batch_size, hidden_size)\n",
    "        self.lstm_title = torch.nn.LSTM(input_size=300, hidden_size=hidden_size,\n",
    "            num_layers=num_layers, dropout=0.1, batch_first=True).cuda()\n",
    "        self.lstm_synopsis = torch.nn.LSTM(input_size=300, hidden_size=hidden_size, \n",
    "            num_layers=num_layers, dropout=0.1, batch_first=True).cuda()\n",
    "        self.clf = nn.Sequential(nn.Linear(hidden_size*2, hidden_size),\n",
    "            nn.Dropout(dropout),\n",
    "            nn.ReLU(),\n",
    "            nn.Linear(hidden_size, len(RecordStore.classes))\n",
    "            ).cuda()\n",
    "\n",
    "    def _get_last_timesteps(self, lstm_out):\n",
    "        padded_seq, lengths = rnn.pad_packed_sequence(lstm_out, batch_first=True)\n",
    "        last_timesteps = []\n",
    "        for i in range(len(padded_seq)):\n",
    "            last_timesteps.append(padded_seq[i, lengths[i]-1])\n",
    "        return torch.stack(last_timesteps, dim=0)\n",
    "\n",
    "    def forward(self, x_t, x_s):\n",
    "        lstm_out_t, _ = self.lstm_title(x_t)\n",
    "        lstm_out_s, _ = self.lstm_synopsis(x_s)\n",
    "        last_timesteps_t = self._get_last_timesteps(lstm_out_t)\n",
    "        last_timesteps_s = self._get_last_timesteps(lstm_out_s)\n",
    "        # print('lts shapes:', last_timesteps_t.shape, last_timesteps_s.shape)\n",
    "        clf_out = self.clf(torch.concat([last_timesteps_t, last_timesteps_s], dim=1))\n",
    "        scores = F.log_softmax(clf_out, dim=1)\n",
    "        return scores\n",
    "    \n",
    "    def predict(self, x_t, x_s):\n",
    "        assert type(x_t) == type(x_s) == torch.Tensor, \"expected a single tensor\"\n",
    "        assert len(x_t.shape) == len(x_s.shape) == 2, \"expected a tensor with 2 dimensions\"\n",
    "        x_t, x_s = rnn.pack_sequence([x_t]), rnn.pack_sequence([x_s])\n",
    "        out = self.forward(x_t, x_s).squeeze(0)\n",
    "        return torch.argmax(out)"
   ]
  },
  {
   "cell_type": "code",
   "execution_count": 4,
   "id": "731e3e69",
   "metadata": {},
   "outputs": [],
   "source": [
    "X_t, X_s, Y = [], [], []\n",
    "for record in RecordStore.train_records:\n",
    "    X_t.append(torch.from_numpy(record.title_embeddings_w2v).cuda())\n",
    "    X_s.append(torch.from_numpy(record.synopsis_embeddings_w2v).cuda())\n",
    "    Y.append(record.cls_idx)"
   ]
  },
  {
   "cell_type": "code",
   "execution_count": 5,
   "id": "950f115a",
   "metadata": {},
   "outputs": [],
   "source": [
    "def sort_XXY(X_t, X_s, Y):\n",
    "    to_be_sorted = [(x_t, x_s,y) for x_t, x_s,y in zip(X_t, X_s, Y)]\n",
    "    to_be_sorted.sort(reverse=True, key=lambda x: x[1].shape[0])\n",
    "    X_t, X_s, Y = [], [], []\n",
    "    for (x_t, x_s, y) in to_be_sorted:\n",
    "        X_t.append(x_t)\n",
    "        X_s.append(x_s)\n",
    "        Y.append(y)\n",
    "    return X_t, X_s, Y\n",
    "\n",
    "X_t, X_s, Y = sort_XXY(X_t, X_s, Y)\n",
    "Y = torch.tensor(Y).cuda()"
   ]
  },
  {
   "cell_type": "code",
   "execution_count": 12,
   "id": "1dea0fc8",
   "metadata": {},
   "outputs": [],
   "source": [
    "def accuracy(model: nn.Module, X_t, X_s, Y):\n",
    "    mode = model.training\n",
    "    model.eval()\n",
    "    count = 0\n",
    "    with torch.no_grad():\n",
    "        for x_t, x_s, y in zip(X_t, X_s, Y):\n",
    "            if model.predict(x_t, x_s) == y:\n",
    "                count += 1\n",
    "    model.train(mode)\n",
    "    return count / len(X_t)\n",
    "\n",
    "def get_preds(model: nn.Module, X_t, X_s):\n",
    "    mode = model.training\n",
    "    model.eval()\n",
    "    with torch.no_grad():\n",
    "        preds = []\n",
    "        for x_t, x_s, y in zip(X_t, X_s, Y):\n",
    "            preds.append(model.predict(x_t, x_s))\n",
    "    model.train(mode)\n",
    "    return preds"
   ]
  },
  {
   "cell_type": "code",
   "execution_count": 7,
   "id": "d8249b45",
   "metadata": {},
   "outputs": [],
   "source": [
    "model = LSTM_Classifier().cuda()\n",
    "optim = torch.optim.Adam(model.parameters(), lr=0.001)\n",
    "loss_function = torch.nn.NLLLoss()"
   ]
  },
  {
   "cell_type": "code",
   "execution_count": 8,
   "id": "fc9d881a",
   "metadata": {},
   "outputs": [],
   "source": [
    "# You can either load a model, like this, or train it using the next cell\n",
    "# model = torch.load('model1.pt')"
   ]
  },
  {
   "cell_type": "code",
   "execution_count": 30,
   "id": "181609c9",
   "metadata": {},
   "outputs": [
    {
     "name": "stdout",
     "output_type": "stream",
     "text": [
      "epoch: 0\n",
      "0/398\n",
      "loss:2.7003345489501953\n",
      "100/398\n",
      "loss:1.6959142684936523\n",
      "200/398\n",
      "loss:1.3726681470870972\n",
      "300/398\n",
      "loss:1.62528395652771\n",
      "epoch: 1\n",
      "0/398\n",
      "loss:3.6495959758758545\n",
      "100/398\n",
      "loss:0.9839960932731628\n",
      "200/398\n",
      "loss:0.9477501511573792\n",
      "300/398\n",
      "loss:1.181134581565857\n",
      "epoch: 2\n",
      "0/398\n",
      "loss:1.6717195510864258\n",
      "100/398\n",
      "loss:0.8923726677894592\n",
      "200/398\n",
      "loss:0.7188261151313782\n",
      "300/398\n",
      "loss:0.8727366328239441\n",
      "epoch: 3\n",
      "0/398\n",
      "loss:1.0477486848831177\n",
      "100/398\n",
      "loss:0.5940463542938232\n",
      "200/398\n",
      "loss:0.626224160194397\n",
      "300/398\n",
      "loss:0.7104747295379639\n",
      "epoch: 4\n",
      "0/398\n",
      "loss:0.7386025786399841\n",
      "100/398\n",
      "loss:0.6340188384056091\n",
      "200/398\n",
      "loss:0.5155888795852661\n",
      "300/398\n",
      "loss:0.616891622543335\n",
      "epoch: 5\n",
      "0/398\n",
      "loss:0.5868100523948669\n",
      "100/398\n",
      "loss:0.39343756437301636\n",
      "200/398\n",
      "loss:0.4527129530906677\n",
      "300/398\n",
      "loss:0.5089768767356873\n",
      "epoch: 6\n",
      "0/398\n",
      "loss:0.4022226929664612\n",
      "100/398\n",
      "loss:0.38621246814727783\n",
      "200/398\n",
      "loss:0.2633793354034424\n",
      "300/398\n",
      "loss:0.31388863921165466\n",
      "epoch: 7\n",
      "0/398\n",
      "loss:0.35230299830436707\n",
      "100/398\n",
      "loss:0.34682697057724\n",
      "200/398\n",
      "loss:0.2311079502105713\n",
      "300/398\n",
      "loss:0.3443022072315216\n",
      "epoch: 8\n",
      "0/398\n",
      "loss:0.2313983142375946\n",
      "100/398\n",
      "loss:0.2726987600326538\n",
      "200/398\n",
      "loss:0.11856254935264587\n",
      "300/398\n",
      "loss:0.2658522427082062\n",
      "epoch: 9\n",
      "0/398\n",
      "loss:0.21418866515159607\n",
      "100/398\n",
      "loss:0.30581948161125183\n",
      "200/398\n",
      "loss:0.16132277250289917\n",
      "300/398\n",
      "loss:0.18635259568691254\n",
      "epoch: 10\n",
      "0/398\n",
      "loss:0.10940863937139511\n",
      "100/398\n",
      "loss:0.19891314208507538\n",
      "200/398\n",
      "loss:0.183349147439003\n",
      "300/398\n",
      "loss:0.12050053477287292\n",
      "epoch: 11\n",
      "0/398\n",
      "loss:0.0440104715526104\n",
      "100/398\n",
      "loss:0.15882474184036255\n",
      "200/398\n",
      "loss:0.08784355223178864\n",
      "300/398\n",
      "loss:0.09465605765581131\n",
      "epoch: 12\n",
      "0/398\n",
      "loss:0.15188956260681152\n",
      "100/398\n",
      "loss:0.1740848273038864\n",
      "200/398\n",
      "loss:0.03144703060388565\n",
      "300/398\n",
      "loss:0.044252216815948486\n",
      "epoch: 13\n",
      "0/398\n",
      "loss:0.1517699509859085\n",
      "100/398\n",
      "loss:0.15093763172626495\n",
      "200/398\n",
      "loss:0.03538459539413452\n",
      "300/398\n",
      "loss:0.07008915394544601\n",
      "epoch: 14\n",
      "0/398\n",
      "loss:0.05056798458099365\n",
      "100/398\n",
      "loss:0.04051300510764122\n",
      "200/398\n",
      "loss:0.07185190916061401\n",
      "300/398\n",
      "loss:0.06629089266061783\n",
      "epoch: 15\n",
      "0/398\n",
      "loss:0.16943635046482086\n",
      "100/398\n",
      "loss:0.03683532029390335\n",
      "200/398\n",
      "loss:0.12683053314685822\n",
      "300/398\n",
      "loss:0.06812673807144165\n",
      "epoch: 16\n",
      "0/398\n",
      "loss:0.07444826513528824\n",
      "100/398\n",
      "loss:0.05317964404821396\n",
      "200/398\n",
      "loss:0.005853124428540468\n",
      "300/398\n",
      "loss:0.02675817161798477\n",
      "epoch: 17\n",
      "0/398\n",
      "loss:0.06781943887472153\n",
      "100/398\n",
      "loss:0.019739050418138504\n",
      "200/398\n",
      "loss:0.006537301931530237\n",
      "300/398\n",
      "loss:0.01864369958639145\n",
      "epoch: 18\n",
      "0/398\n",
      "loss:0.06373843550682068\n",
      "100/398\n",
      "loss:0.036537881940603256\n",
      "200/398\n",
      "loss:0.008746648207306862\n",
      "300/398\n",
      "loss:0.07484477013349533\n",
      "epoch: 19\n",
      "0/398\n",
      "loss:0.040972188115119934\n",
      "100/398\n",
      "loss:0.020909301936626434\n",
      "200/398\n",
      "loss:0.08614985644817352\n",
      "300/398\n",
      "loss:0.0608297698199749\n",
      "epoch: 20\n",
      "0/398\n",
      "loss:0.04071226716041565\n",
      "100/398\n",
      "loss:0.028369886800646782\n",
      "200/398\n",
      "loss:0.009391484782099724\n",
      "300/398\n",
      "loss:0.013696656562387943\n",
      "epoch: 21\n",
      "0/398\n",
      "loss:0.012519247829914093\n",
      "100/398\n",
      "loss:0.03919500485062599\n",
      "200/398\n",
      "loss:0.011088481172919273\n",
      "300/398\n",
      "loss:0.03481942415237427\n",
      "epoch: 22\n",
      "0/398\n",
      "loss:0.03165796026587486\n",
      "100/398\n",
      "loss:0.013483650982379913\n",
      "200/398\n",
      "loss:0.005772789474576712\n",
      "300/398\n",
      "loss:0.047415342181921005\n",
      "epoch: 23\n",
      "0/398\n",
      "loss:0.14442503452301025\n",
      "100/398\n",
      "loss:0.0397915318608284\n",
      "200/398\n",
      "loss:0.008765323087573051\n",
      "300/398\n",
      "loss:0.005554990842938423\n",
      "epoch: 24\n",
      "0/398\n",
      "loss:0.16435731947422028\n",
      "100/398\n",
      "loss:0.002216306049376726\n",
      "200/398\n",
      "loss:0.054524507373571396\n",
      "300/398\n",
      "loss:0.046643953770399094\n",
      "epoch: 25\n",
      "0/398\n",
      "loss:0.008085206151008606\n",
      "100/398\n",
      "loss:0.063690185546875\n",
      "200/398\n",
      "loss:0.017782198265194893\n",
      "300/398\n",
      "loss:0.07870805263519287\n",
      "epoch: 26\n",
      "0/398\n",
      "loss:0.0011756523745134473\n",
      "100/398\n",
      "loss:0.045160774141550064\n",
      "200/398\n",
      "loss:0.06627095490694046\n",
      "300/398\n",
      "loss:0.003068001475185156\n",
      "epoch: 27\n",
      "0/398\n",
      "loss:0.058036066591739655\n",
      "100/398\n",
      "loss:0.0047501688823103905\n",
      "200/398\n",
      "loss:0.004823885392397642\n",
      "300/398\n",
      "loss:0.10197234153747559\n",
      "epoch: 28\n",
      "0/398\n",
      "loss:0.00155502965208143\n",
      "100/398\n",
      "loss:0.0008338154293596745\n",
      "200/398\n",
      "loss:0.03233570605516434\n",
      "300/398\n",
      "loss:0.013633966445922852\n",
      "epoch: 29\n",
      "0/398\n",
      "loss:0.02982017584145069\n",
      "100/398\n",
      "loss:0.008821263909339905\n",
      "200/398\n",
      "loss:0.11687275022268295\n",
      "300/398\n",
      "loss:0.005677381530404091\n"
     ]
    }
   ],
   "source": [
    "# Training\n",
    "losses = []\n",
    "batch_size = 64\n",
    "for epoch in range(30):\n",
    "    print('epoch:', epoch)\n",
    "    n_steps = int(len(X_s)/batch_size)\n",
    "    for i in range(n_steps):\n",
    "        inp_t = rnn.pack_sequence(X_t[i*batch_size:(i+1)*batch_size], enforce_sorted=False)\n",
    "        inp_s = rnn.pack_sequence(X_s[i*batch_size:(i+1)*batch_size])\n",
    "        labels = Y[i*batch_size:(i+1)*batch_size]\n",
    "        model.zero_grad()\n",
    "        out = model(inp_t, inp_s)\n",
    "        # print('out shape')\n",
    "        # print(out.shape)\n",
    "        loss = loss_function(out, labels)\n",
    "        losses.append(loss.item())\n",
    "        loss.backward()\n",
    "        optim.step()\n",
    "\n",
    "        if i % 100 == 0:\n",
    "            print('{}/{}'.format(i, n_steps))\n",
    "            print('loss:{}'.format(loss.item()))\n"
   ]
  },
  {
   "cell_type": "code",
   "execution_count": 31,
   "id": "e2528bd9",
   "metadata": {},
   "outputs": [
    {
     "data": {
      "text/plain": [
       "[<matplotlib.lines.Line2D at 0x7fae400cd9d0>]"
      ]
     },
     "execution_count": 31,
     "metadata": {},
     "output_type": "execute_result"
    },
    {
     "data": {
      "image/png": "[encoded data removed]",
      "text/plain": [
       "<Figure size 432x288 with 1 Axes>"
      ]
     },
     "metadata": {
      "needs_background": "light"
     },
     "output_type": "display_data"
    }
   ],
   "source": [
    "plt.plot(losses)"
   ]
  },
  {
   "cell_type": "code",
   "execution_count": 32,
   "id": "11e385c0",
   "metadata": {},
   "outputs": [
    {
     "name": "stdout",
     "output_type": "stream",
     "text": [
      "count, len: 25312 25526\n"
     ]
    },
    {
     "data": {
      "text/plain": [
       "0.991616391130612"
      ]
     },
     "execution_count": 32,
     "metadata": {},
     "output_type": "execute_result"
    }
   ],
   "source": [
    "accuracy(model, X_t, X_s, Y)"
   ]
  },
  {
   "cell_type": "code",
   "execution_count": 10,
   "id": "6006eacb",
   "metadata": {},
   "outputs": [],
   "source": [
    "# Prepare test data\n",
    "X_t_test, X_s_test, Y_test = [], [], []\n",
    "for record in RecordStore.test_records:\n",
    "    X_t_test.append(torch.from_numpy(record.title_embeddings_w2v).cuda())\n",
    "    X_s_test.append(torch.from_numpy(record.synopsis_embeddings_w2v).cuda())\n",
    "    Y_test.append(record.cls_idx)"
   ]
  },
  {
   "cell_type": "code",
   "execution_count": 34,
   "id": "0a264f1e",
   "metadata": {},
   "outputs": [
    {
     "name": "stdout",
     "output_type": "stream",
     "text": [
      "count, len: 2153 3000\n"
     ]
    },
    {
     "data": {
      "text/plain": [
       "0.7176666666666667"
      ]
     },
     "execution_count": 34,
     "metadata": {},
     "output_type": "execute_result"
    }
   ],
   "source": [
    "accuracy(model, X_t_test, X_s_test, Y_test)"
   ]
  },
  {
   "cell_type": "code",
   "execution_count": 14,
   "id": "44d0588c",
   "metadata": {},
   "outputs": [],
   "source": [
    "test_preds = get_preds(model, X_t_test, X_s_test)\n",
    "train_preds = get_preds(model, X_t, X_s)\n",
    "test_preds = [t.cpu().detach() for t in test_preds]\n",
    "train_preds = [t.cpu().detach() for t in train_preds]\n",
    "Y = [y.cpu().detach() for y in Y]\n"
   ]
  },
  {
   "cell_type": "code",
   "execution_count": 23,
   "id": "5ee04b71",
   "metadata": {},
   "outputs": [
    {
     "name": "stdout",
     "output_type": "stream",
     "text": [
      "train precision: 0.9916907885877698, recall: 0.9916254157500194, fscore: 0.9916331464000306\n",
      "test precision: 0.7212571504570321, recall: 0.7176666666666666, fscore: 0.7174870814706853\n"
     ]
    }
   ],
   "source": [
    "from sklearn.metrics import precision_recall_fscore_support\n",
    "p, r, f, _ = precision_recall_fscore_support(Y, train_preds, average='macro')\n",
    "print('train precision: {}, recall: {}, fscore: {}'.format(p,r,f))\n",
    "p, r, f, _ = precision_recall_fscore_support(Y_test, test_preds, average='macro')\n",
    "print('test precision: {}, recall: {}, fscore: {}'.format(p,r,f))"
   ]
  },
  {
   "cell_type": "code",
   "execution_count": 35,
   "id": "3402b1e2",
   "metadata": {},
   "outputs": [],
   "source": [
    "torch.save(model, 'model1.pt')"
   ]
  }
 ],
 "metadata": {
  "kernelspec": {
   "display_name": "Python 3",
   "language": "python",
   "name": "python3"
  },
  "language_info": {
   "codemirror_mode": {
    "name": "ipython",
    "version": 3
   },
   "file_extension": ".py",
   "mimetype": "text/x-python",
   "name": "python",
   "nbconvert_exporter": "python",
   "pygments_lexer": "ipython3",
   "version": "3.9.7"
  }
 },
 "nbformat": 4,
 "nbformat_minor": 5
}
