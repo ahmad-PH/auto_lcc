{
  "nbformat": 4,
  "nbformat_minor": 0,
  "metadata": {
    "colab": {
      "name": "LibOfCongress_LSTM.ipynb",
      "provenance": [],
      "collapsed_sections": [],
      "machine_shape": "hm",
      "authorship_tag": "ABX9TyOJ+gGNxs54Mjvg4RibqTzJ",
      "include_colab_link": true
    },
    "kernelspec": {
      "name": "python3",
      "display_name": "Python 3"
    },
    "language_info": {
      "name": "python"
    },
    "accelerator": "GPU",
    "widgets": {
      "application/vnd.jupyter.widget-state+json": {
        "dc78574ebdb64b348b5805bf411dcbdd": {
          "model_module": "@jupyter-widgets/controls",
          "model_name": "HBoxModel",
          "model_module_version": "1.5.0",
          "state": {
            "_view_name": "HBoxView",
            "_dom_classes": [],
            "_model_name": "HBoxModel",
            "_view_module": "@jupyter-widgets/controls",
            "_model_module_version": "1.5.0",
            "_view_count": null,
            "_view_module_version": "1.5.0",
            "box_style": "",
            "layout": "IPY_MODEL_0a47e7c7ea0a49f4a7cae4f9093a6b27",
            "_model_module": "@jupyter-widgets/controls",
            "children": [
              "IPY_MODEL_07c8360649fe4a65a722c540567ad7b4",
              "IPY_MODEL_0214b07cf622471b9a600297aacb84e7",
              "IPY_MODEL_701f4e9436c24ff5a5c3431b39a0808f"
            ]
          }
        },
        "0a47e7c7ea0a49f4a7cae4f9093a6b27": {
          "model_module": "@jupyter-widgets/base",
          "model_name": "LayoutModel",
          "model_module_version": "1.2.0",
          "state": {
            "_view_name": "LayoutView",
            "grid_template_rows": null,
            "right": null,
            "justify_content": null,
            "_view_module": "@jupyter-widgets/base",
            "overflow": null,
            "_model_module_version": "1.2.0",
            "_view_count": null,
            "flex_flow": null,
            "width": null,
            "min_width": null,
            "border": null,
            "align_items": null,
            "bottom": null,
            "_model_module": "@jupyter-widgets/base",
            "top": null,
            "grid_column": null,
            "overflow_y": null,
            "overflow_x": null,
            "grid_auto_flow": null,
            "grid_area": null,
            "grid_template_columns": null,
            "flex": null,
            "_model_name": "LayoutModel",
            "justify_items": null,
            "grid_row": null,
            "max_height": null,
            "align_content": null,
            "visibility": null,
            "align_self": null,
            "height": null,
            "min_height": null,
            "padding": null,
            "grid_auto_rows": null,
            "grid_gap": null,
            "max_width": null,
            "order": null,
            "_view_module_version": "1.2.0",
            "grid_template_areas": null,
            "object_position": null,
            "object_fit": null,
            "grid_auto_columns": null,
            "margin": null,
            "display": null,
            "left": null
          }
        },
        "07c8360649fe4a65a722c540567ad7b4": {
          "model_module": "@jupyter-widgets/controls",
          "model_name": "HTMLModel",
          "model_module_version": "1.5.0",
          "state": {
            "_view_name": "HTMLView",
            "style": "IPY_MODEL_324527174b91458eacc840da9d4118db",
            "_dom_classes": [],
            "description": "",
            "_model_name": "HTMLModel",
            "placeholder": "​",
            "_view_module": "@jupyter-widgets/controls",
            "_model_module_version": "1.5.0",
            "value": "Downloading: 100%",
            "_view_count": null,
            "_view_module_version": "1.5.0",
            "description_tooltip": null,
            "_model_module": "@jupyter-widgets/controls",
            "layout": "IPY_MODEL_590cb00f96c74380b807810c37ba33f7"
          }
        },
        "0214b07cf622471b9a600297aacb84e7": {
          "model_module": "@jupyter-widgets/controls",
          "model_name": "FloatProgressModel",
          "model_module_version": "1.5.0",
          "state": {
            "_view_name": "ProgressView",
            "style": "IPY_MODEL_d2f6c68b8f764d8caa7f7f18ba329388",
            "_dom_classes": [],
            "description": "",
            "_model_name": "FloatProgressModel",
            "bar_style": "success",
            "max": 231508,
            "_view_module": "@jupyter-widgets/controls",
            "_model_module_version": "1.5.0",
            "value": 231508,
            "_view_count": null,
            "_view_module_version": "1.5.0",
            "orientation": "horizontal",
            "min": 0,
            "description_tooltip": null,
            "_model_module": "@jupyter-widgets/controls",
            "layout": "IPY_MODEL_91e205dcc428459ea2b11ff59226fef4"
          }
        },
        "701f4e9436c24ff5a5c3431b39a0808f": {
          "model_module": "@jupyter-widgets/controls",
          "model_name": "HTMLModel",
          "model_module_version": "1.5.0",
          "state": {
            "_view_name": "HTMLView",
            "style": "IPY_MODEL_6424a51d8f374e06bea75d0ac7369ca1",
            "_dom_classes": [],
            "description": "",
            "_model_name": "HTMLModel",
            "placeholder": "​",
            "_view_module": "@jupyter-widgets/controls",
            "_model_module_version": "1.5.0",
            "value": " 226k/226k [00:00&lt;00:00, 655kB/s]",
            "_view_count": null,
            "_view_module_version": "1.5.0",
            "description_tooltip": null,
            "_model_module": "@jupyter-widgets/controls",
            "layout": "IPY_MODEL_30cd11fe0dc14b3fadd2245020e9c853"
          }
        },
        "324527174b91458eacc840da9d4118db": {
          "model_module": "@jupyter-widgets/controls",
          "model_name": "DescriptionStyleModel",
          "model_module_version": "1.5.0",
          "state": {
            "_view_name": "StyleView",
            "_model_name": "DescriptionStyleModel",
            "description_width": "",
            "_view_module": "@jupyter-widgets/base",
            "_model_module_version": "1.5.0",
            "_view_count": null,
            "_view_module_version": "1.2.0",
            "_model_module": "@jupyter-widgets/controls"
          }
        },
        "590cb00f96c74380b807810c37ba33f7": {
          "model_module": "@jupyter-widgets/base",
          "model_name": "LayoutModel",
          "model_module_version": "1.2.0",
          "state": {
            "_view_name": "LayoutView",
            "grid_template_rows": null,
            "right": null,
            "justify_content": null,
            "_view_module": "@jupyter-widgets/base",
            "overflow": null,
            "_model_module_version": "1.2.0",
            "_view_count": null,
            "flex_flow": null,
            "width": null,
            "min_width": null,
            "border": null,
            "align_items": null,
            "bottom": null,
            "_model_module": "@jupyter-widgets/base",
            "top": null,
            "grid_column": null,
            "overflow_y": null,
            "overflow_x": null,
            "grid_auto_flow": null,
            "grid_area": null,
            "grid_template_columns": null,
            "flex": null,
            "_model_name": "LayoutModel",
            "justify_items": null,
            "grid_row": null,
            "max_height": null,
            "align_content": null,
            "visibility": null,
            "align_self": null,
            "height": null,
            "min_height": null,
            "padding": null,
            "grid_auto_rows": null,
            "grid_gap": null,
            "max_width": null,
            "order": null,
            "_view_module_version": "1.2.0",
            "grid_template_areas": null,
            "object_position": null,
            "object_fit": null,
            "grid_auto_columns": null,
            "margin": null,
            "display": null,
            "left": null
          }
        },
        "d2f6c68b8f764d8caa7f7f18ba329388": {
          "model_module": "@jupyter-widgets/controls",
          "model_name": "ProgressStyleModel",
          "model_module_version": "1.5.0",
          "state": {
            "_view_name": "StyleView",
            "_model_name": "ProgressStyleModel",
            "description_width": "",
            "_view_module": "@jupyter-widgets/base",
            "_model_module_version": "1.5.0",
            "_view_count": null,
            "_view_module_version": "1.2.0",
            "bar_color": null,
            "_model_module": "@jupyter-widgets/controls"
          }
        },
        "91e205dcc428459ea2b11ff59226fef4": {
          "model_module": "@jupyter-widgets/base",
          "model_name": "LayoutModel",
          "model_module_version": "1.2.0",
          "state": {
            "_view_name": "LayoutView",
            "grid_template_rows": null,
            "right": null,
            "justify_content": null,
            "_view_module": "@jupyter-widgets/base",
            "overflow": null,
            "_model_module_version": "1.2.0",
            "_view_count": null,
            "flex_flow": null,
            "width": null,
            "min_width": null,
            "border": null,
            "align_items": null,
            "bottom": null,
            "_model_module": "@jupyter-widgets/base",
            "top": null,
            "grid_column": null,
            "overflow_y": null,
            "overflow_x": null,
            "grid_auto_flow": null,
            "grid_area": null,
            "grid_template_columns": null,
            "flex": null,
            "_model_name": "LayoutModel",
            "justify_items": null,
            "grid_row": null,
            "max_height": null,
            "align_content": null,
            "visibility": null,
            "align_self": null,
            "height": null,
            "min_height": null,
            "padding": null,
            "grid_auto_rows": null,
            "grid_gap": null,
            "max_width": null,
            "order": null,
            "_view_module_version": "1.2.0",
            "grid_template_areas": null,
            "object_position": null,
            "object_fit": null,
            "grid_auto_columns": null,
            "margin": null,
            "display": null,
            "left": null
          }
        },
        "6424a51d8f374e06bea75d0ac7369ca1": {
          "model_module": "@jupyter-widgets/controls",
          "model_name": "DescriptionStyleModel",
          "model_module_version": "1.5.0",
          "state": {
            "_view_name": "StyleView",
            "_model_name": "DescriptionStyleModel",
            "description_width": "",
            "_view_module": "@jupyter-widgets/base",
            "_model_module_version": "1.5.0",
            "_view_count": null,
            "_view_module_version": "1.2.0",
            "_model_module": "@jupyter-widgets/controls"
          }
        },
        "30cd11fe0dc14b3fadd2245020e9c853": {
          "model_module": "@jupyter-widgets/base",
          "model_name": "LayoutModel",
          "model_module_version": "1.2.0",
          "state": {
            "_view_name": "LayoutView",
            "grid_template_rows": null,
            "right": null,
            "justify_content": null,
            "_view_module": "@jupyter-widgets/base",
            "overflow": null,
            "_model_module_version": "1.2.0",
            "_view_count": null,
            "flex_flow": null,
            "width": null,
            "min_width": null,
            "border": null,
            "align_items": null,
            "bottom": null,
            "_model_module": "@jupyter-widgets/base",
            "top": null,
            "grid_column": null,
            "overflow_y": null,
            "overflow_x": null,
            "grid_auto_flow": null,
            "grid_area": null,
            "grid_template_columns": null,
            "flex": null,
            "_model_name": "LayoutModel",
            "justify_items": null,
            "grid_row": null,
            "max_height": null,
            "align_content": null,
            "visibility": null,
            "align_self": null,
            "height": null,
            "min_height": null,
            "padding": null,
            "grid_auto_rows": null,
            "grid_gap": null,
            "max_width": null,
            "order": null,
            "_view_module_version": "1.2.0",
            "grid_template_areas": null,
            "object_position": null,
            "object_fit": null,
            "grid_auto_columns": null,
            "margin": null,
            "display": null,
            "left": null
          }
        },
        "298865ec79e8402287cd783e8bd4969b": {
          "model_module": "@jupyter-widgets/controls",
          "model_name": "HBoxModel",
          "model_module_version": "1.5.0",
          "state": {
            "_view_name": "HBoxView",
            "_dom_classes": [],
            "_model_name": "HBoxModel",
            "_view_module": "@jupyter-widgets/controls",
            "_model_module_version": "1.5.0",
            "_view_count": null,
            "_view_module_version": "1.5.0",
            "box_style": "",
            "layout": "IPY_MODEL_203a030354284e6bbd47048b876eba6b",
            "_model_module": "@jupyter-widgets/controls",
            "children": [
              "IPY_MODEL_8a9724e23e934c348ff39f5b903a03e9",
              "IPY_MODEL_e56c08805b68441c8d2688258dac8836",
              "IPY_MODEL_c132a7d01aca4566819f2def34a580c2"
            ]
          }
        },
        "203a030354284e6bbd47048b876eba6b": {
          "model_module": "@jupyter-widgets/base",
          "model_name": "LayoutModel",
          "model_module_version": "1.2.0",
          "state": {
            "_view_name": "LayoutView",
            "grid_template_rows": null,
            "right": null,
            "justify_content": null,
            "_view_module": "@jupyter-widgets/base",
            "overflow": null,
            "_model_module_version": "1.2.0",
            "_view_count": null,
            "flex_flow": null,
            "width": null,
            "min_width": null,
            "border": null,
            "align_items": null,
            "bottom": null,
            "_model_module": "@jupyter-widgets/base",
            "top": null,
            "grid_column": null,
            "overflow_y": null,
            "overflow_x": null,
            "grid_auto_flow": null,
            "grid_area": null,
            "grid_template_columns": null,
            "flex": null,
            "_model_name": "LayoutModel",
            "justify_items": null,
            "grid_row": null,
            "max_height": null,
            "align_content": null,
            "visibility": null,
            "align_self": null,
            "height": null,
            "min_height": null,
            "padding": null,
            "grid_auto_rows": null,
            "grid_gap": null,
            "max_width": null,
            "order": null,
            "_view_module_version": "1.2.0",
            "grid_template_areas": null,
            "object_position": null,
            "object_fit": null,
            "grid_auto_columns": null,
            "margin": null,
            "display": null,
            "left": null
          }
        },
        "8a9724e23e934c348ff39f5b903a03e9": {
          "model_module": "@jupyter-widgets/controls",
          "model_name": "HTMLModel",
          "model_module_version": "1.5.0",
          "state": {
            "_view_name": "HTMLView",
            "style": "IPY_MODEL_45f902647c1843548dc5b94497d73bb6",
            "_dom_classes": [],
            "description": "",
            "_model_name": "HTMLModel",
            "placeholder": "​",
            "_view_module": "@jupyter-widgets/controls",
            "_model_module_version": "1.5.0",
            "value": "Downloading: 100%",
            "_view_count": null,
            "_view_module_version": "1.5.0",
            "description_tooltip": null,
            "_model_module": "@jupyter-widgets/controls",
            "layout": "IPY_MODEL_eb1d5a415e274531afcb1736c5e5cf75"
          }
        },
        "e56c08805b68441c8d2688258dac8836": {
          "model_module": "@jupyter-widgets/controls",
          "model_name": "FloatProgressModel",
          "model_module_version": "1.5.0",
          "state": {
            "_view_name": "ProgressView",
            "style": "IPY_MODEL_8292c9b850494a108dcf4057626f305c",
            "_dom_classes": [],
            "description": "",
            "_model_name": "FloatProgressModel",
            "bar_style": "success",
            "max": 286,
            "_view_module": "@jupyter-widgets/controls",
            "_model_module_version": "1.5.0",
            "value": 286,
            "_view_count": null,
            "_view_module_version": "1.5.0",
            "orientation": "horizontal",
            "min": 0,
            "description_tooltip": null,
            "_model_module": "@jupyter-widgets/controls",
            "layout": "IPY_MODEL_421505c5357a42f4be3b5ce543b43a24"
          }
        },
        "c132a7d01aca4566819f2def34a580c2": {
          "model_module": "@jupyter-widgets/controls",
          "model_name": "HTMLModel",
          "model_module_version": "1.5.0",
          "state": {
            "_view_name": "HTMLView",
            "style": "IPY_MODEL_81d1b22cc44c42bb9be761cb4c8b389f",
            "_dom_classes": [],
            "description": "",
            "_model_name": "HTMLModel",
            "placeholder": "​",
            "_view_module": "@jupyter-widgets/controls",
            "_model_module_version": "1.5.0",
            "value": " 286/286 [00:00&lt;00:00, 6.69kB/s]",
            "_view_count": null,
            "_view_module_version": "1.5.0",
            "description_tooltip": null,
            "_model_module": "@jupyter-widgets/controls",
            "layout": "IPY_MODEL_2518c24d024f47ef8c173c1a603fe8d6"
          }
        },
        "45f902647c1843548dc5b94497d73bb6": {
          "model_module": "@jupyter-widgets/controls",
          "model_name": "DescriptionStyleModel",
          "model_module_version": "1.5.0",
          "state": {
            "_view_name": "StyleView",
            "_model_name": "DescriptionStyleModel",
            "description_width": "",
            "_view_module": "@jupyter-widgets/base",
            "_model_module_version": "1.5.0",
            "_view_count": null,
            "_view_module_version": "1.2.0",
            "_model_module": "@jupyter-widgets/controls"
          }
        },
        "eb1d5a415e274531afcb1736c5e5cf75": {
          "model_module": "@jupyter-widgets/base",
          "model_name": "LayoutModel",
          "model_module_version": "1.2.0",
          "state": {
            "_view_name": "LayoutView",
            "grid_template_rows": null,
            "right": null,
            "justify_content": null,
            "_view_module": "@jupyter-widgets/base",
            "overflow": null,
            "_model_module_version": "1.2.0",
            "_view_count": null,
            "flex_flow": null,
            "width": null,
            "min_width": null,
            "border": null,
            "align_items": null,
            "bottom": null,
            "_model_module": "@jupyter-widgets/base",
            "top": null,
            "grid_column": null,
            "overflow_y": null,
            "overflow_x": null,
            "grid_auto_flow": null,
            "grid_area": null,
            "grid_template_columns": null,
            "flex": null,
            "_model_name": "LayoutModel",
            "justify_items": null,
            "grid_row": null,
            "max_height": null,
            "align_content": null,
            "visibility": null,
            "align_self": null,
            "height": null,
            "min_height": null,
            "padding": null,
            "grid_auto_rows": null,
            "grid_gap": null,
            "max_width": null,
            "order": null,
            "_view_module_version": "1.2.0",
            "grid_template_areas": null,
            "object_position": null,
            "object_fit": null,
            "grid_auto_columns": null,
            "margin": null,
            "display": null,
            "left": null
          }
        },
        "8292c9b850494a108dcf4057626f305c": {
          "model_module": "@jupyter-widgets/controls",
          "model_name": "ProgressStyleModel",
          "model_module_version": "1.5.0",
          "state": {
            "_view_name": "StyleView",
            "_model_name": "ProgressStyleModel",
            "description_width": "",
            "_view_module": "@jupyter-widgets/base",
            "_model_module_version": "1.5.0",
            "_view_count": null,
            "_view_module_version": "1.2.0",
            "bar_color": null,
            "_model_module": "@jupyter-widgets/controls"
          }
        },
        "421505c5357a42f4be3b5ce543b43a24": {
          "model_module": "@jupyter-widgets/base",
          "model_name": "LayoutModel",
          "model_module_version": "1.2.0",
          "state": {
            "_view_name": "LayoutView",
            "grid_template_rows": null,
            "right": null,
            "justify_content": null,
            "_view_module": "@jupyter-widgets/base",
            "overflow": null,
            "_model_module_version": "1.2.0",
            "_view_count": null,
            "flex_flow": null,
            "width": null,
            "min_width": null,
            "border": null,
            "align_items": null,
            "bottom": null,
            "_model_module": "@jupyter-widgets/base",
            "top": null,
            "grid_column": null,
            "overflow_y": null,
            "overflow_x": null,
            "grid_auto_flow": null,
            "grid_area": null,
            "grid_template_columns": null,
            "flex": null,
            "_model_name": "LayoutModel",
            "justify_items": null,
            "grid_row": null,
            "max_height": null,
            "align_content": null,
            "visibility": null,
            "align_self": null,
            "height": null,
            "min_height": null,
            "padding": null,
            "grid_auto_rows": null,
            "grid_gap": null,
            "max_width": null,
            "order": null,
            "_view_module_version": "1.2.0",
            "grid_template_areas": null,
            "object_position": null,
            "object_fit": null,
            "grid_auto_columns": null,
            "margin": null,
            "display": null,
            "left": null
          }
        },
        "81d1b22cc44c42bb9be761cb4c8b389f": {
          "model_module": "@jupyter-widgets/controls",
          "model_name": "DescriptionStyleModel",
          "model_module_version": "1.5.0",
          "state": {
            "_view_name": "StyleView",
            "_model_name": "DescriptionStyleModel",
            "description_width": "",
            "_view_module": "@jupyter-widgets/base",
            "_model_module_version": "1.5.0",
            "_view_count": null,
            "_view_module_version": "1.2.0",
            "_model_module": "@jupyter-widgets/controls"
          }
        },
        "2518c24d024f47ef8c173c1a603fe8d6": {
          "model_module": "@jupyter-widgets/base",
          "model_name": "LayoutModel",
          "model_module_version": "1.2.0",
          "state": {
            "_view_name": "LayoutView",
            "grid_template_rows": null,
            "right": null,
            "justify_content": null,
            "_view_module": "@jupyter-widgets/base",
            "overflow": null,
            "_model_module_version": "1.2.0",
            "_view_count": null,
            "flex_flow": null,
            "width": null,
            "min_width": null,
            "border": null,
            "align_items": null,
            "bottom": null,
            "_model_module": "@jupyter-widgets/base",
            "top": null,
            "grid_column": null,
            "overflow_y": null,
            "overflow_x": null,
            "grid_auto_flow": null,
            "grid_area": null,
            "grid_template_columns": null,
            "flex": null,
            "_model_name": "LayoutModel",
            "justify_items": null,
            "grid_row": null,
            "max_height": null,
            "align_content": null,
            "visibility": null,
            "align_self": null,
            "height": null,
            "min_height": null,
            "padding": null,
            "grid_auto_rows": null,
            "grid_gap": null,
            "max_width": null,
            "order": null,
            "_view_module_version": "1.2.0",
            "grid_template_areas": null,
            "object_position": null,
            "object_fit": null,
            "grid_auto_columns": null,
            "margin": null,
            "display": null,
            "left": null
          }
        },
        "f5d9878e58a24a5e8c8b2f1072a0fd0a": {
          "model_module": "@jupyter-widgets/controls",
          "model_name": "HBoxModel",
          "model_module_version": "1.5.0",
          "state": {
            "_view_name": "HBoxView",
            "_dom_classes": [],
            "_model_name": "HBoxModel",
            "_view_module": "@jupyter-widgets/controls",
            "_model_module_version": "1.5.0",
            "_view_count": null,
            "_view_module_version": "1.5.0",
            "box_style": "",
            "layout": "IPY_MODEL_b5abeb9fed024ad8ae19bf6b77e279e1",
            "_model_module": "@jupyter-widgets/controls",
            "children": [
              "IPY_MODEL_fd79c7cf1d8b46869c1e5ddb2a3b258b",
              "IPY_MODEL_0c7f19862d2f4957a84ebf859cac32bf",
              "IPY_MODEL_59b2f299a171458dbb6bbab0ddd6a97c"
            ]
          }
        },
        "b5abeb9fed024ad8ae19bf6b77e279e1": {
          "model_module": "@jupyter-widgets/base",
          "model_name": "LayoutModel",
          "model_module_version": "1.2.0",
          "state": {
            "_view_name": "LayoutView",
            "grid_template_rows": null,
            "right": null,
            "justify_content": null,
            "_view_module": "@jupyter-widgets/base",
            "overflow": null,
            "_model_module_version": "1.2.0",
            "_view_count": null,
            "flex_flow": null,
            "width": null,
            "min_width": null,
            "border": null,
            "align_items": null,
            "bottom": null,
            "_model_module": "@jupyter-widgets/base",
            "top": null,
            "grid_column": null,
            "overflow_y": null,
            "overflow_x": null,
            "grid_auto_flow": null,
            "grid_area": null,
            "grid_template_columns": null,
            "flex": null,
            "_model_name": "LayoutModel",
            "justify_items": null,
            "grid_row": null,
            "max_height": null,
            "align_content": null,
            "visibility": null,
            "align_self": null,
            "height": null,
            "min_height": null,
            "padding": null,
            "grid_auto_rows": null,
            "grid_gap": null,
            "max_width": null,
            "order": null,
            "_view_module_version": "1.2.0",
            "grid_template_areas": null,
            "object_position": null,
            "object_fit": null,
            "grid_auto_columns": null,
            "margin": null,
            "display": null,
            "left": null
          }
        },
        "fd79c7cf1d8b46869c1e5ddb2a3b258b": {
          "model_module": "@jupyter-widgets/controls",
          "model_name": "HTMLModel",
          "model_module_version": "1.5.0",
          "state": {
            "_view_name": "HTMLView",
            "style": "IPY_MODEL_b504a8c6cdf3416c8981e544ffa0311f",
            "_dom_classes": [],
            "description": "",
            "_model_name": "HTMLModel",
            "placeholder": "​",
            "_view_module": "@jupyter-widgets/controls",
            "_model_module_version": "1.5.0",
            "value": "Downloading: 100%",
            "_view_count": null,
            "_view_module_version": "1.5.0",
            "description_tooltip": null,
            "_model_module": "@jupyter-widgets/controls",
            "layout": "IPY_MODEL_ddf0e142a2224e1491bf4e16d5cdfd3a"
          }
        },
        "0c7f19862d2f4957a84ebf859cac32bf": {
          "model_module": "@jupyter-widgets/controls",
          "model_name": "FloatProgressModel",
          "model_module_version": "1.5.0",
          "state": {
            "_view_name": "ProgressView",
            "style": "IPY_MODEL_8cb0418c6aa340258ffbf0952f28e81a",
            "_dom_classes": [],
            "description": "",
            "_model_name": "FloatProgressModel",
            "bar_style": "success",
            "max": 116270890,
            "_view_module": "@jupyter-widgets/controls",
            "_model_module_version": "1.5.0",
            "value": 116270890,
            "_view_count": null,
            "_view_module_version": "1.5.0",
            "orientation": "horizontal",
            "min": 0,
            "description_tooltip": null,
            "_model_module": "@jupyter-widgets/controls",
            "layout": "IPY_MODEL_a142abcd891e4f67b884e3986157893b"
          }
        },
        "59b2f299a171458dbb6bbab0ddd6a97c": {
          "model_module": "@jupyter-widgets/controls",
          "model_name": "HTMLModel",
          "model_module_version": "1.5.0",
          "state": {
            "_view_name": "HTMLView",
            "style": "IPY_MODEL_238e9094973743bab8bca885b06ace2b",
            "_dom_classes": [],
            "description": "",
            "_model_name": "HTMLModel",
            "placeholder": "​",
            "_view_module": "@jupyter-widgets/controls",
            "_model_module_version": "1.5.0",
            "value": " 111M/111M [00:04&lt;00:00, 29.8MB/s]",
            "_view_count": null,
            "_view_module_version": "1.5.0",
            "description_tooltip": null,
            "_model_module": "@jupyter-widgets/controls",
            "layout": "IPY_MODEL_c47c0b9e67974e58abcb749a2ae1cb91"
          }
        },
        "b504a8c6cdf3416c8981e544ffa0311f": {
          "model_module": "@jupyter-widgets/controls",
          "model_name": "DescriptionStyleModel",
          "model_module_version": "1.5.0",
          "state": {
            "_view_name": "StyleView",
            "_model_name": "DescriptionStyleModel",
            "description_width": "",
            "_view_module": "@jupyter-widgets/base",
            "_model_module_version": "1.5.0",
            "_view_count": null,
            "_view_module_version": "1.2.0",
            "_model_module": "@jupyter-widgets/controls"
          }
        },
        "ddf0e142a2224e1491bf4e16d5cdfd3a": {
          "model_module": "@jupyter-widgets/base",
          "model_name": "LayoutModel",
          "model_module_version": "1.2.0",
          "state": {
            "_view_name": "LayoutView",
            "grid_template_rows": null,
            "right": null,
            "justify_content": null,
            "_view_module": "@jupyter-widgets/base",
            "overflow": null,
            "_model_module_version": "1.2.0",
            "_view_count": null,
            "flex_flow": null,
            "width": null,
            "min_width": null,
            "border": null,
            "align_items": null,
            "bottom": null,
            "_model_module": "@jupyter-widgets/base",
            "top": null,
            "grid_column": null,
            "overflow_y": null,
            "overflow_x": null,
            "grid_auto_flow": null,
            "grid_area": null,
            "grid_template_columns": null,
            "flex": null,
            "_model_name": "LayoutModel",
            "justify_items": null,
            "grid_row": null,
            "max_height": null,
            "align_content": null,
            "visibility": null,
            "align_self": null,
            "height": null,
            "min_height": null,
            "padding": null,
            "grid_auto_rows": null,
            "grid_gap": null,
            "max_width": null,
            "order": null,
            "_view_module_version": "1.2.0",
            "grid_template_areas": null,
            "object_position": null,
            "object_fit": null,
            "grid_auto_columns": null,
            "margin": null,
            "display": null,
            "left": null
          }
        },
        "8cb0418c6aa340258ffbf0952f28e81a": {
          "model_module": "@jupyter-widgets/controls",
          "model_name": "ProgressStyleModel",
          "model_module_version": "1.5.0",
          "state": {
            "_view_name": "StyleView",
            "_model_name": "ProgressStyleModel",
            "description_width": "",
            "_view_module": "@jupyter-widgets/base",
            "_model_module_version": "1.5.0",
            "_view_count": null,
            "_view_module_version": "1.2.0",
            "bar_color": null,
            "_model_module": "@jupyter-widgets/controls"
          }
        },
        "a142abcd891e4f67b884e3986157893b": {
          "model_module": "@jupyter-widgets/base",
          "model_name": "LayoutModel",
          "model_module_version": "1.2.0",
          "state": {
            "_view_name": "LayoutView",
            "grid_template_rows": null,
            "right": null,
            "justify_content": null,
            "_view_module": "@jupyter-widgets/base",
            "overflow": null,
            "_model_module_version": "1.2.0",
            "_view_count": null,
            "flex_flow": null,
            "width": null,
            "min_width": null,
            "border": null,
            "align_items": null,
            "bottom": null,
            "_model_module": "@jupyter-widgets/base",
            "top": null,
            "grid_column": null,
            "overflow_y": null,
            "overflow_x": null,
            "grid_auto_flow": null,
            "grid_area": null,
            "grid_template_columns": null,
            "flex": null,
            "_model_name": "LayoutModel",
            "justify_items": null,
            "grid_row": null,
            "max_height": null,
            "align_content": null,
            "visibility": null,
            "align_self": null,
            "height": null,
            "min_height": null,
            "padding": null,
            "grid_auto_rows": null,
            "grid_gap": null,
            "max_width": null,
            "order": null,
            "_view_module_version": "1.2.0",
            "grid_template_areas": null,
            "object_position": null,
            "object_fit": null,
            "grid_auto_columns": null,
            "margin": null,
            "display": null,
            "left": null
          }
        },
        "238e9094973743bab8bca885b06ace2b": {
          "model_module": "@jupyter-widgets/controls",
          "model_name": "DescriptionStyleModel",
          "model_module_version": "1.5.0",
          "state": {
            "_view_name": "StyleView",
            "_model_name": "DescriptionStyleModel",
            "description_width": "",
            "_view_module": "@jupyter-widgets/base",
            "_model_module_version": "1.5.0",
            "_view_count": null,
            "_view_module_version": "1.2.0",
            "_model_module": "@jupyter-widgets/controls"
          }
        },
        "c47c0b9e67974e58abcb749a2ae1cb91": {
          "model_module": "@jupyter-widgets/base",
          "model_name": "LayoutModel",
          "model_module_version": "1.2.0",
          "state": {
            "_view_name": "LayoutView",
            "grid_template_rows": null,
            "right": null,
            "justify_content": null,
            "_view_module": "@jupyter-widgets/base",
            "overflow": null,
            "_model_module_version": "1.2.0",
            "_view_count": null,
            "flex_flow": null,
            "width": null,
            "min_width": null,
            "border": null,
            "align_items": null,
            "bottom": null,
            "_model_module": "@jupyter-widgets/base",
            "top": null,
            "grid_column": null,
            "overflow_y": null,
            "overflow_x": null,
            "grid_auto_flow": null,
            "grid_area": null,
            "grid_template_columns": null,
            "flex": null,
            "_model_name": "LayoutModel",
            "justify_items": null,
            "grid_row": null,
            "max_height": null,
            "align_content": null,
            "visibility": null,
            "align_self": null,
            "height": null,
            "min_height": null,
            "padding": null,
            "grid_auto_rows": null,
            "grid_gap": null,
            "max_width": null,
            "order": null,
            "_view_module_version": "1.2.0",
            "grid_template_areas": null,
            "object_position": null,
            "object_fit": null,
            "grid_auto_columns": null,
            "margin": null,
            "display": null,
            "left": null
          }
        }
      }
    }
  },
  "cells": [
    {
      "cell_type": "markdown",
      "metadata": {
        "id": "view-in-github",
        "colab_type": "text"
      },
      "source": [
        "<a href=\"https://colab.research.google.com/github/ahmad-PH/iml_group_proj/blob/main/LibOfCongress_LSTM_BERT_small.ipynb\" target=\"_parent\"><img src=\"https://colab.research.google.com/assets/colab-badge.svg\" alt=\"Open In Colab\"/></a>"
      ]
    },
    {
      "cell_type": "code",
      "execution_count": 1,
      "metadata": {
        "colab": {
          "base_uri": "https://localhost:8080/"
        },
        "id": "XZZa-wvdRmuu",
        "outputId": "277bfa27-e18b-4f01-a007-5fd1c23a6505"
      },
      "outputs": [
        {
          "output_type": "stream",
          "name": "stdout",
          "text": [
            "1\n"
          ]
        }
      ],
      "source": [
        "import torch\n",
        "\n",
        "import os\n",
        "#assert os.environ['COLAB_TPU_ADDR'], 'Make sure to select TPU from Edit > Notebook settings > Hardware accelerator'\n",
        "\n",
        "# Do the same but pick GPU\n",
        "print(torch.cuda.device_count())\n",
        "cuda0 = torch.device('cuda:0')\n",
        "#!pip install cloud-tpu-client==0.10 torch==1.9.0 https://storage.googleapis.com/tpu-pytorch/wheels/torch_xla-1.9-cp37-cp37m-linux_x86_64.whl"
      ]
    },
    {
      "cell_type": "code",
      "source": [
        "# Checking for GPU in an environment\n",
        "dev = cuda0\n",
        "t1 = torch.ones(3, 3, device = dev)\n",
        "print(t1)\n",
        "\n",
        "torch.cuda.empty_cache()"
      ],
      "metadata": {
        "colab": {
          "base_uri": "https://localhost:8080/"
        },
        "id": "ODzGUDgIRpvr",
        "outputId": "e3dff16f-f862-4243-90db-5c15f1ea0ba8"
      },
      "execution_count": 2,
      "outputs": [
        {
          "output_type": "stream",
          "name": "stdout",
          "text": [
            "tensor([[1., 1., 1.],\n",
            "        [1., 1., 1.],\n",
            "        [1., 1., 1.]], device='cuda:0')\n"
          ]
        }
      ]
    },
    {
      "cell_type": "code",
      "source": [
        "from google.colab import drive\n",
        "drive.mount('/content/drive')"
      ],
      "metadata": {
        "colab": {
          "base_uri": "https://localhost:8080/"
        },
        "id": "RLcnZp4LRqYg",
        "outputId": "d0f27018-3ecf-40b5-bbf5-dda429d12ed8"
      },
      "execution_count": 3,
      "outputs": [
        {
          "output_type": "stream",
          "name": "stdout",
          "text": [
            "Drive already mounted at /content/drive; to attempt to forcibly remount, call drive.mount(\"/content/drive\", force_remount=True).\n"
          ]
        }
      ]
    },
    {
      "cell_type": "code",
      "source": [
        "!pip install transformers"
      ],
      "metadata": {
        "colab": {
          "base_uri": "https://localhost:8080/"
        },
        "id": "tXn5K9_MYkDY",
        "outputId": "ed3e4fe5-5495-4db7-e86d-7e06c74f40c6"
      },
      "execution_count": 4,
      "outputs": [
        {
          "output_type": "stream",
          "name": "stdout",
          "text": [
            "Requirement already satisfied: transformers in /usr/local/lib/python3.7/dist-packages (4.13.0)\n",
            "Requirement already satisfied: sacremoses in /usr/local/lib/python3.7/dist-packages (from transformers) (0.0.46)\n",
            "Requirement already satisfied: tokenizers<0.11,>=0.10.1 in /usr/local/lib/python3.7/dist-packages (from transformers) (0.10.3)\n",
            "Requirement already satisfied: pyyaml>=5.1 in /usr/local/lib/python3.7/dist-packages (from transformers) (6.0)\n",
            "Requirement already satisfied: numpy>=1.17 in /usr/local/lib/python3.7/dist-packages (from transformers) (1.19.5)\n",
            "Requirement already satisfied: tqdm>=4.27 in /usr/local/lib/python3.7/dist-packages (from transformers) (4.62.3)\n",
            "Requirement already satisfied: importlib-metadata in /usr/local/lib/python3.7/dist-packages (from transformers) (4.8.2)\n",
            "Requirement already satisfied: requests in /usr/local/lib/python3.7/dist-packages (from transformers) (2.23.0)\n",
            "Requirement already satisfied: regex!=2019.12.17 in /usr/local/lib/python3.7/dist-packages (from transformers) (2019.12.20)\n",
            "Requirement already satisfied: packaging>=20.0 in /usr/local/lib/python3.7/dist-packages (from transformers) (21.3)\n",
            "Requirement already satisfied: filelock in /usr/local/lib/python3.7/dist-packages (from transformers) (3.4.0)\n",
            "Requirement already satisfied: huggingface-hub<1.0,>=0.1.0 in /usr/local/lib/python3.7/dist-packages (from transformers) (0.2.1)\n",
            "Requirement already satisfied: typing-extensions>=3.7.4.3 in /usr/local/lib/python3.7/dist-packages (from huggingface-hub<1.0,>=0.1.0->transformers) (3.10.0.2)\n",
            "Requirement already satisfied: pyparsing!=3.0.5,>=2.0.2 in /usr/local/lib/python3.7/dist-packages (from packaging>=20.0->transformers) (3.0.6)\n",
            "Requirement already satisfied: zipp>=0.5 in /usr/local/lib/python3.7/dist-packages (from importlib-metadata->transformers) (3.6.0)\n",
            "Requirement already satisfied: certifi>=2017.4.17 in /usr/local/lib/python3.7/dist-packages (from requests->transformers) (2021.10.8)\n",
            "Requirement already satisfied: urllib3!=1.25.0,!=1.25.1,<1.26,>=1.21.1 in /usr/local/lib/python3.7/dist-packages (from requests->transformers) (1.24.3)\n",
            "Requirement already satisfied: chardet<4,>=3.0.2 in /usr/local/lib/python3.7/dist-packages (from requests->transformers) (3.0.4)\n",
            "Requirement already satisfied: idna<3,>=2.5 in /usr/local/lib/python3.7/dist-packages (from requests->transformers) (2.10)\n",
            "Requirement already satisfied: click in /usr/local/lib/python3.7/dist-packages (from sacremoses->transformers) (7.1.2)\n",
            "Requirement already satisfied: joblib in /usr/local/lib/python3.7/dist-packages (from sacremoses->transformers) (1.1.0)\n",
            "Requirement already satisfied: six in /usr/local/lib/python3.7/dist-packages (from sacremoses->transformers) (1.15.0)\n"
          ]
        }
      ]
    },
    {
      "cell_type": "code",
      "source": [
        "import os\n",
        "import time\n",
        "import pickle\n",
        "import pandas as pd\n",
        "from tqdm import tqdm\n",
        "from typing import List, Tuple, NamedTuple, Any\n",
        "from transformers import BertModel, BertTokenizer\n",
        "\n",
        "DATA_PATH = \"github_data\"\n",
        "# BERT_MODEL_NAME = \"prajjwal1/bert-tiny\"\n",
        "BERT_MODEL_NAME = \"prajjwal1/bert-small\" # F1-score of 0.73\n",
        "#BERT_MODEL_NAME = \"bert-base-uncased\" # F1-score of 0.77\n",
        "\n",
        "# Could effect the record with synopsis, but as there aren't many with tokens > 512, ignore for now\n",
        "MAX_TOKENS_LENGTH = 512 \n",
        "\n",
        "VERBOSE = True\n",
        "\n",
        "def tuple_to_df(data: List[Tuple]) -> pd.DataFrame:\n",
        "    return pd.DataFrame(data, columns=[\"class\", \"title\", \"synopsis\", \"id\"])\n",
        "\n",
        "\n",
        "def tuple_to_df(data: List[Tuple]) -> pd.DataFrame:\n",
        "    return pd.DataFrame(data, columns=[\"class\", \"title\", \"synopsis\", \"id\"])\n",
        "\n",
        "def load(data_path):\n",
        "    with open(data_path, 'rb') as f:\n",
        "        classes = pickle.load(f)\n",
        "        train = pickle.load(f)\n",
        "        test = pickle.load(f)\n",
        "\n",
        "        return classes, tuple_to_df(train), tuple_to_df(test)\n",
        "\n",
        "_, train, test = load(\"/content/drive/My Drive/trainTest.pk\")\n",
        "bert_tokenizer = BertTokenizer.from_pretrained(BERT_MODEL_NAME)\n",
        "model = BertModel.from_pretrained(BERT_MODEL_NAME)\n",
        "\n",
        "def vprint(s):\n",
        "    if VERBOSE:\n",
        "        print(s)\n",
        "\n",
        "class BertData(NamedTuple):\n",
        "    train_title_embds: Any = None\n",
        "    train_sypnosis_embds: Any = None\n",
        "    test_title_embds: Any = None\n",
        "    test_sypnosis_embds: Any = None\n",
        "\n",
        "def from_sentences_to_bert_embeddings(sentences: List[str]):\n",
        "    outputs = []\n",
        "    for sentence in tqdm(sentences):\n",
        "        inputs = bert_tokenizer(sentence, truncation=True, max_length=MAX_TOKENS_LENGTH, return_tensors=\"pt\")\n",
        "        output = model(**inputs)\n",
        "        outputs.append(output.last_hidden_state.squeeze(0).detach().numpy())\n",
        "    return outputs\n",
        "\n",
        "vprint(\"Getting BERT embeddings...\")\n",
        "\n",
        "result = []\n",
        "\n",
        "import os\n",
        "\n",
        "#BERT_FILE = \"/content/bert_data_base_uncase.pk\"\n",
        "BERT_FILE = \"/content/bert-small.pk\"\n",
        "if not os.path.isfile(BERT_FILE):\n",
        "  print(\"File not found, loading...\")\n",
        "  for (titles, synopsis, name) in [(test.title, test.synopsis, \"test\"),(train.title, train.synopsis, \"train\")]:\n",
        "      title_embeddings = from_sentences_to_bert_embeddings(titles)\n",
        "      synopsis_embeddings = from_sentences_to_bert_embeddings(synopsis)\n",
        "      assert len(title_embeddings) == len(synopsis_embeddings), f\"Title lengths({len(title_embeddings)}) is not equal to synopsis's({len(synopsis_embeddings)})\"\n",
        "      result.append([title_embeddings, synopsis_embeddings])\n",
        "  data = BertData(result[-1][0], result[-1][1], result[0][0], result[0][1])\n",
        "  with open(BERT_FILE, 'wb') as f:\n",
        "      pickle.dump(data, f)\n",
        "else:\n",
        "  print(\"File found, loading...\")\n",
        "  with open(BERT_FILE, \"rb\") as f:\n",
        "    data = pickle.load(f)"
      ],
      "metadata": {
        "colab": {
          "base_uri": "https://localhost:8080/",
          "height": 298,
          "referenced_widgets": [
            "dc78574ebdb64b348b5805bf411dcbdd",
            "0a47e7c7ea0a49f4a7cae4f9093a6b27",
            "07c8360649fe4a65a722c540567ad7b4",
            "0214b07cf622471b9a600297aacb84e7",
            "701f4e9436c24ff5a5c3431b39a0808f",
            "324527174b91458eacc840da9d4118db",
            "590cb00f96c74380b807810c37ba33f7",
            "d2f6c68b8f764d8caa7f7f18ba329388",
            "91e205dcc428459ea2b11ff59226fef4",
            "6424a51d8f374e06bea75d0ac7369ca1",
            "30cd11fe0dc14b3fadd2245020e9c853",
            "298865ec79e8402287cd783e8bd4969b",
            "203a030354284e6bbd47048b876eba6b",
            "8a9724e23e934c348ff39f5b903a03e9",
            "e56c08805b68441c8d2688258dac8836",
            "c132a7d01aca4566819f2def34a580c2",
            "45f902647c1843548dc5b94497d73bb6",
            "eb1d5a415e274531afcb1736c5e5cf75",
            "8292c9b850494a108dcf4057626f305c",
            "421505c5357a42f4be3b5ce543b43a24",
            "81d1b22cc44c42bb9be761cb4c8b389f",
            "2518c24d024f47ef8c173c1a603fe8d6",
            "f5d9878e58a24a5e8c8b2f1072a0fd0a",
            "b5abeb9fed024ad8ae19bf6b77e279e1",
            "fd79c7cf1d8b46869c1e5ddb2a3b258b",
            "0c7f19862d2f4957a84ebf859cac32bf",
            "59b2f299a171458dbb6bbab0ddd6a97c",
            "b504a8c6cdf3416c8981e544ffa0311f",
            "ddf0e142a2224e1491bf4e16d5cdfd3a",
            "8cb0418c6aa340258ffbf0952f28e81a",
            "a142abcd891e4f67b884e3986157893b",
            "238e9094973743bab8bca885b06ace2b",
            "c47c0b9e67974e58abcb749a2ae1cb91"
          ]
        },
        "id": "if6W8z8FX1Vh",
        "outputId": "5a121c9b-076e-48f5-a4bb-1c8f20a4f21b"
      },
      "execution_count": 5,
      "outputs": [
        {
          "output_type": "display_data",
          "data": {
            "application/vnd.jupyter.widget-view+json": {
              "model_id": "dc78574ebdb64b348b5805bf411dcbdd",
              "version_minor": 0,
              "version_major": 2
            },
            "text/plain": [
              "Downloading:   0%|          | 0.00/226k [00:00<?, ?B/s]"
            ]
          },
          "metadata": {}
        },
        {
          "output_type": "display_data",
          "data": {
            "application/vnd.jupyter.widget-view+json": {
              "model_id": "298865ec79e8402287cd783e8bd4969b",
              "version_minor": 0,
              "version_major": 2
            },
            "text/plain": [
              "Downloading:   0%|          | 0.00/286 [00:00<?, ?B/s]"
            ]
          },
          "metadata": {}
        },
        {
          "output_type": "display_data",
          "data": {
            "application/vnd.jupyter.widget-view+json": {
              "model_id": "f5d9878e58a24a5e8c8b2f1072a0fd0a",
              "version_minor": 0,
              "version_major": 2
            },
            "text/plain": [
              "Downloading:   0%|          | 0.00/111M [00:00<?, ?B/s]"
            ]
          },
          "metadata": {}
        },
        {
          "output_type": "stream",
          "name": "stderr",
          "text": [
            "Some weights of the model checkpoint at prajjwal1/bert-small were not used when initializing BertModel: ['cls.predictions.transform.dense.bias', 'cls.predictions.decoder.weight', 'cls.seq_relationship.weight', 'cls.predictions.transform.LayerNorm.bias', 'cls.seq_relationship.bias', 'cls.predictions.decoder.bias', 'cls.predictions.bias', 'cls.predictions.transform.dense.weight', 'cls.predictions.transform.LayerNorm.weight']\n",
            "- This IS expected if you are initializing BertModel from the checkpoint of a model trained on another task or with another architecture (e.g. initializing a BertForSequenceClassification model from a BertForPreTraining model).\n",
            "- This IS NOT expected if you are initializing BertModel from the checkpoint of a model that you expect to be exactly identical (initializing a BertForSequenceClassification model from a BertForSequenceClassification model).\n"
          ]
        },
        {
          "output_type": "stream",
          "name": "stdout",
          "text": [
            "Getting BERT embeddings...\n",
            "File not found, loading...\n"
          ]
        },
        {
          "output_type": "stream",
          "name": "stderr",
          "text": [
            "100%|██████████| 3000/3000 [00:44<00:00, 67.51it/s]\n",
            "100%|██████████| 3000/3000 [01:23<00:00, 35.77it/s]\n",
            "100%|██████████| 25526/25526 [06:06<00:00, 69.63it/s]\n",
            "100%|██████████| 25526/25526 [11:49<00:00, 35.97it/s]\n"
          ]
        }
      ]
    },
    {
      "cell_type": "code",
      "source": [
        "data.train_sypnosis_embds[0].shape"
      ],
      "metadata": {
        "colab": {
          "base_uri": "https://localhost:8080/"
        },
        "id": "K-YxlCB3zy0f",
        "outputId": "789ab5e0-7575-4cc2-d3b6-141db832ee36"
      },
      "execution_count": 6,
      "outputs": [
        {
          "output_type": "execute_result",
          "data": {
            "text/plain": [
              "(17, 512)"
            ]
          },
          "metadata": {},
          "execution_count": 6
        }
      ]
    },
    {
      "cell_type": "code",
      "source": [
        "import numpy as np\n",
        "from abc import ABC\n",
        "import pandas as pd\n",
        "from typing import Iterable, Tuple, List, NamedTuple, Any\n",
        "import torch\n",
        "from os import PathLike, path\n",
        "import pickle\n",
        "from sklearn import preprocessing\n",
        "from torch.nn.utils.rnn import pack_padded_sequence, pad_packed_sequence, pack_sequence\n",
        "# DATA\n",
        "\n",
        "class DataBase(ABC, Iterable):\n",
        "    def __len__(self):\n",
        "        'Denotes the total number of samples' \n",
        "        pass\n",
        "\n",
        "    def __getitem__(self, index):\n",
        "        'Generates one sample of data'\n",
        "        # Select sample\n",
        "        pass\n",
        "\n",
        "    def get_all(self):\n",
        "        'Generates one sample of data'\n",
        "        # Select sample\n",
        "        pass\n",
        "\n",
        "    def __iter__(self):\n",
        "        pass\n",
        "\n",
        "    def __next__(self): \n",
        "        pass\n",
        "\n",
        "def load_pickle_bert(file_path: str) -> BertData:\n",
        "    with open(path.join(file_path, 'bert_train.pk'), 'rb') as f:\n",
        "        [tr_title_embeddings, tr_synopsis_embeddings] = pickle.load(f)\n",
        "\n",
        "    with open(path.join(file_path, 'bert_test.pk'), 'rb') as f:\n",
        "        [te_title_embeddings, te_synopsis_embeddings] = pickle.load(f)\n",
        "\n",
        "    return BertData(\n",
        "            tr_title_embeddings,\n",
        "            tr_synopsis_embeddings,\n",
        "            te_title_embeddings,\n",
        "            te_synopsis_embeddings\n",
        "            )\n",
        "\n",
        "class Keys:\n",
        "    TRAIN_TITLE=\"train_title\" \n",
        "    TRAIN_SYN=\"train_synopsis\"\n",
        "    TEST_TITLE=\"test_title\"\n",
        "    TEST_SYN=\"test_synopsis\"\n",
        "\n",
        "\n",
        "def prep_embds(embds):\n",
        "    sentence_lengths = np.array([e.shape[0] for e in embds])\n",
        "    sentence_lengths = np.argsort(-sentence_lengths)\n",
        "    return (np.array([torch.Tensor(e).to(dev) for e in embds], dtype=object), sentence_lengths)\n",
        "\n",
        "class DatasetRaw(DataBase):\n",
        "    def __init__(self, data: BertData, batch_size:int=512, shuffle:bool=True, max_words:int=100):\n",
        "        le = preprocessing.LabelEncoder()\n",
        "        y_train = le.fit_transform(train[\"class\"])\n",
        "        y_test = le.transform(test[\"class\"])\n",
        "\n",
        "        self.data = data\n",
        "\n",
        "        self.features = {}\n",
        "        self.features[Keys.TRAIN_SYN], train_idxes = prep_embds(data.train_sypnosis_embds)\n",
        "        self.features[Keys.TRAIN_SYN] = self.features[Keys.TRAIN_SYN][train_idxes]\n",
        "        self.features[Keys.TRAIN_TITLE], _ = prep_embds(data.train_title_embds)\n",
        "        self.features[Keys.TRAIN_TITLE] = self.features[Keys.TRAIN_TITLE][train_idxes]\n",
        "        \n",
        "        self.features[Keys.TEST_SYN], test_idxes = prep_embds(data.test_sypnosis_embds)\n",
        "        self.features[Keys.TEST_SYN] = self.features[Keys.TEST_SYN][test_idxes]\n",
        "        self.features[Keys.TEST_TITLE], _ = prep_embds(data.test_title_embds)\n",
        "        self.features[Keys.TEST_TITLE] = self.features[Keys.TEST_TITLE][test_idxes]\n",
        "        \n",
        "        self.train_length = len(self.features[Keys.TRAIN_TITLE])\n",
        "        \n",
        "        self.y_train = torch.Tensor(y_train[train_idxes]).long().to(dev)\n",
        "        self.y_test = torch.Tensor(y_test[test_idxes]).long().to(dev)\n",
        "\n",
        "        self.batch_size = batch_size\n",
        "        self.current = 0\n",
        "        self.shuffle = shuffle\n",
        "\n",
        "        self.epoch_idxes = np.arange(self.train_length,dtype=int)\n",
        "        if self.shuffle:\n",
        "            np.random.shuffle(self.epoch_idxes)\n",
        "\n",
        "\n",
        "    def __len__(self):\n",
        "        'Denotes the total number of samples' \n",
        "        return self.train_length\n",
        "\n",
        "    def __getitem__(self, index):\n",
        "        'Generates one sample of data'\n",
        "        # Select sample\n",
        "        return self.features[Keys.TRAIN_TITLE][index], self.y_train[index]\n",
        "\n",
        "    def pack(self, title, synop):\n",
        "        t_padded = pack_sequence(list(title), enforce_sorted=False)\n",
        "        s_padded = pack_sequence(list(synop))\n",
        "\n",
        "        return {\n",
        "                \"x\":t_padded,\n",
        "                \"synop\":s_padded,\n",
        "                \"x_lengths\":len(title)\n",
        "                }\n",
        "\n",
        "    def get_all(self):\n",
        "        # Do paddings\n",
        "        return (\n",
        "                #self.pack(self.features[Keys.TRAIN_TITLE], self.features[Keys.TRAIN_SYN]),\n",
        "                #self.y_train,\n",
        "                self.pack(self.features[Keys.TEST_TITLE], self.features[Keys.TEST_SYN]),\n",
        "                self.y_test\n",
        "                )\n",
        "\n",
        "    def __iter__(self):\n",
        "        return self\n",
        "\n",
        "    def __next__(self):\n",
        "        # TODO: Batch sorted by sentence sizes, shuffle only batch but not inside the batch.\n",
        "        if self.current >= self.train_length:\n",
        "            self.current = 0\n",
        "            if self.shuffle:\n",
        "                np.random.shuffle(self.epoch_idxes)\n",
        "            raise StopIteration\n",
        "\n",
        "        c = self.current\n",
        "        self.current += self.batch_size\n",
        "        selecting_row = self.epoch_idxes[c:c+self.batch_size]\n",
        "        return self.pack(self.features[Keys.TRAIN_TITLE][selecting_row], self.features[Keys.TRAIN_SYN][selecting_row]), self.y_train[selecting_row]\n",
        "\n",
        "data_loader = DatasetRaw(data, shuffle=False)\n",
        "data_loader.__next__()\n",
        "print(\"passed\")"
      ],
      "metadata": {
        "colab": {
          "base_uri": "https://localhost:8080/"
        },
        "id": "D9Pkc3O5RrEN",
        "outputId": "3e0f6699-8dcb-4714-b844-1e1e89b53433"
      },
      "execution_count": 7,
      "outputs": [
        {
          "output_type": "stream",
          "name": "stdout",
          "text": [
            "passed\n"
          ]
        }
      ]
    },
    {
      "cell_type": "code",
      "source": [
        "import torch\n",
        "from torch.autograd import Variable\n",
        "import torch.nn as nn\n",
        "import torch.nn.functional as F\n",
        "from torch.nn.utils.rnn import pack_padded_sequence, pad_packed_sequence, pack_sequence\n",
        "\n",
        "class LSTM(nn.Module):\n",
        "    def __init__(self, input_dims: int, num_class: int, hidden_dim:int, num_layers: int):\n",
        "        super().__init__()\n",
        "        self.hidden_dim = hidden_dim        \n",
        "        self.lstm_layers = num_layers\n",
        "\n",
        "        self.EMB_SIZE = input_dims\n",
        "        self.title_lstm = nn.LSTM(input_dims, self.hidden_dim, self.lstm_layers, batch_first=True)\n",
        "        self.synop_lstm = nn.LSTM(input_dims, self.hidden_dim, self.lstm_layers, batch_first=True)\n",
        "        self.dropout = nn.Dropout(p=0.2)\n",
        "\n",
        "        self.final = nn.Linear(self.hidden_dim * 2, num_class)\n",
        "        self.relu = nn.ReLU()\n",
        "\n",
        "    # Expect 1 row for now\n",
        "    def forward(self, x, x_lengths, synop):\n",
        "        h_0 = Variable(torch.zeros(self.lstm_layers, x_lengths, self.hidden_dim)).to(dev) #hidden state\n",
        "        c_0 = Variable(torch.zeros(self.lstm_layers, x_lengths, self.hidden_dim)).to(dev) #hidden state        \n",
        "\n",
        "        title_lstm_out, _ = self.title_lstm(x, (h_0, c_0))\n",
        "        seq_unpacked, lens_unpacked = pad_packed_sequence(title_lstm_out, batch_first=True)\n",
        "        title_outputs = self.last_timestep(seq_unpacked, lens_unpacked)\n",
        "\n",
        "        h_1 = Variable(torch.zeros(self.lstm_layers, x_lengths, self.hidden_dim)).to(dev) #hidden state\n",
        "        c_1 = Variable(torch.zeros(self.lstm_layers, x_lengths, self.hidden_dim)).to(dev) #hidden state                \n",
        "        synop_lstm_out, _ = self.synop_lstm(synop, (h_1, c_1))\n",
        "        seq_unpacked, lens_unpacked = pad_packed_sequence(synop_lstm_out, batch_first=True)\n",
        "        synop_outputs = self.last_timestep(seq_unpacked, lens_unpacked)\n",
        "\n",
        "        output = torch.cat((title_outputs, synop_outputs), dim=1)\n",
        "        output = self.final(output)\n",
        "        return output\n",
        "\n",
        "\n",
        "    def last_timestep(self, unpacked, lengths):\n",
        "        # Index of the last output for each sequence.\n",
        "        idx = (lengths - 1).view(-1, 1).expand(unpacked.size(0),\n",
        "                                               unpacked.size(2)).unsqueeze(1).to(dev)\n",
        "        return unpacked.gather(1, idx).squeeze()\n",
        "\n",
        "    def predict(self, X):\n",
        "        return torch.argmax(self.forward(**X), dim=1)"
      ],
      "metadata": {
        "id": "0c0dOuGuRr4r"
      },
      "execution_count": 8,
      "outputs": []
    },
    {
      "cell_type": "code",
      "source": [
        "from tqdm import tqdm\n",
        "from typing import Dict, Any\n",
        "import torch\n",
        "import torch.nn as nn\n",
        "import torch.nn.functional as F\n",
        "import torch.nn as nn\n",
        "import torch.optim as optim\n",
        "import functools\n",
        "import numpy as np\n",
        "import pandas as pd\n",
        "from typing import Callable, Dict, List, Any\n",
        "from sklearn.experimental import enable_halving_search_cv\n",
        "from sklearn.model_selection import HalvingGridSearchCV\n",
        "RANDOM_STATE = 1024\n",
        "from sklearn.metrics import precision_recall_fscore_support, accuracy_score, confusion_matrix\n",
        "\n",
        "class TrainedModel(NamedTuple):\n",
        "    name: str\n",
        "    model: Any # Any function that has .predict_proba()\n",
        "    info: Dict[str, Any] # Information about the training (e.g., is_train?, with_sypnosis?)      \n",
        "\n",
        "\n",
        "def evaluate_many(models: List[TrainedModel],X_test, y_test):\n",
        "    results = []\n",
        "    for trained_model in models:\n",
        "        clf = trained_model.model\n",
        "        y_test_pred = clf.predict(X_test).cpu()\n",
        "\n",
        "        test_row = evaluate(y_test_pred, y_test.cpu(), trained_model.name, trained_model.info)\n",
        "        test_row[\"is_train\"] = False\n",
        "        results.append(test_row)\n",
        "\n",
        "    return pd.DataFrame(results)\n",
        "  \n",
        "def precision_recall_f1(label, prediction) -> Dict[str, float]:\n",
        "    p, r, f, _ = precision_recall_fscore_support(label, prediction, average=\"macro\")\n",
        "\n",
        "    return {\n",
        "            \"precision\": p,\n",
        "            \"recall\": r,\n",
        "            \"f1_score\": f\n",
        "    }\n",
        "\n",
        "def accuracy(label, prediction) -> Dict[str, float]:\n",
        "    return {\n",
        "            \"accuracy\": accuracy_score(label, prediction)\n",
        "            }\n",
        "\n",
        "def evaluate(\n",
        "        prediction,\n",
        "        label,\n",
        "        name: str,\n",
        "        info: Dict[str, Any],\n",
        "        flows: List[Callable] = [accuracy, precision_recall_f1]\n",
        "        ):\n",
        "\n",
        "    flows = flows + [lambda a, b: {\"name\": name}]\n",
        "    results = [f(label, prediction) for f in flows] + [info]\n",
        "\n",
        "    return functools.reduce(\n",
        "        lambda a,b: {**a, **b}, # Adding two dicts together.\n",
        "        results\n",
        "        )\n",
        "\n",
        "class PyTorchTrainer():\n",
        "\n",
        "    @staticmethod\n",
        "    def fit(\n",
        "            data_loader: DataBase,\n",
        "            model: nn.Module,\n",
        "            train_params: Dict[str, Any],\n",
        "            on_epoch_end: Callable,\n",
        "            ):\n",
        "        criterion = nn.CrossEntropyLoss()\n",
        "        optimizer = optim.Adam(model.parameters(), lr=train_params.get(\"lr\", 0.0001))\n",
        "        early_stopping_num = train_params.get(\"early_stopping_num\", None)\n",
        "        last_round_eval_loss = 0\n",
        "\n",
        "        X_test, y_test = data_loader.get_all()\n",
        "\n",
        "        for epoch in tqdm(range(train_params.get(\"epochs\", 10)), desc=\"epochs\"):  # loop over the dataset multiple times\n",
        "            running_loss = 0.0\n",
        "            metrics = {\n",
        "                \"losses\": [],\n",
        "                \"epochs\": epoch\n",
        "            }\n",
        "            for i, (inputs, labels) in enumerate(data_loader):\n",
        "                optimizer.zero_grad()\n",
        "                outputs = model(**inputs)\n",
        "                loss = criterion(outputs, labels)\n",
        "                metrics[\"losses\"].append(loss.item())\n",
        "                loss.backward()\n",
        "                optimizer.step()\n",
        "            \n",
        "            eval_loss = criterion(model(**X_test), y_test)\n",
        "            metrics[\"eval_loss\"] = eval_loss.item()\n",
        "            on_epoch_end(metrics)\n",
        "            if epoch % 5 == 0:\n",
        "              print(\"==\")\n",
        "              print(f\"Train loss: {loss.item():.5f}\")\n",
        "              print(f\"Eval  loss: {eval_loss.item():.5f}\")\n",
        "              print(f\"Improvement: {last_round_eval_loss - eval_loss}\")\n",
        "              print(\"==\")\n",
        "\n",
        "            if early_stopping_num is not None and (last_round_eval_loss - eval_loss) < train_params.get(\"delta\", 0.001):\n",
        "                early_stopping_num -= 1\n",
        "                if early_stopping_num <= 0:\n",
        "                    print(\"Early stopping! Eval loss hasn't improved for sometimes\")\n",
        "                    break\n",
        "            else:\n",
        "              # Reset the early stopping count\n",
        "              early_stopping_num = train_params.get(\"early_stopping_num\", None)\n",
        "\n",
        "            last_round_eval_loss = eval_loss\n",
        "            if epoch % train_params.get(\"report_epochs\", 30) == (train_params.get(\"report_epochs\",30) - 1):\n",
        "                _model = TrainedModel(name=\"pytorch_mlp\", model=model, info={\"epochs\": epoch})\n",
        "                result_df_1 = evaluate_many([_model], X_test, y_test)\n",
        "                print(\"===\")\n",
        "                print(result_df_1.head(10))\n",
        "            \n",
        "        print(\"Training done!\")\n",
        "        result_df_1 = evaluate_many([_model], X_test, y_test)\n",
        "        print(\"===\")\n",
        "        print(result_df_1.head(10))        \n",
        "        return None"
      ],
      "metadata": {
        "id": "ZUeK-ZzjUHhd"
      },
      "execution_count": 9,
      "outputs": []
    },
    {
      "cell_type": "code",
      "source": [
        "import matplotlib.pyplot as plt\n",
        "training_params = {\n",
        "        \"epochs\": 600,\n",
        "        \"lr\": 0.001,\n",
        "        \"report_epochs\":5,\n",
        "        \"early_stopping_num\": 20,\n",
        "        \"delta\": 0.0001\n",
        "}\n",
        "\n",
        "tmp, _ = data_loader.__next__()\n",
        "model = LSTM(data_loader[0][0].shape[1], 15, 128, 2).to(dev)\n",
        "lstm_output = model.forward(**tmp)\n",
        "\n",
        "losses = []\n",
        "def report(metrics):\n",
        "  losses.extend(metrics[\"losses\"])\n",
        "  if metrics[\"epochs\"] % 10 == 0:\n",
        "    plt.clf()\n",
        "    plt.plot(losses)\n",
        "    plt.show()\n",
        "\n",
        "PyTorchTrainer.fit(data_loader, model, training_params, report)"
      ],
      "metadata": {
        "id": "6vHRJOZsWcXe",
        "colab": {
          "base_uri": "https://localhost:8080/",
          "height": 1000
        },
        "outputId": "dfa5ccd1-b5f0-4cc3-f6d5-dd618a52c4ca"
      },
      "execution_count": 13,
      "outputs": [
        {
          "output_type": "stream",
          "name": "stderr",
          "text": [
            "\repochs:   0%|          | 0/600 [00:00<?, ?it/s]"
          ]
        },
        {
          "output_type": "display_data",
          "data": {
            "image/png": "[encoded data removed]",
            "text/plain": [
              "<Figure size 432x288 with 1 Axes>"
            ]
          },
          "metadata": {
            "needs_background": "light"
          }
        },
        {
          "output_type": "stream",
          "name": "stderr",
          "text": [
            "\repochs:   0%|          | 1/600 [00:02<24:10,  2.42s/it]"
          ]
        },
        {
          "output_type": "stream",
          "name": "stdout",
          "text": [
            "==\n",
            "Train loss: 1.92702\n",
            "Eval  loss: 1.70123\n",
            "Improvement: -1.7012271881103516\n",
            "==\n"
          ]
        },
        {
          "output_type": "stream",
          "name": "stderr",
          "text": [
            "epochs:   1%|          | 5/600 [00:11<22:36,  2.28s/it]"
          ]
        },
        {
          "output_type": "stream",
          "name": "stdout",
          "text": [
            "===\n",
            "   accuracy  precision    recall  f1_score         name  epochs  is_train\n",
            "0  0.655667   0.661468  0.655667  0.652911  pytorch_mlp       4     False\n"
          ]
        },
        {
          "output_type": "stream",
          "name": "stderr",
          "text": [
            "\repochs:   1%|          | 6/600 [00:13<22:32,  2.28s/it]"
          ]
        },
        {
          "output_type": "stream",
          "name": "stdout",
          "text": [
            "==\n",
            "Train loss: 0.89528\n",
            "Eval  loss: 1.11012\n",
            "Improvement: -0.004317641258239746\n",
            "==\n"
          ]
        },
        {
          "output_type": "stream",
          "name": "stderr",
          "text": [
            "epochs:   2%|▏         | 10/600 [00:22<22:40,  2.31s/it]"
          ]
        },
        {
          "output_type": "stream",
          "name": "stdout",
          "text": [
            "===\n",
            "   accuracy  precision    recall  f1_score         name  epochs  is_train\n",
            "0  0.681333   0.687952  0.681333  0.677952  pytorch_mlp       9     False\n"
          ]
        },
        {
          "output_type": "display_data",
          "data": {
            "image/png": "[encoded data removed]",
            "text/plain": [
              "<Figure size 432x288 with 1 Axes>"
            ]
          },
          "metadata": {
            "needs_background": "light"
          }
        },
        {
          "output_type": "stream",
          "name": "stderr",
          "text": [
            "\repochs:   2%|▏         | 11/600 [00:25<23:12,  2.36s/it]"
          ]
        },
        {
          "output_type": "stream",
          "name": "stdout",
          "text": [
            "==\n",
            "Train loss: 0.56940\n",
            "Eval  loss: 1.08569\n",
            "Improvement: -0.013037681579589844\n",
            "==\n"
          ]
        },
        {
          "output_type": "stream",
          "name": "stderr",
          "text": [
            "epochs:   2%|▎         | 15/600 [00:34<22:18,  2.29s/it]"
          ]
        },
        {
          "output_type": "stream",
          "name": "stdout",
          "text": [
            "===\n",
            "   accuracy  precision    recall  f1_score         name  epochs  is_train\n",
            "0  0.670333   0.683881  0.670333  0.667989  pytorch_mlp      14     False\n"
          ]
        },
        {
          "output_type": "stream",
          "name": "stderr",
          "text": [
            "\repochs:   3%|▎         | 16/600 [00:36<22:55,  2.36s/it]"
          ]
        },
        {
          "output_type": "stream",
          "name": "stdout",
          "text": [
            "==\n",
            "Train loss: 0.35615\n",
            "Eval  loss: 1.17139\n",
            "Improvement: 0.013684630393981934\n",
            "==\n"
          ]
        },
        {
          "output_type": "stream",
          "name": "stderr",
          "text": [
            "epochs:   3%|▎         | 20/600 [00:46<22:22,  2.31s/it]"
          ]
        },
        {
          "output_type": "stream",
          "name": "stdout",
          "text": [
            "===\n",
            "   accuracy  precision    recall  f1_score         name  epochs  is_train\n",
            "0  0.676667   0.694882  0.676667  0.677275  pytorch_mlp      19     False\n"
          ]
        },
        {
          "output_type": "display_data",
          "data": {
            "image/png": "[encoded data removed]",
            "text/plain": [
              "<Figure size 432x288 with 1 Axes>"
            ]
          },
          "metadata": {
            "needs_background": "light"
          }
        },
        {
          "output_type": "stream",
          "name": "stderr",
          "text": [
            "\repochs:   4%|▎         | 21/600 [00:48<22:44,  2.36s/it]"
          ]
        },
        {
          "output_type": "stream",
          "name": "stdout",
          "text": [
            "==\n",
            "Train loss: 0.19742\n",
            "Eval  loss: 1.30087\n",
            "Improvement: -0.01678943634033203\n",
            "==\n"
          ]
        },
        {
          "output_type": "stream",
          "name": "stderr",
          "text": [
            "epochs:   4%|▍         | 25/600 [00:57<22:05,  2.30s/it]"
          ]
        },
        {
          "output_type": "stream",
          "name": "stdout",
          "text": [
            "===\n",
            "   accuracy  precision  recall  f1_score         name  epochs  is_train\n",
            "0     0.685   0.695381   0.685  0.684205  pytorch_mlp      24     False\n"
          ]
        },
        {
          "output_type": "stream",
          "name": "stderr",
          "text": [
            "\repochs:   4%|▍         | 26/600 [00:59<21:50,  2.28s/it]"
          ]
        },
        {
          "output_type": "stream",
          "name": "stdout",
          "text": [
            "==\n",
            "Train loss: 0.09839\n",
            "Eval  loss: 1.43792\n",
            "Improvement: -0.032917141914367676\n",
            "==\n"
          ]
        },
        {
          "output_type": "stream",
          "name": "stderr",
          "text": [
            "epochs:   5%|▌         | 30/600 [01:08<21:38,  2.28s/it]"
          ]
        },
        {
          "output_type": "stream",
          "name": "stdout",
          "text": [
            "===\n",
            "   accuracy  precision  recall  f1_score         name  epochs  is_train\n",
            "0     0.657   0.684773   0.657  0.660087  pytorch_mlp      29     False\n"
          ]
        },
        {
          "output_type": "display_data",
          "data": {
            "image/png": "[encoded data removed]",
            "text/plain": [
              "<Figure size 432x288 with 1 Axes>"
            ]
          },
          "metadata": {
            "needs_background": "light"
          }
        },
        {
          "output_type": "stream",
          "name": "stderr",
          "text": [
            "\repochs:   5%|▌         | 31/600 [01:11<22:01,  2.32s/it]"
          ]
        },
        {
          "output_type": "stream",
          "name": "stdout",
          "text": [
            "==\n",
            "Train loss: 0.11049\n",
            "Eval  loss: 1.49291\n",
            "Improvement: 0.10587012767791748\n",
            "==\n"
          ]
        },
        {
          "output_type": "stream",
          "name": "stderr",
          "text": [
            "epochs:   6%|▌         | 35/600 [01:20<21:42,  2.31s/it]"
          ]
        },
        {
          "output_type": "stream",
          "name": "stdout",
          "text": [
            "===\n",
            "   accuracy  precision    recall  f1_score         name  epochs  is_train\n",
            "0  0.702667   0.708207  0.702667  0.700987  pytorch_mlp      34     False\n"
          ]
        },
        {
          "output_type": "stream",
          "name": "stderr",
          "text": [
            "\repochs:   6%|▌         | 36/600 [01:22<21:31,  2.29s/it]"
          ]
        },
        {
          "output_type": "stream",
          "name": "stdout",
          "text": [
            "==\n",
            "Train loss: 0.05382\n",
            "Eval  loss: 1.55909\n",
            "Improvement: -0.026412606239318848\n",
            "==\n"
          ]
        },
        {
          "output_type": "stream",
          "name": "stderr",
          "text": [
            "epochs:   7%|▋         | 40/600 [01:31<21:10,  2.27s/it]"
          ]
        },
        {
          "output_type": "stream",
          "name": "stdout",
          "text": [
            "===\n",
            "   accuracy  precision  recall  f1_score         name  epochs  is_train\n",
            "0     0.709   0.715176   0.709  0.710227  pytorch_mlp      39     False\n"
          ]
        },
        {
          "output_type": "display_data",
          "data": {
            "image/png": "[encoded data removed]",
            "text/plain": [
              "<Figure size 432x288 with 1 Axes>"
            ]
          },
          "metadata": {
            "needs_background": "light"
          }
        },
        {
          "output_type": "stream",
          "name": "stderr",
          "text": [
            "\repochs:   7%|▋         | 41/600 [01:34<21:32,  2.31s/it]"
          ]
        },
        {
          "output_type": "stream",
          "name": "stdout",
          "text": [
            "==\n",
            "Train loss: 0.01671\n",
            "Eval  loss: 1.60053\n",
            "Improvement: -0.012987136840820312\n",
            "==\n"
          ]
        },
        {
          "output_type": "stream",
          "name": "stderr",
          "text": [
            "epochs:   8%|▊         | 45/600 [01:43<21:24,  2.31s/it]"
          ]
        },
        {
          "output_type": "stream",
          "name": "stdout",
          "text": [
            "===\n",
            "   accuracy  precision    recall  f1_score         name  epochs  is_train\n",
            "0  0.710333   0.712242  0.710333  0.709291  pytorch_mlp      44     False\n"
          ]
        },
        {
          "output_type": "stream",
          "name": "stderr",
          "text": [
            "\repochs:   8%|▊         | 46/600 [01:45<21:10,  2.29s/it]"
          ]
        },
        {
          "output_type": "stream",
          "name": "stdout",
          "text": [
            "==\n",
            "Train loss: 0.01192\n",
            "Eval  loss: 1.65145\n",
            "Improvement: 0.001251220703125\n",
            "==\n"
          ]
        },
        {
          "output_type": "stream",
          "name": "stderr",
          "text": [
            "epochs:   8%|▊         | 50/600 [01:54<20:52,  2.28s/it]"
          ]
        },
        {
          "output_type": "stream",
          "name": "stdout",
          "text": [
            "===\n",
            "   accuracy  precision    recall  f1_score         name  epochs  is_train\n",
            "0  0.714333   0.716556  0.714333  0.714208  pytorch_mlp      49     False\n"
          ]
        },
        {
          "output_type": "display_data",
          "data": {
            "image/png": "[encoded data removed]",
            "text/plain": [
              "<Figure size 432x288 with 1 Axes>"
            ]
          },
          "metadata": {
            "needs_background": "light"
          }
        },
        {
          "output_type": "stream",
          "name": "stderr",
          "text": [
            "\repochs:   8%|▊         | 51/600 [01:57<21:07,  2.31s/it]"
          ]
        },
        {
          "output_type": "stream",
          "name": "stdout",
          "text": [
            "==\n",
            "Train loss: 0.00577\n",
            "Eval  loss: 1.68095\n",
            "Improvement: -0.009895563125610352\n",
            "==\n"
          ]
        },
        {
          "output_type": "stream",
          "name": "stderr",
          "text": [
            "epochs:   9%|▉         | 55/600 [02:06<20:38,  2.27s/it]"
          ]
        },
        {
          "output_type": "stream",
          "name": "stdout",
          "text": [
            "===\n",
            "   accuracy  precision    recall  f1_score         name  epochs  is_train\n",
            "0  0.710333   0.712024  0.710333  0.710036  pytorch_mlp      54     False\n"
          ]
        },
        {
          "output_type": "stream",
          "name": "stderr",
          "text": [
            "\repochs:   9%|▉         | 56/600 [02:08<20:23,  2.25s/it]"
          ]
        },
        {
          "output_type": "stream",
          "name": "stdout",
          "text": [
            "==\n",
            "Train loss: 0.00429\n",
            "Eval  loss: 1.71747\n",
            "Improvement: -0.00603175163269043\n",
            "==\n"
          ]
        },
        {
          "output_type": "stream",
          "name": "stderr",
          "text": [
            "epochs:  10%|█         | 60/600 [02:17<19:46,  2.20s/it]"
          ]
        },
        {
          "output_type": "stream",
          "name": "stdout",
          "text": [
            "===\n",
            "   accuracy  precision    recall  f1_score         name  epochs  is_train\n",
            "0  0.712333   0.713943  0.712333  0.712002  pytorch_mlp      59     False\n"
          ]
        },
        {
          "output_type": "display_data",
          "data": {
            "image/png": "[encoded data removed]",
            "text/plain": [
              "<Figure size 432x288 with 1 Axes>"
            ]
          },
          "metadata": {
            "needs_background": "light"
          }
        },
        {
          "output_type": "stream",
          "name": "stderr",
          "text": [
            "\repochs:  10%|█         | 61/600 [02:19<20:21,  2.27s/it]"
          ]
        },
        {
          "output_type": "stream",
          "name": "stdout",
          "text": [
            "==\n",
            "Train loss: 0.00339\n",
            "Eval  loss: 1.75462\n",
            "Improvement: -0.013795256614685059\n",
            "==\n"
          ]
        },
        {
          "output_type": "stream",
          "name": "stderr",
          "text": [
            "epochs:  11%|█         | 65/600 [02:28<20:32,  2.30s/it]"
          ]
        },
        {
          "output_type": "stream",
          "name": "stdout",
          "text": [
            "===\n",
            "   accuracy  precision    recall  f1_score         name  epochs  is_train\n",
            "0  0.711333   0.713098  0.711333  0.710965  pytorch_mlp      64     False\n"
          ]
        },
        {
          "output_type": "stream",
          "name": "stderr",
          "text": [
            "\repochs:  11%|█         | 66/600 [02:31<20:23,  2.29s/it]"
          ]
        },
        {
          "output_type": "stream",
          "name": "stdout",
          "text": [
            "==\n",
            "Train loss: 0.00270\n",
            "Eval  loss: 1.78652\n",
            "Improvement: -0.007347226142883301\n",
            "==\n"
          ]
        },
        {
          "output_type": "stream",
          "name": "stderr",
          "text": [
            "epochs:  12%|█▏        | 70/600 [02:40<20:17,  2.30s/it]"
          ]
        },
        {
          "output_type": "stream",
          "name": "stdout",
          "text": [
            "===\n",
            "   accuracy  precision  recall  f1_score         name  epochs  is_train\n",
            "0     0.713   0.714449   0.713  0.712461  pytorch_mlp      69     False\n"
          ]
        },
        {
          "output_type": "display_data",
          "data": {
            "image/png": "[encoded data removed]",
            "text/plain": [
              "<Figure size 432x288 with 1 Axes>"
            ]
          },
          "metadata": {
            "needs_background": "light"
          }
        },
        {
          "output_type": "stream",
          "name": "stderr",
          "text": [
            "\repochs:  12%|█▏        | 71/600 [02:42<20:43,  2.35s/it]"
          ]
        },
        {
          "output_type": "stream",
          "name": "stdout",
          "text": [
            "==\n",
            "Train loss: 0.00225\n",
            "Eval  loss: 1.81649\n",
            "Improvement: -0.00816953182220459\n",
            "==\n"
          ]
        },
        {
          "output_type": "stream",
          "name": "stderr",
          "text": [
            "epochs:  12%|█▎        | 75/600 [02:52<21:00,  2.40s/it]"
          ]
        },
        {
          "output_type": "stream",
          "name": "stdout",
          "text": [
            "===\n",
            "   accuracy  precision    recall  f1_score         name  epochs  is_train\n",
            "0  0.713667   0.715496  0.713667  0.713234  pytorch_mlp      74     False\n"
          ]
        },
        {
          "output_type": "stream",
          "name": "stderr",
          "text": [
            "\repochs:  13%|█▎        | 76/600 [02:54<20:41,  2.37s/it]"
          ]
        },
        {
          "output_type": "stream",
          "name": "stdout",
          "text": [
            "==\n",
            "Train loss: 0.00187\n",
            "Eval  loss: 1.84447\n",
            "Improvement: -0.007582902908325195\n",
            "==\n"
          ]
        },
        {
          "output_type": "stream",
          "name": "stderr",
          "text": [
            "epochs:  13%|█▎        | 80/600 [03:03<20:08,  2.32s/it]"
          ]
        },
        {
          "output_type": "stream",
          "name": "stdout",
          "text": [
            "===\n",
            "   accuracy  precision  recall  f1_score         name  epochs  is_train\n",
            "0     0.713   0.714565   0.713  0.712469  pytorch_mlp      79     False\n"
          ]
        },
        {
          "output_type": "display_data",
          "data": {
            "image/png": "[encoded data removed]",
            "text/plain": [
              "<Figure size 432x288 with 1 Axes>"
            ]
          },
          "metadata": {
            "needs_background": "light"
          }
        },
        {
          "output_type": "stream",
          "name": "stderr",
          "text": [
            "\repochs:  14%|█▎        | 81/600 [03:06<20:20,  2.35s/it]"
          ]
        },
        {
          "output_type": "stream",
          "name": "stdout",
          "text": [
            "==\n",
            "Train loss: 0.00158\n",
            "Eval  loss: 1.87188\n",
            "Improvement: -0.004773855209350586\n",
            "==\n"
          ]
        },
        {
          "output_type": "stream",
          "name": "stderr",
          "text": [
            "epochs:  14%|█▍        | 85/600 [03:15<19:30,  2.27s/it]"
          ]
        },
        {
          "output_type": "stream",
          "name": "stdout",
          "text": [
            "===\n",
            "   accuracy  precision  recall  f1_score         name  epochs  is_train\n",
            "0     0.712   0.713945   0.712  0.711551  pytorch_mlp      84     False\n"
          ]
        },
        {
          "output_type": "stream",
          "name": "stderr",
          "text": [
            "\repochs:  14%|█▍        | 86/600 [03:17<19:21,  2.26s/it]"
          ]
        },
        {
          "output_type": "stream",
          "name": "stdout",
          "text": [
            "==\n",
            "Train loss: 0.00131\n",
            "Eval  loss: 1.89859\n",
            "Improvement: -0.005439162254333496\n",
            "==\n"
          ]
        },
        {
          "output_type": "stream",
          "name": "stderr",
          "text": [
            "epochs:  15%|█▌        | 90/600 [03:26<19:01,  2.24s/it]"
          ]
        },
        {
          "output_type": "stream",
          "name": "stdout",
          "text": [
            "===\n",
            "   accuracy  precision  recall  f1_score         name  epochs  is_train\n",
            "0      0.71   0.711931    0.71  0.709644  pytorch_mlp      89     False\n"
          ]
        },
        {
          "output_type": "display_data",
          "data": {
            "image/png": "[encoded data removed]",
            "text/plain": [
              "<Figure size 432x288 with 1 Axes>"
            ]
          },
          "metadata": {
            "needs_background": "light"
          }
        },
        {
          "output_type": "stream",
          "name": "stderr",
          "text": [
            "\repochs:  15%|█▌        | 91/600 [03:28<19:26,  2.29s/it]"
          ]
        },
        {
          "output_type": "stream",
          "name": "stdout",
          "text": [
            "==\n",
            "Train loss: 0.00114\n",
            "Eval  loss: 1.92535\n",
            "Improvement: -0.00508880615234375\n",
            "==\n"
          ]
        },
        {
          "output_type": "stream",
          "name": "stderr",
          "text": [
            "epochs:  16%|█▌        | 95/600 [03:38<20:56,  2.49s/it]"
          ]
        },
        {
          "output_type": "stream",
          "name": "stdout",
          "text": [
            "===\n",
            "   accuracy  precision    recall  f1_score         name  epochs  is_train\n",
            "0  0.711667    0.71339  0.711667  0.711107  pytorch_mlp      94     False\n"
          ]
        },
        {
          "output_type": "stream",
          "name": "stderr",
          "text": [
            "\repochs:  16%|█▌        | 96/600 [03:40<20:16,  2.41s/it]"
          ]
        },
        {
          "output_type": "stream",
          "name": "stdout",
          "text": [
            "==\n",
            "Train loss: 0.00096\n",
            "Eval  loss: 1.94594\n",
            "Improvement: -0.004317283630371094\n",
            "==\n"
          ]
        },
        {
          "output_type": "stream",
          "name": "stderr",
          "text": [
            "epochs:  17%|█▋        | 100/600 [03:50<19:34,  2.35s/it]"
          ]
        },
        {
          "output_type": "stream",
          "name": "stdout",
          "text": [
            "===\n",
            "   accuracy  precision  recall  f1_score         name  epochs  is_train\n",
            "0     0.712   0.713425   0.712   0.71136  pytorch_mlp      99     False\n"
          ]
        },
        {
          "output_type": "display_data",
          "data": {
            "image/png": "[encoded data removed]",
            "text/plain": [
              "<Figure size 432x288 with 1 Axes>"
            ]
          },
          "metadata": {
            "needs_background": "light"
          }
        },
        {
          "output_type": "stream",
          "name": "stderr",
          "text": [
            "\repochs:  17%|█▋        | 101/600 [03:52<19:38,  2.36s/it]"
          ]
        },
        {
          "output_type": "stream",
          "name": "stdout",
          "text": [
            "==\n",
            "Train loss: 0.00084\n",
            "Eval  loss: 1.97453\n",
            "Improvement: -0.004960894584655762\n",
            "==\n"
          ]
        },
        {
          "output_type": "stream",
          "name": "stderr",
          "text": [
            "epochs:  18%|█▊        | 105/600 [04:01<18:39,  2.26s/it]"
          ]
        },
        {
          "output_type": "stream",
          "name": "stdout",
          "text": [
            "===\n",
            "   accuracy  precision    recall  f1_score         name  epochs  is_train\n",
            "0  0.709333     0.7111  0.709333  0.708743  pytorch_mlp     104     False\n"
          ]
        },
        {
          "output_type": "stream",
          "name": "stderr",
          "text": [
            "\repochs:  18%|█▊        | 106/600 [04:03<18:29,  2.25s/it]"
          ]
        },
        {
          "output_type": "stream",
          "name": "stdout",
          "text": [
            "==\n",
            "Train loss: 0.00072\n",
            "Eval  loss: 2.00107\n",
            "Improvement: -0.008738279342651367\n",
            "==\n"
          ]
        },
        {
          "output_type": "stream",
          "name": "stderr",
          "text": [
            "epochs:  18%|█▊        | 110/600 [04:12<18:16,  2.24s/it]"
          ]
        },
        {
          "output_type": "stream",
          "name": "stdout",
          "text": [
            "===\n",
            "   accuracy  precision  recall  f1_score         name  epochs  is_train\n",
            "0      0.71   0.711512    0.71  0.709091  pytorch_mlp     109     False\n"
          ]
        },
        {
          "output_type": "display_data",
          "data": {
            "image/png": "[encoded data removed]",
            "text/plain": [
              "<Figure size 432x288 with 1 Axes>"
            ]
          },
          "metadata": {
            "needs_background": "light"
          }
        },
        {
          "output_type": "stream",
          "name": "stderr",
          "text": [
            "\repochs:  18%|█▊        | 111/600 [04:14<18:41,  2.29s/it]"
          ]
        },
        {
          "output_type": "stream",
          "name": "stdout",
          "text": [
            "==\n",
            "Train loss: 0.00095\n",
            "Eval  loss: 2.01401\n",
            "Improvement: 0.012738227844238281\n",
            "==\n"
          ]
        },
        {
          "output_type": "stream",
          "name": "stderr",
          "text": [
            "epochs:  19%|█▉        | 115/600 [04:23<18:22,  2.27s/it]"
          ]
        },
        {
          "output_type": "stream",
          "name": "stdout",
          "text": [
            "===\n",
            "   accuracy  precision    recall  f1_score         name  epochs  is_train\n",
            "0  0.691667     0.6984  0.691667   0.69125  pytorch_mlp     114     False\n"
          ]
        },
        {
          "output_type": "stream",
          "name": "stderr",
          "text": [
            "\repochs:  19%|█▉        | 116/600 [04:26<18:18,  2.27s/it]"
          ]
        },
        {
          "output_type": "stream",
          "name": "stdout",
          "text": [
            "==\n",
            "Train loss: 0.06874\n",
            "Eval  loss: 1.69398\n",
            "Improvement: -0.07309198379516602\n",
            "==\n"
          ]
        },
        {
          "output_type": "stream",
          "name": "stderr",
          "text": [
            "epochs:  20%|██        | 120/600 [04:35<18:00,  2.25s/it]"
          ]
        },
        {
          "output_type": "stream",
          "name": "stdout",
          "text": [
            "===\n",
            "   accuracy  precision    recall  f1_score         name  epochs  is_train\n",
            "0  0.708333   0.712266  0.708333  0.708001  pytorch_mlp     119     False\n"
          ]
        },
        {
          "output_type": "display_data",
          "data": {
            "image/png": "[encoded data removed]",
            "text/plain": [
              "<Figure size 432x288 with 1 Axes>"
            ]
          },
          "metadata": {
            "needs_background": "light"
          }
        },
        {
          "output_type": "stream",
          "name": "stderr",
          "text": [
            "\repochs:  20%|██        | 121/600 [04:37<18:31,  2.32s/it]"
          ]
        },
        {
          "output_type": "stream",
          "name": "stdout",
          "text": [
            "==\n",
            "Train loss: 0.00427\n",
            "Eval  loss: 1.75544\n",
            "Improvement: 0.0066623687744140625\n",
            "==\n"
          ]
        },
        {
          "output_type": "stream",
          "name": "stderr",
          "text": [
            "epochs:  21%|██        | 125/600 [04:46<17:52,  2.26s/it]"
          ]
        },
        {
          "output_type": "stream",
          "name": "stdout",
          "text": [
            "===\n",
            "   accuracy  precision    recall  f1_score         name  epochs  is_train\n",
            "0  0.718333   0.719441  0.718333  0.717463  pytorch_mlp     124     False\n"
          ]
        },
        {
          "output_type": "stream",
          "name": "stderr",
          "text": [
            "\repochs:  21%|██        | 126/600 [04:48<17:44,  2.25s/it]"
          ]
        },
        {
          "output_type": "stream",
          "name": "stdout",
          "text": [
            "==\n",
            "Train loss: 0.00234\n",
            "Eval  loss: 1.81575\n",
            "Improvement: -0.009231090545654297\n",
            "==\n"
          ]
        },
        {
          "output_type": "stream",
          "name": "stderr",
          "text": [
            "epochs:  22%|██▏       | 130/600 [04:57<17:58,  2.29s/it]"
          ]
        },
        {
          "output_type": "stream",
          "name": "stdout",
          "text": [
            "===\n",
            "   accuracy  precision  recall  f1_score         name  epochs  is_train\n",
            "0     0.723   0.723796   0.723   0.72207  pytorch_mlp     129     False\n"
          ]
        },
        {
          "output_type": "display_data",
          "data": {
            "image/png": "[encoded data removed]",
            "text/plain": [
              "<Figure size 432x288 with 1 Axes>"
            ]
          },
          "metadata": {
            "needs_background": "light"
          }
        },
        {
          "output_type": "stream",
          "name": "stderr",
          "text": [
            "\repochs:  22%|██▏       | 131/600 [05:00<18:09,  2.32s/it]"
          ]
        },
        {
          "output_type": "stream",
          "name": "stdout",
          "text": [
            "==\n",
            "Train loss: 0.00171\n",
            "Eval  loss: 1.85761\n",
            "Improvement: -0.008434772491455078\n",
            "==\n"
          ]
        },
        {
          "output_type": "stream",
          "name": "stderr",
          "text": [
            "epochs:  22%|██▎       | 135/600 [05:09<17:52,  2.31s/it]"
          ]
        },
        {
          "output_type": "stream",
          "name": "stdout",
          "text": [
            "===\n",
            "   accuracy  precision  recall  f1_score         name  epochs  is_train\n",
            "0     0.723   0.723819   0.723  0.722015  pytorch_mlp     134     False\n"
          ]
        },
        {
          "output_type": "stream",
          "name": "stderr",
          "text": [
            "\repochs:  23%|██▎       | 136/600 [05:11<17:43,  2.29s/it]"
          ]
        },
        {
          "output_type": "stream",
          "name": "stdout",
          "text": [
            "==\n",
            "Train loss: 0.00131\n",
            "Eval  loss: 1.89103\n",
            "Improvement: -0.005332827568054199\n",
            "==\n"
          ]
        },
        {
          "output_type": "stream",
          "name": "stderr",
          "text": [
            "epochs:  23%|██▎       | 140/600 [05:20<17:17,  2.25s/it]"
          ]
        },
        {
          "output_type": "stream",
          "name": "stdout",
          "text": [
            "===\n",
            "   accuracy  precision    recall  f1_score         name  epochs  is_train\n",
            "0  0.722333   0.723437  0.722333  0.721482  pytorch_mlp     139     False\n"
          ]
        },
        {
          "output_type": "display_data",
          "data": {
            "image/png": "[encoded data removed]",
            "text/plain": [
              "<Figure size 432x288 with 1 Axes>"
            ]
          },
          "metadata": {
            "needs_background": "light"
          }
        },
        {
          "output_type": "stream",
          "name": "stderr",
          "text": [
            "\repochs:  23%|██▎       | 140/600 [05:23<17:41,  2.31s/it]"
          ]
        },
        {
          "output_type": "stream",
          "name": "stdout",
          "text": [
            "==\n",
            "Train loss: 0.00106\n",
            "Eval  loss: 1.92224\n",
            "Improvement: -0.006294727325439453\n",
            "==\n",
            "Early stopping! Eval loss hasn't improved for sometimes\n",
            "Training done!\n",
            "===\n",
            "   accuracy  precision    recall  f1_score         name  epochs  is_train\n",
            "0  0.723333   0.724294  0.723333  0.722451  pytorch_mlp     139     False\n"
          ]
        },
        {
          "output_type": "stream",
          "name": "stderr",
          "text": [
            "\n"
          ]
        }
      ]
    },
    {
      "cell_type": "code",
      "source": [
        "torch.save(model, \"/content/bert_lstm_256.pt\")"
      ],
      "metadata": {
        "id": "vOR0-_FP6V-d"
      },
      "execution_count": 11,
      "outputs": []
    },
    {
      "cell_type": "code",
      "source": [
        ""
      ],
      "metadata": {
        "id": "mYkJFGID7ow_"
      },
      "execution_count": 11,
      "outputs": []
    }
  ]
}