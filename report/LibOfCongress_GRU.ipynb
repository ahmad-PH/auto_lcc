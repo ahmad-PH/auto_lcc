{
  "nbformat": 4,
  "nbformat_minor": 0,
  "metadata": {
    "colab": {
      "name": "LibOfCongress_LSTM.ipynb",
      "provenance": [],
      "collapsed_sections": [],
      "machine_shape": "hm",
      "authorship_tag": "ABX9TyNFyoOrP0Z09HWdmQjabbP6",
      "include_colab_link": true
    },
    "kernelspec": {
      "name": "python3",
      "display_name": "Python 3"
    },
    "language_info": {
      "name": "python"
    },
    "accelerator": "GPU"
  },
  "cells": [
    {
      "cell_type": "markdown",
      "metadata": {
        "id": "view-in-github",
        "colab_type": "text"
      },
      "source": [
        "<a href=\"https://colab.research.google.com/github/ahmad-PH/iml_group_proj/blob/main/LibOfCongress_GRU.ipynb\" target=\"_parent\"><img src=\"https://colab.research.google.com/assets/colab-badge.svg\" alt=\"Open In Colab\"/></a>"
      ]
    },
    {
      "cell_type": "code",
      "execution_count": 1,
      "metadata": {
        "colab": {
          "base_uri": "https://localhost:8080/"
        },
        "id": "XZZa-wvdRmuu",
        "outputId": "8e051591-8e0e-4dcf-e069-286f835c94b4"
      },
      "outputs": [
        {
          "output_type": "stream",
          "name": "stdout",
          "text": [
            "1\n"
          ]
        }
      ],
      "source": [
        "import torch\n",
        "\n",
        "import os\n",
        "#assert os.environ['COLAB_TPU_ADDR'], 'Make sure to select TPU from Edit > Notebook settings > Hardware accelerator'\n",
        "\n",
        "# Do the same but pick GPU\n",
        "print(torch.cuda.device_count())\n",
        "cuda0 = torch.device('cuda:0')\n",
        "#!pip install cloud-tpu-client==0.10 torch==1.9.0 https://storage.googleapis.com/tpu-pytorch/wheels/torch_xla-1.9-cp37-cp37m-linux_x86_64.whl"
      ]
    },
    {
      "cell_type": "code",
      "source": [
        "# Checking for GPU in an environment\n",
        "dev = cuda0\n",
        "t1 = torch.ones(3, 3, device = dev)\n",
        "print(t1)\n",
        "\n",
        "torch.cuda.empty_cache()"
      ],
      "metadata": {
        "colab": {
          "base_uri": "https://localhost:8080/"
        },
        "id": "ODzGUDgIRpvr",
        "outputId": "c4e2664a-00ca-4e9d-ce60-0321a5fede85"
      },
      "execution_count": 2,
      "outputs": [
        {
          "output_type": "stream",
          "name": "stdout",
          "text": [
            "tensor([[1., 1., 1.],\n",
            "        [1., 1., 1.],\n",
            "        [1., 1., 1.]], device='cuda:0')\n"
          ]
        }
      ]
    },
    {
      "cell_type": "code",
      "source": [
        "from google.colab import drive\n",
        "drive.mount('/content/drive')"
      ],
      "metadata": {
        "colab": {
          "base_uri": "https://localhost:8080/"
        },
        "id": "RLcnZp4LRqYg",
        "outputId": "98f38823-50e6-4171-a5f3-3eeb65192680"
      },
      "execution_count": 3,
      "outputs": [
        {
          "output_type": "stream",
          "name": "stdout",
          "text": [
            "Drive already mounted at /content/drive; to attempt to forcibly remount, call drive.mount(\"/content/drive\", force_remount=True).\n"
          ]
        }
      ]
    },
    {
      "cell_type": "code",
      "source": [
        "!pip install transformers"
      ],
      "metadata": {
        "colab": {
          "base_uri": "https://localhost:8080/"
        },
        "id": "tXn5K9_MYkDY",
        "outputId": "a87a6664-4678-466d-e1b6-55aef89ed31e"
      },
      "execution_count": 4,
      "outputs": [
        {
          "output_type": "stream",
          "name": "stdout",
          "text": [
            "Requirement already satisfied: transformers in /usr/local/lib/python3.7/dist-packages (4.13.0)\n",
            "Requirement already satisfied: huggingface-hub<1.0,>=0.1.0 in /usr/local/lib/python3.7/dist-packages (from transformers) (0.2.1)\n",
            "Requirement already satisfied: importlib-metadata in /usr/local/lib/python3.7/dist-packages (from transformers) (4.8.2)\n",
            "Requirement already satisfied: filelock in /usr/local/lib/python3.7/dist-packages (from transformers) (3.4.0)\n",
            "Requirement already satisfied: sacremoses in /usr/local/lib/python3.7/dist-packages (from transformers) (0.0.46)\n",
            "Requirement already satisfied: regex!=2019.12.17 in /usr/local/lib/python3.7/dist-packages (from transformers) (2019.12.20)\n",
            "Requirement already satisfied: requests in /usr/local/lib/python3.7/dist-packages (from transformers) (2.23.0)\n",
            "Requirement already satisfied: numpy>=1.17 in /usr/local/lib/python3.7/dist-packages (from transformers) (1.19.5)\n",
            "Requirement already satisfied: tokenizers<0.11,>=0.10.1 in /usr/local/lib/python3.7/dist-packages (from transformers) (0.10.3)\n",
            "Requirement already satisfied: packaging>=20.0 in /usr/local/lib/python3.7/dist-packages (from transformers) (21.3)\n",
            "Requirement already satisfied: tqdm>=4.27 in /usr/local/lib/python3.7/dist-packages (from transformers) (4.62.3)\n",
            "Requirement already satisfied: pyyaml>=5.1 in /usr/local/lib/python3.7/dist-packages (from transformers) (6.0)\n",
            "Requirement already satisfied: typing-extensions>=3.7.4.3 in /usr/local/lib/python3.7/dist-packages (from huggingface-hub<1.0,>=0.1.0->transformers) (3.10.0.2)\n",
            "Requirement already satisfied: pyparsing!=3.0.5,>=2.0.2 in /usr/local/lib/python3.7/dist-packages (from packaging>=20.0->transformers) (3.0.6)\n",
            "Requirement already satisfied: zipp>=0.5 in /usr/local/lib/python3.7/dist-packages (from importlib-metadata->transformers) (3.6.0)\n",
            "Requirement already satisfied: idna<3,>=2.5 in /usr/local/lib/python3.7/dist-packages (from requests->transformers) (2.10)\n",
            "Requirement already satisfied: certifi>=2017.4.17 in /usr/local/lib/python3.7/dist-packages (from requests->transformers) (2021.10.8)\n",
            "Requirement already satisfied: urllib3!=1.25.0,!=1.25.1,<1.26,>=1.21.1 in /usr/local/lib/python3.7/dist-packages (from requests->transformers) (1.24.3)\n",
            "Requirement already satisfied: chardet<4,>=3.0.2 in /usr/local/lib/python3.7/dist-packages (from requests->transformers) (3.0.4)\n",
            "Requirement already satisfied: click in /usr/local/lib/python3.7/dist-packages (from sacremoses->transformers) (7.1.2)\n",
            "Requirement already satisfied: six in /usr/local/lib/python3.7/dist-packages (from sacremoses->transformers) (1.15.0)\n",
            "Requirement already satisfied: joblib in /usr/local/lib/python3.7/dist-packages (from sacremoses->transformers) (1.1.0)\n"
          ]
        }
      ]
    },
    {
      "cell_type": "code",
      "source": [
        "import os\n",
        "import time\n",
        "import pickle\n",
        "import pandas as pd\n",
        "from tqdm import tqdm\n",
        "from typing import List, Tuple, NamedTuple, Any\n",
        "from transformers import BertModel, BertTokenizer\n",
        "\n",
        "DATA_PATH = \"github_data\"\n",
        "# BERT_MODEL_NAME = \"prajjwal1/bert-tiny\"\n",
        "# BERT_MODEL_NAME = \"prajjwal1/bert-small\" # F1-score of 0.73\n",
        "BERT_MODEL_NAME = \"bert-base-uncased\" # F1-score of 0.77\n",
        "\n",
        "# Could effect the record with synopsis, but as there aren't many with tokens > 512, ignore for now\n",
        "MAX_TOKENS_LENGTH = 512 \n",
        "\n",
        "VERBOSE = True\n",
        "\n",
        "def tuple_to_df(data: List[Tuple]) -> pd.DataFrame:\n",
        "    return pd.DataFrame(data, columns=[\"class\", \"title\", \"synopsis\", \"id\"])\n",
        "\n",
        "\n",
        "def tuple_to_df(data: List[Tuple]) -> pd.DataFrame:\n",
        "    return pd.DataFrame(data, columns=[\"class\", \"title\", \"synopsis\", \"id\"])\n",
        "\n",
        "def load(data_path):\n",
        "    with open(data_path, 'rb') as f:\n",
        "        classes = pickle.load(f)\n",
        "        train = pickle.load(f)\n",
        "        test = pickle.load(f)\n",
        "\n",
        "        return classes, tuple_to_df(train), tuple_to_df(test)\n",
        "\n",
        "_, train, test = load(\"/content/drive/My Drive/trainTest.pk\")\n",
        "bert_tokenizer = BertTokenizer.from_pretrained(BERT_MODEL_NAME)\n",
        "model = BertModel.from_pretrained(BERT_MODEL_NAME)\n",
        "\n",
        "def vprint(s):\n",
        "    if VERBOSE:\n",
        "        print(s)\n",
        "\n",
        "class BertData(NamedTuple):\n",
        "    train_title_embds: Any = None\n",
        "    train_sypnosis_embds: Any = None\n",
        "    test_title_embds: Any = None\n",
        "    test_sypnosis_embds: Any = None\n",
        "\n",
        "def from_sentences_to_bert_embeddings(sentences: List[str]):\n",
        "    outputs = []\n",
        "    for sentence in tqdm(sentences):\n",
        "        inputs = bert_tokenizer(sentence, truncation=True, max_length=MAX_TOKENS_LENGTH, return_tensors=\"pt\")\n",
        "        output = model(**inputs)\n",
        "        outputs.append(output.last_hidden_state.squeeze(0).detach().numpy())\n",
        "    return outputs\n",
        "\n",
        "vprint(\"Getting BERT embeddings...\")\n",
        "\n",
        "result = []\n",
        "\n",
        "import os\n",
        "\n",
        "BERT_FILE = \"/content/bert_data_base_uncase.pk\"\n",
        "if not os.path.isfile(BERT_FILE):\n",
        "  print(\"File not found, loading...\")\n",
        "  for (titles, synopsis, name) in [(test.title, test.synopsis, \"test\"),(train.title, train.synopsis, \"train\")]:\n",
        "      title_embeddings = from_sentences_to_bert_embeddings(titles)\n",
        "      synopsis_embeddings = from_sentences_to_bert_embeddings(synopsis)\n",
        "      assert len(title_embeddings) == len(synopsis_embeddings), f\"Title lengths({len(title_embeddings)}) is not equal to synopsis's({len(synopsis_embeddings)})\"\n",
        "      result.append([title_embeddings, synopsis_embeddings])\n",
        "  data = BertData(result[-1][0], result[-1][1], result[0][0], result[0][1])\n",
        "  with open(BERT_FILE, 'wb') as f:\n",
        "      pickle.dump(data, f)\n",
        "else:\n",
        "  print(\"File found, loading...\")\n",
        "  with open(BERT_FILE, \"rb\") as f:\n",
        "    data = pickle.load(f)"
      ],
      "metadata": {
        "colab": {
          "base_uri": "https://localhost:8080/"
        },
        "id": "if6W8z8FX1Vh",
        "outputId": "650709f8-240e-4d1b-f79c-b51065ad5267"
      },
      "execution_count": 5,
      "outputs": [
        {
          "output_type": "stream",
          "name": "stderr",
          "text": [
            "Some weights of the model checkpoint at bert-base-uncased were not used when initializing BertModel: ['cls.predictions.decoder.weight', 'cls.predictions.transform.LayerNorm.weight', 'cls.seq_relationship.weight', 'cls.predictions.transform.dense.bias', 'cls.seq_relationship.bias', 'cls.predictions.transform.LayerNorm.bias', 'cls.predictions.transform.dense.weight', 'cls.predictions.bias']\n",
            "- This IS expected if you are initializing BertModel from the checkpoint of a model trained on another task or with another architecture (e.g. initializing a BertForSequenceClassification model from a BertForPreTraining model).\n",
            "- This IS NOT expected if you are initializing BertModel from the checkpoint of a model that you expect to be exactly identical (initializing a BertForSequenceClassification model from a BertForSequenceClassification model).\n"
          ]
        },
        {
          "output_type": "stream",
          "name": "stdout",
          "text": [
            "Getting BERT embeddings...\n",
            "File found, loading...\n"
          ]
        }
      ]
    },
    {
      "cell_type": "code",
      "source": [
        "data.train_sypnosis_embds[0].shape"
      ],
      "metadata": {
        "colab": {
          "base_uri": "https://localhost:8080/"
        },
        "id": "K-YxlCB3zy0f",
        "outputId": "5dd8885c-76ee-44e5-eed4-c1ddf7676930"
      },
      "execution_count": 6,
      "outputs": [
        {
          "output_type": "execute_result",
          "data": {
            "text/plain": [
              "(17, 768)"
            ]
          },
          "metadata": {},
          "execution_count": 6
        }
      ]
    },
    {
      "cell_type": "code",
      "source": [
        "import numpy as np\n",
        "from abc import ABC\n",
        "import pandas as pd\n",
        "from typing import Iterable, Tuple, List, NamedTuple, Any\n",
        "import torch\n",
        "from os import PathLike, path\n",
        "import pickle\n",
        "from sklearn import preprocessing\n",
        "from torch.nn.utils.rnn import pack_padded_sequence, pad_packed_sequence, pack_sequence\n",
        "# DATA\n",
        "\n",
        "class DataBase(ABC, Iterable):\n",
        "    def __len__(self):\n",
        "        'Denotes the total number of samples' \n",
        "        pass\n",
        "\n",
        "    def __getitem__(self, index):\n",
        "        'Generates one sample of data'\n",
        "        # Select sample\n",
        "        pass\n",
        "\n",
        "    def get_all(self):\n",
        "        'Generates one sample of data'\n",
        "        # Select sample\n",
        "        pass\n",
        "\n",
        "    def __iter__(self):\n",
        "        pass\n",
        "\n",
        "    def __next__(self): \n",
        "        pass\n",
        "\n",
        "def load_pickle_bert(file_path: str) -> BertData:\n",
        "    with open(path.join(file_path, 'bert_train.pk'), 'rb') as f:\n",
        "        [tr_title_embeddings, tr_synopsis_embeddings] = pickle.load(f)\n",
        "\n",
        "    with open(path.join(file_path, 'bert_test.pk'), 'rb') as f:\n",
        "        [te_title_embeddings, te_synopsis_embeddings] = pickle.load(f)\n",
        "\n",
        "    return BertData(\n",
        "            tr_title_embeddings,\n",
        "            tr_synopsis_embeddings,\n",
        "            te_title_embeddings,\n",
        "            te_synopsis_embeddings\n",
        "            )\n",
        "\n",
        "class Keys:\n",
        "    TRAIN_TITLE=\"train_title\" \n",
        "    TRAIN_SYN=\"train_synopsis\"\n",
        "    TEST_TITLE=\"test_title\"\n",
        "    TEST_SYN=\"test_synopsis\"\n",
        "\n",
        "\n",
        "def prep_embds(embds):\n",
        "    sentence_lengths = np.array([e.shape[0] for e in embds])\n",
        "    sentence_lengths = np.argsort(-sentence_lengths)\n",
        "    return (np.array([torch.Tensor(e).to(dev) for e in embds], dtype=object), sentence_lengths)\n",
        "\n",
        "class DatasetRaw(DataBase):\n",
        "    def __init__(self, data: BertData, batch_size:int=512, shuffle:bool=True, max_words:int=100):\n",
        "        le = preprocessing.LabelEncoder()\n",
        "        y_train = le.fit_transform(train[\"class\"])\n",
        "        y_test = le.transform(test[\"class\"])\n",
        "\n",
        "        self.data = data\n",
        "\n",
        "        self.features = {}\n",
        "        self.features[Keys.TRAIN_SYN], train_idxes = prep_embds(data.train_sypnosis_embds)\n",
        "        self.features[Keys.TRAIN_SYN] = self.features[Keys.TRAIN_SYN][train_idxes]\n",
        "        self.features[Keys.TRAIN_TITLE], _ = prep_embds(data.train_title_embds)\n",
        "        self.features[Keys.TRAIN_TITLE] = self.features[Keys.TRAIN_TITLE][train_idxes]\n",
        "        \n",
        "        self.features[Keys.TEST_SYN], test_idxes = prep_embds(data.test_sypnosis_embds)\n",
        "        self.features[Keys.TEST_SYN] = self.features[Keys.TEST_SYN][test_idxes]\n",
        "        self.features[Keys.TEST_TITLE], _ = prep_embds(data.test_title_embds)\n",
        "        self.features[Keys.TEST_TITLE] = self.features[Keys.TEST_TITLE][test_idxes]\n",
        "        \n",
        "        self.train_length = len(self.features[Keys.TRAIN_TITLE])\n",
        "        \n",
        "        self.y_train = torch.Tensor(y_train[train_idxes]).long().to(dev)\n",
        "        self.y_test = torch.Tensor(y_test[test_idxes]).long().to(dev)\n",
        "\n",
        "        self.batch_size = batch_size\n",
        "        self.current = 0\n",
        "        self.shuffle = shuffle\n",
        "\n",
        "        self.epoch_idxes = np.arange(self.train_length,dtype=int)\n",
        "        if self.shuffle:\n",
        "            np.random.shuffle(self.epoch_idxes)\n",
        "\n",
        "\n",
        "    def __len__(self):\n",
        "        'Denotes the total number of samples' \n",
        "        return self.train_length\n",
        "\n",
        "    def __getitem__(self, index):\n",
        "        'Generates one sample of data'\n",
        "        # Select sample\n",
        "        return self.features[Keys.TRAIN_TITLE][index], self.y_train[index]\n",
        "\n",
        "    def pack(self, title, synop):\n",
        "        t_padded = pack_sequence(list(title), enforce_sorted=False)\n",
        "        s_padded = pack_sequence(list(synop))\n",
        "\n",
        "        return {\n",
        "                \"x\":t_padded,\n",
        "                \"synop\":s_padded,\n",
        "                \"x_lengths\":len(title)\n",
        "                }\n",
        "\n",
        "    def get_all(self):\n",
        "        # Do paddings\n",
        "        return (\n",
        "                #self.pack(self.features[Keys.TRAIN_TITLE], self.features[Keys.TRAIN_SYN]),\n",
        "                #self.y_train,\n",
        "                self.pack(self.features[Keys.TEST_TITLE], self.features[Keys.TEST_SYN]),\n",
        "                self.y_test\n",
        "                )\n",
        "\n",
        "    def __iter__(self):\n",
        "        return self\n",
        "\n",
        "    def __next__(self):\n",
        "        # TODO: Batch sorted by sentence sizes, shuffle only batch but not inside the batch.\n",
        "        if self.current >= self.train_length:\n",
        "            self.current = 0\n",
        "            if self.shuffle:\n",
        "                np.random.shuffle(self.epoch_idxes)\n",
        "            raise StopIteration\n",
        "\n",
        "        c = self.current\n",
        "        self.current += self.batch_size\n",
        "        selecting_row = self.epoch_idxes[c:c+self.batch_size]\n",
        "        return self.pack(self.features[Keys.TRAIN_TITLE][selecting_row], self.features[Keys.TRAIN_SYN][selecting_row]), self.y_train[selecting_row]\n",
        "\n",
        "data_loader = DatasetRaw(data, shuffle=False)\n",
        "data_loader.__next__()\n",
        "print(\"passed\")"
      ],
      "metadata": {
        "colab": {
          "base_uri": "https://localhost:8080/"
        },
        "id": "D9Pkc3O5RrEN",
        "outputId": "d864403b-f5f5-4a1b-8cac-48f8142e4a78"
      },
      "execution_count": 8,
      "outputs": [
        {
          "output_type": "stream",
          "name": "stdout",
          "text": [
            "passed\n"
          ]
        }
      ]
    },
    {
      "cell_type": "code",
      "source": [
        "import torch\n",
        "from torch.autograd import Variable\n",
        "import torch.nn as nn\n",
        "import torch.nn.functional as F\n",
        "from torch.nn.utils.rnn import pack_padded_sequence, pad_packed_sequence, pack_sequence\n",
        "\n",
        "class GRU(nn.Module):\n",
        "    def __init__(self, input_dims: int, num_class: int, hidden_dim:int, num_layers: int):\n",
        "        super().__init__()\n",
        "        self.hidden_dim = hidden_dim        \n",
        "        self.lstm_layers = num_layers\n",
        "\n",
        "        self.EMB_SIZE = input_dims\n",
        "        self.title_gru = nn.GRU(input_dims, self.hidden_dim, self.lstm_layers, batch_first=True)\n",
        "        self.synop_gru = nn.GRU(input_dims, self.hidden_dim, self.lstm_layers, batch_first=True)\n",
        "        self.dropout = nn.Dropout(p=0.2)\n",
        "\n",
        "        self.final = nn.Linear(self.hidden_dim * 2, num_class)\n",
        "        self.relu = nn.ReLU()\n",
        "\n",
        "    # Expect 1 row for now\n",
        "    def forward(self, x, x_lengths, synop):\n",
        "        h_0 = Variable(torch.zeros(self.lstm_layers, x_lengths, self.hidden_dim)).to(dev) #hidden state\n",
        "\n",
        "        title_gru_out, _ = self.title_gru(x, h_0)\n",
        "        seq_unpacked, lens_unpacked = pad_packed_sequence(title_gru_out, batch_first=True)\n",
        "        title_outputs = self.last_timestep(seq_unpacked, lens_unpacked)\n",
        "\n",
        "        h_1 = Variable(torch.zeros(self.lstm_layers, x_lengths, self.hidden_dim)).to(dev) #hidden state\n",
        "        synop_gru_out, _ = self.synop_gru(synop, h_1)\n",
        "        seq_unpacked, lens_unpacked = pad_packed_sequence(synop_gru_out, batch_first=True)\n",
        "        synop_outputs = self.last_timestep(seq_unpacked, lens_unpacked)\n",
        "\n",
        "        output = torch.cat((title_outputs, synop_outputs), dim=1)\n",
        "        output = self.final(output)\n",
        "        return output\n",
        "\n",
        "\n",
        "    def last_timestep(self, unpacked, lengths):\n",
        "        # Index of the last output for each sequence.\n",
        "        idx = (lengths - 1).view(-1, 1).expand(unpacked.size(0),\n",
        "                                               unpacked.size(2)).unsqueeze(1).to(dev)\n",
        "        return unpacked.gather(1, idx).squeeze()\n",
        "\n",
        "    def predict(self, X):\n",
        "        return torch.argmax(self.forward(**X), dim=1)"
      ],
      "metadata": {
        "id": "0c0dOuGuRr4r"
      },
      "execution_count": 9,
      "outputs": []
    },
    {
      "cell_type": "code",
      "source": [
        "from tqdm import tqdm\n",
        "from typing import Dict, Any\n",
        "import torch\n",
        "import torch.nn as nn\n",
        "import torch.nn.functional as F\n",
        "import torch.nn as nn\n",
        "import torch.optim as optim\n",
        "import functools\n",
        "import numpy as np\n",
        "import pandas as pd\n",
        "from typing import Callable, Dict, List, Any\n",
        "from sklearn.experimental import enable_halving_search_cv\n",
        "from sklearn.model_selection import HalvingGridSearchCV\n",
        "RANDOM_STATE = 1024\n",
        "from sklearn.metrics import precision_recall_fscore_support, accuracy_score, confusion_matrix\n",
        "\n",
        "class TrainedModel(NamedTuple):\n",
        "    name: str\n",
        "    model: Any # Any function that has .predict_proba()\n",
        "    info: Dict[str, Any] # Information about the training (e.g., is_train?, with_sypnosis?)      \n",
        "\n",
        "\n",
        "def evaluate_many(models: List[TrainedModel],X_test, y_test):\n",
        "    results = []\n",
        "    for trained_model in models:\n",
        "        clf = trained_model.model\n",
        "        y_test_pred = clf.predict(X_test).cpu()\n",
        "\n",
        "        test_row = evaluate(y_test_pred, y_test.cpu(), trained_model.name, trained_model.info)\n",
        "        test_row[\"is_train\"] = False\n",
        "        results.append(test_row)\n",
        "\n",
        "    return pd.DataFrame(results)\n",
        "  \n",
        "def precision_recall_f1(label, prediction) -> Dict[str, float]:\n",
        "    p, r, f, _ = precision_recall_fscore_support(label, prediction, average=\"macro\")\n",
        "\n",
        "    return {\n",
        "            \"precision\": p,\n",
        "            \"recall\": r,\n",
        "            \"f1_score\": f\n",
        "    }\n",
        "\n",
        "def accuracy(label, prediction) -> Dict[str, float]:\n",
        "    return {\n",
        "            \"accuracy\": accuracy_score(label, prediction)\n",
        "            }\n",
        "\n",
        "def evaluate(\n",
        "        prediction,\n",
        "        label,\n",
        "        name: str,\n",
        "        info: Dict[str, Any],\n",
        "        flows: List[Callable] = [accuracy, precision_recall_f1]\n",
        "        ):\n",
        "\n",
        "    flows = flows + [lambda a, b: {\"name\": name}]\n",
        "    results = [f(label, prediction) for f in flows] + [info]\n",
        "\n",
        "    return functools.reduce(\n",
        "        lambda a,b: {**a, **b}, # Adding two dicts together.\n",
        "        results\n",
        "        )\n",
        "\n",
        "class PyTorchTrainer():\n",
        "\n",
        "    @staticmethod\n",
        "    def fit(\n",
        "            data_loader: DataBase,\n",
        "            model: nn.Module,\n",
        "            train_params: Dict[str, Any],\n",
        "            on_epoch_end: Callable,\n",
        "            ):\n",
        "        criterion = nn.CrossEntropyLoss()\n",
        "        optimizer = optim.Adam(model.parameters(), lr=train_params.get(\"lr\", 0.0001))\n",
        "        early_stopping_num = train_params.get(\"early_stopping_num\", None)\n",
        "        last_round_eval_loss = 0\n",
        "\n",
        "        X_test, y_test = data_loader.get_all()\n",
        "\n",
        "        for epoch in tqdm(range(train_params.get(\"epochs\", 10)), desc=\"epochs\"):  # loop over the dataset multiple times\n",
        "            running_loss = 0.0\n",
        "            metrics = {\n",
        "                \"losses\": [],\n",
        "                \"epochs\": epoch\n",
        "            }\n",
        "            for i, (inputs, labels) in enumerate(data_loader):\n",
        "                optimizer.zero_grad()\n",
        "                outputs = model(**inputs)\n",
        "                loss = criterion(outputs, labels)\n",
        "                metrics[\"losses\"].append(loss.item())\n",
        "                loss.backward()\n",
        "                optimizer.step()\n",
        "            \n",
        "            eval_loss = criterion(model(**X_test), y_test)\n",
        "            metrics[\"eval_loss\"] = eval_loss.item()\n",
        "            on_epoch_end(metrics)\n",
        "            if epoch % 5 == 0:\n",
        "              print(\"==\")\n",
        "              print(f\"Train loss: {loss.item():.5f}\")\n",
        "              print(f\"Eval  loss: {eval_loss.item():.5f}\")\n",
        "              print(f\"Improvement: {last_round_eval_loss - eval_loss}\")\n",
        "              print(\"==\")\n",
        "\n",
        "            if early_stopping_num is not None and (last_round_eval_loss - eval_loss) < train_params.get(\"delta\", 0.001):\n",
        "                early_stopping_num -= 1\n",
        "                if early_stopping_num <= 0:\n",
        "                    print(\"Early stopping! Eval loss hasn't improved for sometimes\")\n",
        "                    break\n",
        "            else:\n",
        "              # Reset the early stopping count\n",
        "              early_stopping_num = train_params.get(\"early_stopping_num\", None)\n",
        "\n",
        "            last_round_eval_loss = eval_loss\n",
        "            if epoch % train_params.get(\"report_epochs\", 30) == (train_params.get(\"report_epochs\",30) - 1):\n",
        "                _model = TrainedModel(name=\"pytorch_mlp\", model=model, info={\"epochs\": epoch})\n",
        "                result_df_1 = evaluate_many([_model], X_test, y_test)\n",
        "                print(\"===\")\n",
        "                print(result_df_1.head(10))\n",
        "            \n",
        "        print(\"Training done!\")\n",
        "        result_df_1 = evaluate_many([_model], X_test, y_test)\n",
        "        print(\"===\")\n",
        "        print(result_df_1.head(10))        \n",
        "        return None"
      ],
      "metadata": {
        "id": "ZUeK-ZzjUHhd"
      },
      "execution_count": 10,
      "outputs": []
    },
    {
      "cell_type": "code",
      "source": [
        "import matplotlib.pyplot as plt\n",
        "training_params = {\n",
        "        \"epochs\": 600,\n",
        "        \"lr\": 0.001,\n",
        "        \"report_epochs\":5,\n",
        "        \"early_stopping_num\": 15,\n",
        "        \"delta\": 0.0001\n",
        "}\n",
        "\n",
        "tmp, _ = data_loader.__next__()\n",
        "model = GRU(data_loader[0][0].shape[1], 15, 64, 2).to(dev)\n",
        "lstm_output = model.forward(**tmp)\n",
        "\n",
        "losses = []\n",
        "def report(metrics):\n",
        "  losses.extend(metrics[\"losses\"])\n",
        "  if metrics[\"epochs\"] % 10 == 0:\n",
        "    plt.clf()\n",
        "    plt.plot(losses)\n",
        "    plt.show()\n",
        "\n",
        "PyTorchTrainer.fit(data_loader, model, training_params, report)"
      ],
      "metadata": {
        "id": "6vHRJOZsWcXe",
        "colab": {
          "base_uri": "https://localhost:8080/",
          "height": 1000
        },
        "outputId": "cedd8ecd-0d46-456e-8e0e-5f5dd0652cf5"
      },
      "execution_count": 11,
      "outputs": [
        {
          "output_type": "stream",
          "name": "stderr",
          "text": [
            "\repochs:   0%|          | 0/600 [00:00<?, ?it/s]"
          ]
        },
        {
          "output_type": "display_data",
          "data": {
            "image/png": "[encoded data removed]",
            "text/plain": [
              "<Figure size 432x288 with 1 Axes>"
            ]
          },
          "metadata": {
            "needs_background": "light"
          }
        },
        {
          "output_type": "stream",
          "name": "stderr",
          "text": [
            "\repochs:   0%|          | 1/600 [00:02<27:11,  2.72s/it]"
          ]
        },
        {
          "output_type": "stream",
          "name": "stdout",
          "text": [
            "==\n",
            "Train loss: 2.04165\n",
            "Eval  loss: 1.85277\n",
            "Improvement: -1.8527748584747314\n",
            "==\n"
          ]
        },
        {
          "output_type": "stream",
          "name": "stderr",
          "text": [
            "epochs:   1%|          | 6/600 [00:14<22:49,  2.31s/it]"
          ]
        },
        {
          "output_type": "stream",
          "name": "stdout",
          "text": [
            "==\n",
            "Train loss: 0.80090\n",
            "Eval  loss: 0.84892\n",
            "Improvement: 0.02441394329071045\n",
            "==\n"
          ]
        },
        {
          "output_type": "stream",
          "name": "stderr",
          "text": [
            "epochs:   2%|▏         | 10/600 [00:23<21:06,  2.15s/it]"
          ]
        },
        {
          "output_type": "stream",
          "name": "stdout",
          "text": [
            "===\n",
            "   accuracy  precision    recall  f1_score         name  epochs  is_train\n",
            "0  0.749667   0.754306  0.749667  0.747978  pytorch_mlp       9     False\n"
          ]
        },
        {
          "output_type": "display_data",
          "data": {
            "image/png": "[encoded data removed]",
            "text/plain": [
              "<Figure size 432x288 with 1 Axes>"
            ]
          },
          "metadata": {
            "needs_background": "light"
          }
        },
        {
          "output_type": "stream",
          "name": "stderr",
          "text": [
            "\repochs:   2%|▏         | 11/600 [00:25<21:15,  2.16s/it]"
          ]
        },
        {
          "output_type": "stream",
          "name": "stdout",
          "text": [
            "==\n",
            "Train loss: 0.52081\n",
            "Eval  loss: 0.85476\n",
            "Improvement: 0.01359093189239502\n",
            "==\n"
          ]
        },
        {
          "output_type": "stream",
          "name": "stderr",
          "text": [
            "epochs:   3%|▎         | 16/600 [00:35<20:36,  2.12s/it]"
          ]
        },
        {
          "output_type": "stream",
          "name": "stdout",
          "text": [
            "==\n",
            "Train loss: 0.35004\n",
            "Eval  loss: 0.99897\n",
            "Improvement: -0.024458706378936768\n",
            "==\n"
          ]
        },
        {
          "output_type": "stream",
          "name": "stderr",
          "text": [
            "epochs:   3%|▎         | 20/600 [00:44<20:15,  2.09s/it]"
          ]
        },
        {
          "output_type": "stream",
          "name": "stdout",
          "text": [
            "===\n",
            "   accuracy  precision    recall  f1_score         name  epochs  is_train\n",
            "0  0.736333   0.750052  0.736333  0.737545  pytorch_mlp      19     False\n"
          ]
        },
        {
          "output_type": "display_data",
          "data": {
            "image/png": "[encoded data removed]",
            "text/plain": [
              "<Figure size 432x288 with 1 Axes>"
            ]
          },
          "metadata": {
            "needs_background": "light"
          }
        },
        {
          "output_type": "stream",
          "name": "stderr",
          "text": [
            "\repochs:   4%|▎         | 21/600 [00:46<20:41,  2.14s/it]"
          ]
        },
        {
          "output_type": "stream",
          "name": "stdout",
          "text": [
            "==\n",
            "Train loss: 0.15539\n",
            "Eval  loss: 1.09368\n",
            "Improvement: -0.002447962760925293\n",
            "==\n"
          ]
        },
        {
          "output_type": "stream",
          "name": "stderr",
          "text": [
            "epochs:   4%|▍         | 26/600 [00:57<20:21,  2.13s/it]"
          ]
        },
        {
          "output_type": "stream",
          "name": "stdout",
          "text": [
            "==\n",
            "Train loss: 0.09570\n",
            "Eval  loss: 1.21691\n",
            "Improvement: -0.018706440925598145\n",
            "==\n"
          ]
        },
        {
          "output_type": "stream",
          "name": "stderr",
          "text": [
            "epochs:   5%|▌         | 30/600 [01:06<21:18,  2.24s/it]"
          ]
        },
        {
          "output_type": "stream",
          "name": "stdout",
          "text": [
            "===\n",
            "   accuracy  precision    recall  f1_score         name  epochs  is_train\n",
            "0  0.735667   0.754757  0.735667   0.73768  pytorch_mlp      29     False\n"
          ]
        },
        {
          "output_type": "display_data",
          "data": {
            "image/png": "[encoded data removed]",
            "text/plain": [
              "<Figure size 432x288 with 1 Axes>"
            ]
          },
          "metadata": {
            "needs_background": "light"
          }
        },
        {
          "output_type": "stream",
          "name": "stderr",
          "text": [
            "\repochs:   5%|▌         | 31/600 [01:09<23:14,  2.45s/it]"
          ]
        },
        {
          "output_type": "stream",
          "name": "stdout",
          "text": [
            "==\n",
            "Train loss: 0.04938\n",
            "Eval  loss: 1.20262\n",
            "Improvement: 0.08142721652984619\n",
            "==\n"
          ]
        },
        {
          "output_type": "stream",
          "name": "stderr",
          "text": [
            "epochs:   6%|▌         | 36/600 [01:20<21:25,  2.28s/it]"
          ]
        },
        {
          "output_type": "stream",
          "name": "stdout",
          "text": [
            "==\n",
            "Train loss: 0.02653\n",
            "Eval  loss: 1.26453\n",
            "Improvement: -0.01029503345489502\n",
            "==\n"
          ]
        },
        {
          "output_type": "stream",
          "name": "stderr",
          "text": [
            "epochs:   7%|▋         | 40/600 [01:28<20:05,  2.15s/it]"
          ]
        },
        {
          "output_type": "stream",
          "name": "stdout",
          "text": [
            "===\n",
            "   accuracy  precision    recall  f1_score         name  epochs  is_train\n",
            "0  0.758333   0.761759  0.758333  0.758479  pytorch_mlp      39     False\n"
          ]
        },
        {
          "output_type": "display_data",
          "data": {
            "image/png": "[encoded data removed]",
            "text/plain": [
              "<Figure size 432x288 with 1 Axes>"
            ]
          },
          "metadata": {
            "needs_background": "light"
          }
        },
        {
          "output_type": "stream",
          "name": "stderr",
          "text": [
            "\repochs:   7%|▋         | 41/600 [01:30<20:11,  2.17s/it]"
          ]
        },
        {
          "output_type": "stream",
          "name": "stdout",
          "text": [
            "==\n",
            "Train loss: 0.02434\n",
            "Eval  loss: 1.31929\n",
            "Improvement: 0.008039116859436035\n",
            "==\n"
          ]
        },
        {
          "output_type": "stream",
          "name": "stderr",
          "text": [
            "epochs:   8%|▊         | 46/600 [01:41<19:24,  2.10s/it]"
          ]
        },
        {
          "output_type": "stream",
          "name": "stdout",
          "text": [
            "==\n",
            "Train loss: 0.00975\n",
            "Eval  loss: 1.34071\n",
            "Improvement: -0.0022808313369750977\n",
            "==\n"
          ]
        },
        {
          "output_type": "stream",
          "name": "stderr",
          "text": [
            "epochs:   8%|▊         | 50/600 [01:49<19:11,  2.09s/it]"
          ]
        },
        {
          "output_type": "stream",
          "name": "stdout",
          "text": [
            "===\n",
            "   accuracy  precision    recall  f1_score         name  epochs  is_train\n",
            "0  0.764667   0.764632  0.764667  0.764292  pytorch_mlp      49     False\n"
          ]
        },
        {
          "output_type": "display_data",
          "data": {
            "image/png": "[encoded data removed]",
            "text/plain": [
              "<Figure size 432x288 with 1 Axes>"
            ]
          },
          "metadata": {
            "needs_background": "light"
          }
        },
        {
          "output_type": "stream",
          "name": "stderr",
          "text": [
            "\repochs:   8%|▊         | 51/600 [01:51<19:37,  2.15s/it]"
          ]
        },
        {
          "output_type": "stream",
          "name": "stdout",
          "text": [
            "==\n",
            "Train loss: 0.00711\n",
            "Eval  loss: 1.37526\n",
            "Improvement: -0.008182764053344727\n",
            "==\n"
          ]
        },
        {
          "output_type": "stream",
          "name": "stderr",
          "text": [
            "epochs:   9%|▉         | 56/600 [02:02<19:11,  2.12s/it]"
          ]
        },
        {
          "output_type": "stream",
          "name": "stdout",
          "text": [
            "==\n",
            "Train loss: 0.00565\n",
            "Eval  loss: 1.41337\n",
            "Improvement: -0.0072067975997924805\n",
            "==\n"
          ]
        },
        {
          "output_type": "stream",
          "name": "stderr",
          "text": [
            "epochs:  10%|▉         | 59/600 [02:10<19:59,  2.22s/it]"
          ]
        },
        {
          "output_type": "stream",
          "name": "stdout",
          "text": [
            "Early stopping! Eval loss hasn't improved for sometimes\n",
            "Training done!\n",
            "===\n",
            "   accuracy  precision    recall  f1_score         name  epochs  is_train\n",
            "0  0.760333    0.76091  0.760333  0.760254  pytorch_mlp      49     False\n"
          ]
        },
        {
          "output_type": "stream",
          "name": "stderr",
          "text": [
            "\n"
          ]
        }
      ]
    },
    {
      "cell_type": "code",
      "source": [
        "torch.save(model, \"/content/bert_gru_786.pt\")"
      ],
      "metadata": {
        "id": "vOR0-_FP6V-d"
      },
      "execution_count": 16,
      "outputs": []
    },
    {
      "cell_type": "code",
      "source": [
        ""
      ],
      "metadata": {
        "id": "mYkJFGID7ow_"
      },
      "execution_count": null,
      "outputs": []
    }
  ]
}