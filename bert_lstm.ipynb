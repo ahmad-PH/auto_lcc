{
 "cells": [
  {
   "cell_type": "code",
   "execution_count": 1,
   "id": "a97f4f96",
   "metadata": {},
   "outputs": [],
   "source": [
    "import sys\n",
    "from data import RecordStore, Record\n",
    "import numpy as np\n",
    "from typing import *\n",
    "import torch\n",
    "import torch.nn as nn\n",
    "import torch.nn.functional as F\n",
    "import torch.nn.utils.rnn as rnn\n",
    "import matplotlib.pyplot as plt\n"
   ]
  },
  {
   "cell_type": "code",
   "execution_count": 2,
   "id": "6dad5c80",
   "metadata": {},
   "outputs": [
    {
     "data": {
      "text/plain": [
       "(15,\n",
       " ['P', 'D', 'Q', 'K', 'E', 'H', 'F', 'T', 'S', 'R', 'G', 'B', 'N', 'L', 'J'])"
      ]
     },
     "execution_count": 2,
     "metadata": {},
     "output_type": "execute_result"
    }
   ],
   "source": [
    "RecordStore.load()\n",
    "RecordStore.load_bert()\n",
    "\n",
    "len(RecordStore.classes), RecordStore.classes"
   ]
  },
  {
   "cell_type": "code",
   "execution_count": 9,
   "id": "cea940a6",
   "metadata": {},
   "outputs": [],
   "source": [
    "class LSTM_Classifier(torch.nn.Module):\n",
    "    def __init__(self) -> None:\n",
    "        super(LSTM_Classifier, self).__init__()\n",
    "        num_layers = 2\n",
    "        dropout = 0.1\n",
    "        hidden_size = 300\n",
    "        # h0 = torch.randn(num_layers, batch_size, hidden_size)\n",
    "        # c0 = torch.randn(num_layers, batch_size, hidden_size)\n",
    "        self.lstm_title = torch.nn.LSTM(input_size=128, hidden_size=hidden_size,\n",
    "            num_layers=num_layers, dropout=0.1, batch_first=True).cuda()\n",
    "        self.lstm_synopsis = torch.nn.LSTM(input_size=128, hidden_size=hidden_size, \n",
    "            num_layers=num_layers, dropout=0.1, batch_first=True).cuda()\n",
    "        self.clf = nn.Sequential(nn.Linear(hidden_size*2, hidden_size),\n",
    "            nn.Dropout(dropout),\n",
    "            nn.ReLU(),\n",
    "            nn.Linear(hidden_size, len(RecordStore.classes))\n",
    "            ).cuda()\n",
    "\n",
    "    def _get_last_timesteps(self, lstm_out):\n",
    "        padded_seq, lengths = rnn.pad_packed_sequence(lstm_out, batch_first=True)\n",
    "        last_timesteps = []\n",
    "        for i in range(len(padded_seq)):\n",
    "            last_timesteps.append(padded_seq[i, lengths[i]-1])\n",
    "        return torch.stack(last_timesteps, dim=0)\n",
    "\n",
    "    def forward(self, x_t, x_s):\n",
    "        lstm_out_t, _ = self.lstm_title(x_t)\n",
    "        lstm_out_s, _ = self.lstm_synopsis(x_s)\n",
    "        last_timesteps_t = self._get_last_timesteps(lstm_out_t)\n",
    "        last_timesteps_s = self._get_last_timesteps(lstm_out_s)\n",
    "        # print('lts shapes:', last_timesteps_t.shape, last_timesteps_s.shape)\n",
    "        clf_out = self.clf(torch.concat([last_timesteps_t, last_timesteps_s], dim=1))\n",
    "        scores = F.log_softmax(clf_out, dim=1)\n",
    "        return scores\n",
    "    \n",
    "    def predict(self, x_t, x_s):\n",
    "        assert type(x_t) == type(x_s) == torch.Tensor, \"expected a single tensor\"\n",
    "        assert len(x_t.shape) == len(x_s.shape) == 2, \"expected a tensor with 2 dimensions\"\n",
    "        x_t, x_s = rnn.pack_sequence([x_t]), rnn.pack_sequence([x_s])\n",
    "        out = self.forward(x_t, x_s).squeeze(0)\n",
    "        return torch.argmax(out)"
   ]
  },
  {
   "cell_type": "code",
   "execution_count": 4,
   "id": "731e3e69",
   "metadata": {},
   "outputs": [],
   "source": [
    "X_t, X_s, Y = [], [], []\n",
    "for record in RecordStore.train_records:\n",
    "    X_t.append(torch.from_numpy(record.title_embeddings_bert).cuda())\n",
    "    X_s.append(torch.from_numpy(record.synopsis_embeddings_bert).cuda())\n",
    "    Y.append(record.cls_idx)"
   ]
  },
  {
   "cell_type": "code",
   "execution_count": 5,
   "id": "950f115a",
   "metadata": {},
   "outputs": [],
   "source": [
    "def sort_XXY(X_t, X_s, Y):\n",
    "    to_be_sorted = [(x_t, x_s,y) for x_t, x_s,y in zip(X_t, X_s, Y)]\n",
    "    to_be_sorted.sort(reverse=True, key=lambda x: x[1].shape[0])\n",
    "    X_t, X_s, Y = [], [], []\n",
    "    for (x_t, x_s, y) in to_be_sorted:\n",
    "        X_t.append(x_t)\n",
    "        X_s.append(x_s)\n",
    "        Y.append(y)\n",
    "    return X_t, X_s, Y\n",
    "\n",
    "X_t, X_s, Y = sort_XXY(X_t, X_s, Y)\n",
    "Y = torch.tensor(Y).cuda()"
   ]
  },
  {
   "cell_type": "code",
   "execution_count": 6,
   "id": "1dea0fc8",
   "metadata": {},
   "outputs": [],
   "source": [
    "def accuracy(model: nn.Module, X_t, X_s, Y):\n",
    "    mode = model.training\n",
    "    model.eval()\n",
    "    count = 0\n",
    "    with torch.no_grad():\n",
    "        for x_t, x_s, y in zip(X_t, X_s, Y):\n",
    "            if model.predict(x_t, x_s) == y:\n",
    "                count += 1\n",
    "    print('count, len:', count, len(X_t))\n",
    "    model.train(mode)\n",
    "    return count / len(X_t)"
   ]
  },
  {
   "cell_type": "code",
   "execution_count": 10,
   "id": "d8249b45",
   "metadata": {},
   "outputs": [],
   "source": [
    "model = LSTM_Classifier().cuda()\n",
    "optim = torch.optim.Adam(model.parameters(), lr=0.001)\n",
    "loss_function = torch.nn.NLLLoss()"
   ]
  },
  {
   "cell_type": "code",
   "execution_count": 11,
   "id": "181609c9",
   "metadata": {},
   "outputs": [
    {
     "name": "stdout",
     "output_type": "stream",
     "text": [
      "epoch: 0\n",
      "0/398\n",
      "loss:2.6900088787078857\n",
      "100/398\n",
      "loss:1.7249293327331543\n",
      "200/398\n",
      "loss:1.2708351612091064\n",
      "300/398\n",
      "loss:1.2918546199798584\n",
      "epoch: 1\n",
      "0/398\n",
      "loss:1.523320198059082\n",
      "100/398\n",
      "loss:1.5030560493469238\n",
      "200/398\n",
      "loss:1.0550127029418945\n",
      "300/398\n",
      "loss:1.120495080947876\n",
      "epoch: 2\n",
      "0/398\n",
      "loss:1.3374000787734985\n",
      "100/398\n",
      "loss:1.2424473762512207\n",
      "200/398\n",
      "loss:0.9640663862228394\n",
      "300/398\n",
      "loss:0.9804577827453613\n",
      "epoch: 3\n",
      "0/398\n",
      "loss:1.328489065170288\n",
      "100/398\n",
      "loss:1.1710052490234375\n",
      "200/398\n",
      "loss:0.718798816204071\n",
      "300/398\n",
      "loss:0.9321525692939758\n",
      "epoch: 4\n",
      "0/398\n",
      "loss:0.9919858574867249\n",
      "100/398\n",
      "loss:0.9823705554008484\n",
      "200/398\n",
      "loss:0.6430780291557312\n",
      "300/398\n",
      "loss:0.7711161971092224\n",
      "epoch: 5\n",
      "0/398\n",
      "loss:0.8659449219703674\n",
      "100/398\n",
      "loss:0.9269982576370239\n",
      "200/398\n",
      "loss:0.6242290735244751\n",
      "300/398\n",
      "loss:0.5790523886680603\n",
      "epoch: 6\n",
      "0/398\n",
      "loss:0.7654745578765869\n",
      "100/398\n",
      "loss:0.890643835067749\n",
      "200/398\n",
      "loss:0.5894702076911926\n",
      "300/398\n",
      "loss:0.5750653147697449\n",
      "epoch: 7\n",
      "0/398\n",
      "loss:0.6641026735305786\n",
      "100/398\n",
      "loss:0.9273062944412231\n",
      "200/398\n",
      "loss:0.5470996499061584\n",
      "300/398\n",
      "loss:0.41452544927597046\n",
      "epoch: 8\n",
      "0/398\n",
      "loss:0.6192342042922974\n",
      "100/398\n",
      "loss:0.6007958054542542\n",
      "200/398\n",
      "loss:0.3442898988723755\n",
      "300/398\n",
      "loss:0.4072478115558624\n",
      "epoch: 9\n",
      "0/398\n",
      "loss:0.5216713547706604\n",
      "100/398\n",
      "loss:0.5862345099449158\n",
      "200/398\n",
      "loss:0.5094966292381287\n",
      "300/398\n",
      "loss:0.25995713472366333\n",
      "epoch: 10\n",
      "0/398\n",
      "loss:0.4894721508026123\n",
      "100/398\n",
      "loss:0.46556979417800903\n",
      "200/398\n",
      "loss:0.3636101484298706\n",
      "300/398\n",
      "loss:0.24265779554843903\n",
      "epoch: 11\n",
      "0/398\n",
      "loss:0.6361935138702393\n",
      "100/398\n",
      "loss:0.5543564558029175\n",
      "200/398\n",
      "loss:0.2728925049304962\n",
      "300/398\n",
      "loss:0.27321547269821167\n",
      "epoch: 12\n",
      "0/398\n",
      "loss:0.3004283905029297\n",
      "100/398\n",
      "loss:0.5161729454994202\n",
      "200/398\n",
      "loss:0.24940361082553864\n",
      "300/398\n",
      "loss:0.2428983449935913\n",
      "epoch: 13\n",
      "0/398\n",
      "loss:0.3324083387851715\n",
      "100/398\n",
      "loss:0.3362588584423065\n",
      "200/398\n",
      "loss:0.24150511622428894\n",
      "300/398\n",
      "loss:0.12442805618047714\n",
      "epoch: 14\n",
      "0/398\n",
      "loss:0.2549266219139099\n",
      "100/398\n",
      "loss:0.37720102071762085\n",
      "200/398\n",
      "loss:0.1794082373380661\n",
      "300/398\n",
      "loss:0.10490213334560394\n",
      "epoch: 15\n",
      "0/398\n",
      "loss:0.0761420726776123\n",
      "100/398\n",
      "loss:0.3387185335159302\n",
      "200/398\n",
      "loss:0.1949959397315979\n",
      "300/398\n",
      "loss:0.07987064868211746\n",
      "epoch: 16\n",
      "0/398\n",
      "loss:0.18353135883808136\n",
      "100/398\n",
      "loss:0.27333900332450867\n",
      "200/398\n",
      "loss:0.19724252820014954\n",
      "300/398\n",
      "loss:0.048490747809410095\n",
      "epoch: 17\n",
      "0/398\n",
      "loss:0.12711845338344574\n",
      "100/398\n",
      "loss:0.27443134784698486\n",
      "200/398\n",
      "loss:0.1547733098268509\n",
      "300/398\n",
      "loss:0.14807751774787903\n",
      "epoch: 18\n",
      "0/398\n",
      "loss:0.15747098624706268\n",
      "100/398\n",
      "loss:0.2784135043621063\n",
      "200/398\n",
      "loss:0.23313704133033752\n",
      "300/398\n",
      "loss:0.07732371240854263\n",
      "epoch: 19\n",
      "0/398\n",
      "loss:0.08482954651117325\n",
      "100/398\n",
      "loss:0.25294438004493713\n",
      "200/398\n",
      "loss:0.23421090841293335\n",
      "300/398\n",
      "loss:0.17278297245502472\n",
      "epoch: 20\n",
      "0/398\n",
      "loss:0.2996922433376312\n",
      "100/398\n",
      "loss:0.22141118347644806\n",
      "200/398\n",
      "loss:0.09018787741661072\n",
      "300/398\n",
      "loss:0.06684339791536331\n",
      "epoch: 21\n",
      "0/398\n",
      "loss:0.19088509678840637\n",
      "100/398\n",
      "loss:0.1980341374874115\n",
      "200/398\n",
      "loss:0.07932217419147491\n",
      "300/398\n",
      "loss:0.06448784470558167\n",
      "epoch: 22\n",
      "0/398\n",
      "loss:0.04844854027032852\n",
      "100/398\n",
      "loss:0.2274531126022339\n",
      "200/398\n",
      "loss:0.21925708651542664\n",
      "300/398\n",
      "loss:0.12795040011405945\n",
      "epoch: 23\n",
      "0/398\n",
      "loss:0.12633420526981354\n",
      "100/398\n",
      "loss:0.26436901092529297\n",
      "200/398\n",
      "loss:0.05526110157370567\n",
      "300/398\n",
      "loss:0.1127181351184845\n",
      "epoch: 24\n",
      "0/398\n",
      "loss:0.020779183134436607\n",
      "100/398\n",
      "loss:0.24617202579975128\n",
      "200/398\n",
      "loss:0.07493218779563904\n",
      "300/398\n",
      "loss:0.16388700902462006\n",
      "epoch: 25\n",
      "0/398\n",
      "loss:0.16538552939891815\n",
      "100/398\n",
      "loss:0.06496560573577881\n",
      "200/398\n",
      "loss:0.09779442101716995\n",
      "300/398\n",
      "loss:0.029634647071361542\n",
      "epoch: 26\n",
      "0/398\n",
      "loss:0.14053647220134735\n",
      "100/398\n",
      "loss:0.06442610919475555\n",
      "200/398\n",
      "loss:0.07819074392318726\n",
      "300/398\n",
      "loss:0.03619891405105591\n",
      "epoch: 27\n",
      "0/398\n",
      "loss:0.028953034430742264\n",
      "100/398\n",
      "loss:0.031520575284957886\n",
      "200/398\n",
      "loss:0.09545063972473145\n",
      "300/398\n",
      "loss:0.03036821074783802\n",
      "epoch: 28\n",
      "0/398\n",
      "loss:0.07345864921808243\n",
      "100/398\n",
      "loss:0.05912120267748833\n",
      "200/398\n",
      "loss:0.18685470521450043\n",
      "300/398\n",
      "loss:0.10739528387784958\n",
      "epoch: 29\n",
      "0/398\n",
      "loss:0.1970715969800949\n",
      "100/398\n",
      "loss:0.045772477984428406\n",
      "200/398\n",
      "loss:0.04386606812477112\n",
      "300/398\n",
      "loss:0.12384220212697983\n"
     ]
    }
   ],
   "source": [
    "# Training\n",
    "losses = []\n",
    "batch_size = 64\n",
    "for epoch in range(20):\n",
    "    print('epoch:', epoch)\n",
    "    n_steps = int(len(X_s)/batch_size)\n",
    "    for i in range(n_steps):\n",
    "        inp_t = rnn.pack_sequence(X_t[i*batch_size:(i+1)*batch_size], enforce_sorted=False)\n",
    "        inp_s = rnn.pack_sequence(X_s[i*batch_size:(i+1)*batch_size])\n",
    "        labels = Y[i*batch_size:(i+1)*batch_size]\n",
    "        model.zero_grad()\n",
    "        out = model(inp_t, inp_s)\n",
    "        # print('out shape')\n",
    "        # print(out.shape)\n",
    "        loss = loss_function(out, labels)\n",
    "        losses.append(loss.item())\n",
    "        loss.backward()\n",
    "        optim.step()\n",
    "\n",
    "        if i % 100 == 0:\n",
    "            print('{}/{}'.format(i, n_steps))\n",
    "            print('loss:{}'.format(loss.item()))\n"
   ]
  },
  {
   "cell_type": "code",
   "execution_count": 12,
   "id": "e2528bd9",
   "metadata": {},
   "outputs": [
    {
     "data": {
      "text/plain": [
       "[<matplotlib.lines.Line2D at 0x7fb592314940>]"
      ]
     },
     "execution_count": 12,
     "metadata": {},
     "output_type": "execute_result"
    },
    {
     "data": {
      "image/png": "[encoded data removed]",
      "text/plain": [
       "<Figure size 432x288 with 1 Axes>"
      ]
     },
     "metadata": {
      "needs_background": "light"
     },
     "output_type": "display_data"
    }
   ],
   "source": [
    "plt.plot(losses)"
   ]
  },
  {
   "cell_type": "code",
   "execution_count": 12,
   "id": "4cb39daf",
   "metadata": {},
   "outputs": [
    {
     "data": {
      "text/plain": [
       "[<matplotlib.lines.Line2D at 0x7f97d8092cd0>]"
      ]
     },
     "execution_count": 12,
     "metadata": {},
     "output_type": "execute_result"
    },
    {
     "data": {
      "image/png": "[encoded data removed]",
      "text/plain": [
       "<Figure size 432x288 with 1 Axes>"
      ]
     },
     "metadata": {
      "needs_background": "light"
     },
     "output_type": "display_data"
    }
   ],
   "source": [
    "# an old loss\n",
    "plt.plot(losses)"
   ]
  },
  {
   "cell_type": "code",
   "execution_count": 13,
   "id": "11e385c0",
   "metadata": {},
   "outputs": [
    {
     "name": "stdout",
     "output_type": "stream",
     "text": [
      "count, len: 24638 25526\n"
     ]
    },
    {
     "data": {
      "text/plain": [
       "0.9652119407662775"
      ]
     },
     "execution_count": 13,
     "metadata": {},
     "output_type": "execute_result"
    }
   ],
   "source": [
    "accuracy(model, X_t, X_s, Y)"
   ]
  },
  {
   "cell_type": "code",
   "execution_count": 14,
   "id": "6006eacb",
   "metadata": {},
   "outputs": [],
   "source": [
    "# Prepare test data\n",
    "X_t_test, X_s_test, Y_test = [], [], []\n",
    "for record in RecordStore.test_records:\n",
    "    X_t_test.append(torch.from_numpy(record.title_embeddings_bert).cuda())\n",
    "    X_s_test.append(torch.from_numpy(record.synopsis_embeddings_bert).cuda())\n",
    "    Y_test.append(record.cls_idx)"
   ]
  },
  {
   "cell_type": "code",
   "execution_count": 15,
   "id": "0a264f1e",
   "metadata": {},
   "outputs": [
    {
     "name": "stdout",
     "output_type": "stream",
     "text": [
      "count, len: 1975 3000\n"
     ]
    },
    {
     "data": {
      "text/plain": [
       "0.6583333333333333"
      ]
     },
     "execution_count": 15,
     "metadata": {},
     "output_type": "execute_result"
    }
   ],
   "source": [
    "accuracy(model, X_t_test, X_s_test, Y_test)"
   ]
  },
  {
   "cell_type": "code",
   "execution_count": 35,
   "id": "3402b1e2",
   "metadata": {},
   "outputs": [],
   "source": [
    "torch.save(model, 'model1.pt')"
   ]
  },
  {
   "cell_type": "code",
   "execution_count": null,
   "id": "7a39ff31",
   "metadata": {},
   "outputs": [],
   "source": []
  }
 ],
 "metadata": {
  "kernelspec": {
   "display_name": "Python 3",
   "language": "python",
   "name": "python3"
  },
  "language_info": {
   "codemirror_mode": {
    "name": "ipython",
    "version": 3
   },
   "file_extension": ".py",
   "mimetype": "text/x-python",
   "name": "python",
   "nbconvert_exporter": "python",
   "pygments_lexer": "ipython3",
   "version": "3.9.7"
  }
 },
 "nbformat": 4,
 "nbformat_minor": 5
}
