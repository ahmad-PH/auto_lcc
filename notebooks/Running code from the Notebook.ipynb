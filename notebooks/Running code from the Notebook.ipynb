{
 "cells": [
  {
   "cell_type": "markdown",
   "metadata": {},
   "source": [
    "## How to train the whole flow\n",
    "\n",
    "---\n",
    "\n",
    "This notebook shows how you can train your simple model from the .pickle file. "
   ]
  },
  {
   "cell_type": "code",
   "execution_count": 1,
   "metadata": {},
   "outputs": [],
   "source": [
    "import sys\n",
    "sys.path.append(\"../\") \n",
    "# go to parent dir, a bit hacky but avoid having to put all the notebooks in root directory 😬"
   ]
  },
  {
   "cell_type": "code",
   "execution_count": 11,
   "metadata": {},
   "outputs": [],
   "source": [
    "import time\n",
    "import pandas as pd\n",
    "from sklearn import preprocessing\n",
    "from iml_group_proj.features.simple import get_simple_features\n",
    "from iml_group_proj.features.bert import get_BERT_features\n",
    "\n",
    "from iml_group_proj.evaluation import evaluate_many\n",
    "from iml_group_proj.train_models import train_models\n",
    "from iml_group_proj.features.common.data import load\n",
    "from iml_group_proj.models.mlp import BASIC_MLP"
   ]
  },
  {
   "cell_type": "code",
   "execution_count": 3,
   "metadata": {},
   "outputs": [],
   "source": [
    "IS_BOW = False # Bag-of-words or TfIdf"
   ]
  },
  {
   "cell_type": "code",
   "execution_count": 4,
   "metadata": {},
   "outputs": [
    {
     "data": {
      "text/html": [
       "<div>\n",
       "<style scoped>\n",
       "    .dataframe tbody tr th:only-of-type {\n",
       "        vertical-align: middle;\n",
       "    }\n",
       "\n",
       "    .dataframe tbody tr th {\n",
       "        vertical-align: top;\n",
       "    }\n",
       "\n",
       "    .dataframe thead th {\n",
       "        text-align: right;\n",
       "    }\n",
       "</style>\n",
       "<table border=\"1\" class=\"dataframe\">\n",
       "  <thead>\n",
       "    <tr style=\"text-align: right;\">\n",
       "      <th></th>\n",
       "      <th>class</th>\n",
       "      <th>title</th>\n",
       "      <th>sypnosis</th>\n",
       "      <th>id</th>\n",
       "    </tr>\n",
       "  </thead>\n",
       "  <tbody>\n",
       "    <tr>\n",
       "      <th>12644</th>\n",
       "      <td>T</td>\n",
       "      <td>Basic highway surveying, course HT.109 course ...</td>\n",
       "      <td>Provides an overview of basic surveying defini...</td>\n",
       "      <td>63915520</td>\n",
       "    </tr>\n",
       "    <tr>\n",
       "      <th>4460</th>\n",
       "      <td>P</td>\n",
       "      <td>We played marbles /</td>\n",
       "      <td>When friends playing on a Civil War battlefiel...</td>\n",
       "      <td>37269285</td>\n",
       "    </tr>\n",
       "    <tr>\n",
       "      <th>7596</th>\n",
       "      <td>E</td>\n",
       "      <td>Ancient monuments of the Mississippi Valley /</td>\n",
       "      <td>Complete 48 plate collection from the 1848 ed....</td>\n",
       "      <td>26965717</td>\n",
       "    </tr>\n",
       "    <tr>\n",
       "      <th>1004</th>\n",
       "      <td>Q</td>\n",
       "      <td>Human body revealed /</td>\n",
       "      <td>With in-depth information about each part of t...</td>\n",
       "      <td>50759512</td>\n",
       "    </tr>\n",
       "    <tr>\n",
       "      <th>23734</th>\n",
       "      <td>E</td>\n",
       "      <td>Ancient America /</td>\n",
       "      <td>Maps and text offer information on the culture...</td>\n",
       "      <td>21197826</td>\n",
       "    </tr>\n",
       "  </tbody>\n",
       "</table>\n",
       "</div>"
      ],
      "text/plain": [
       "      class                                              title  \\\n",
       "12644     T  Basic highway surveying, course HT.109 course ...   \n",
       "4460      P                                We played marbles /   \n",
       "7596      E      Ancient monuments of the Mississippi Valley /   \n",
       "1004      Q                              Human body revealed /   \n",
       "23734     E                                  Ancient America /   \n",
       "\n",
       "                                                sypnosis        id  \n",
       "12644  Provides an overview of basic surveying defini...  63915520  \n",
       "4460   When friends playing on a Civil War battlefiel...  37269285  \n",
       "7596   Complete 48 plate collection from the 1848 ed....  26965717  \n",
       "1004   With in-depth information about each part of t...  50759512  \n",
       "23734  Maps and text offer information on the culture...  21197826  "
      ]
     },
     "execution_count": 4,
     "metadata": {},
     "output_type": "execute_result"
    }
   ],
   "source": [
    "classes, train, test = load(\"../trainTest.pk\")\n",
    "\n",
    "train.head()"
   ]
  },
  {
   "cell_type": "markdown",
   "metadata": {},
   "source": [
    "### Define a list of models to train"
   ]
  },
  {
   "cell_type": "code",
   "execution_count": null,
   "metadata": {},
   "outputs": [],
   "source": [
    "# Training Phase, \n",
    "models = [\n",
    "        (BASIC_MLP, None, 'MLP_100'),\n",
    "        # (GaussianNB(), {},'NaiveBayes'),\n",
    "        # (SVC(), {\"gamma\": [\"auto\"], \"kernel\": [\"rbf\", \"sigmoid\", \"poly\"]},'SVM'),\n",
    "        # (SVC, {\"gamma\": \"auto\", \"kernel\": \"rbf\"},'SVM'),\n",
    "        ]"
   ]
  },
  {
   "cell_type": "markdown",
   "metadata": {},
   "source": [
    "### Extracting features from text"
   ]
  },
  {
   "cell_type": "code",
   "execution_count": 6,
   "metadata": {},
   "outputs": [],
   "source": [
    "train = train.sample(frac=0.5) # just to make the code run faster"
   ]
  },
  {
   "cell_type": "markdown",
   "metadata": {},
   "source": [
    "##### TF-IDF\n",
    "\n",
    "return a sparse matrix of dimension [records, words]. \n",
    "Either count or tf-idf weighted. (not standardized)"
   ]
  },
  {
   "cell_type": "code",
   "execution_count": 7,
   "metadata": {},
   "outputs": [
    {
     "name": "stdout",
     "output_type": "stream",
     "text": [
      "1.23 s ± 127 ms per loop (mean ± std. dev. of 7 runs, 1 loop each)\n"
     ]
    }
   ],
   "source": [
    "%%timeit\n",
    "X_train, X_test = get_simple_features(train, test, bow=IS_BOW, only_title=False)\n",
    "X_train = X_train.toarray() \n",
    "X_test = X_test.toarray()\n",
    "# (Could have use .toarray() inside the get_simple but in case want to do something with the sparse matrix.)"
   ]
  },
  {
   "cell_type": "markdown",
   "metadata": {},
   "source": [
    "#### BERT Embeddings\n",
    "\n",
    "return a list of averaged embeddings for each record"
   ]
  },
  {
   "cell_type": "code",
   "execution_count": null,
   "metadata": {},
   "outputs": [],
   "source": [
    "%%timeit\n",
    "X_train, X_test = get_BERT_features(train, test)"
   ]
  },
  {
   "cell_type": "code",
   "execution_count": null,
   "metadata": {},
   "outputs": [],
   "source": [
    "le = preprocessing.LabelEncoder()\n",
    "y_train = le.fit_transform(train[\"class\"])\n",
    "y_test = le.transform(test[\"class\"])"
   ]
  },
  {
   "cell_type": "markdown",
   "metadata": {},
   "source": [
    "### Training Phase"
   ]
  },
  {
   "cell_type": "code",
   "execution_count": null,
   "metadata": {},
   "outputs": [],
   "source": [
    "trained_models = train_models(models, X_train, y_train)\n",
    "result_df = evaluate_many(trained_models, X_train, y_train, X_test, y_test)"
   ]
  },
  {
   "cell_type": "code",
   "execution_count": null,
   "metadata": {},
   "outputs": [],
   "source": [
    "result_df.head(10)"
   ]
  },
  {
   "cell_type": "code",
   "execution_count": null,
   "metadata": {},
   "outputs": [],
   "source": []
  }
 ],
 "metadata": {
  "kernelspec": {
   "display_name": "Python 3 (ipykernel)",
   "language": "python",
   "name": "python3"
  },
  "language_info": {
   "codemirror_mode": {
    "name": "ipython",
    "version": 3
   },
   "file_extension": ".py",
   "mimetype": "text/x-python",
   "name": "python",
   "nbconvert_exporter": "python",
   "pygments_lexer": "ipython3",
   "version": "3.9.1"
  }
 },
 "nbformat": 4,
 "nbformat_minor": 2
}
