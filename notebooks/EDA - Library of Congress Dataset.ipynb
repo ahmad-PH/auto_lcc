{
 "cells": [
  {
   "cell_type": "markdown",
   "id": "446ddd6c",
   "metadata": {},
   "source": [
    "### Exploring Library of Congress dataset\n",
    "\n",
    "--- \n",
    "Things to explore:\n",
    "\n",
    "0. Basic statistics of the dataset\n",
    "1. Are there any common words for each class? \n",
    "2. Common non-stop words in title/sypnosis\n",
    "3. Any text cleaning that we should do?\n",
    "4. Why some record title is not English and how many are theres\n",
    "5. Comparising Length of sentences for each class"
   ]
  },
  {
   "cell_type": "code",
   "execution_count": 1,
   "id": "4f3ac504",
   "metadata": {},
   "outputs": [],
   "source": [
    "import sys\n",
    "sys.path.append(\"../\") \n",
    "# go to parent dir, a bit hacky but avoid having to put all the notebooks in root directory 😬"
   ]
  },
  {
   "cell_type": "code",
   "execution_count": 91,
   "id": "d3134c54",
   "metadata": {},
   "outputs": [],
   "source": [
    "import time\n",
    "import pandas as pd\n",
    "import seaborn as sns\n",
    "from sklearn import preprocessing\n",
    "from collections import Counter\n",
    "from iml_group_proj.features.simple import get_simple_features\n",
    "from iml_group_proj.features.bert import get_BERT_features\n",
    "\n",
    "from iml_group_proj.features.common.base import clean_text\n",
    "from iml_group_proj.features.common.helper import remove_punc, sample_data, tokenize_words, truncate_words, concat_tokens, remove_punc, remove_stop_words, remove_empty_token\n",
    "\n",
    "from iml_group_proj.models.mlp import BASIC_MLP\n",
    "from iml_group_proj.evaluation import evaluate_many\n",
    "from iml_group_proj.train_models import train_models\n",
    "from iml_group_proj.features.common.data import load\n",
    "\n",
    "from IPython.display import Image\n",
    "from IPython.core.display import HTML "
   ]
  },
  {
   "cell_type": "code",
   "execution_count": 7,
   "id": "4852dd8e",
   "metadata": {},
   "outputs": [],
   "source": [
    "classes, train, test = load(\"../trainTest.pk\")"
   ]
  },
  {
   "cell_type": "code",
   "execution_count": 9,
   "id": "65bd9a4f",
   "metadata": {},
   "outputs": [],
   "source": [
    "# To make things simplier, let's combine to one big dataframe\n",
    "train[\"is_train\"] = True\n",
    "test[\"is_train\"] = False\n",
    "df = pd.concat([train, test], axis=0)\n",
    "df = df[[\"class\", \"class_name\", \"title\", \"sypnosis\", \"id\", \"is_train\"]]"
   ]
  },
  {
   "cell_type": "code",
   "execution_count": 10,
   "id": "726fcadc",
   "metadata": {},
   "outputs": [
    {
     "data": {
      "text/html": [
       "<div>\n",
       "<style scoped>\n",
       "    .dataframe tbody tr th:only-of-type {\n",
       "        vertical-align: middle;\n",
       "    }\n",
       "\n",
       "    .dataframe tbody tr th {\n",
       "        vertical-align: top;\n",
       "    }\n",
       "\n",
       "    .dataframe thead th {\n",
       "        text-align: right;\n",
       "    }\n",
       "</style>\n",
       "<table border=\"1\" class=\"dataframe\">\n",
       "  <thead>\n",
       "    <tr style=\"text-align: right;\">\n",
       "      <th></th>\n",
       "      <th>class</th>\n",
       "      <th>class_name</th>\n",
       "      <th>title</th>\n",
       "      <th>sypnosis</th>\n",
       "      <th>id</th>\n",
       "      <th>is_train</th>\n",
       "    </tr>\n",
       "  </thead>\n",
       "  <tbody>\n",
       "    <tr>\n",
       "      <th>18045</th>\n",
       "      <td>N</td>\n",
       "      <td>Fine Arts</td>\n",
       "      <td>The Usborne Introduction to art : in associati...</td>\n",
       "      <td>Detailed introduction to the history of art wi...</td>\n",
       "      <td>54799245</td>\n",
       "      <td>True</td>\n",
       "    </tr>\n",
       "    <tr>\n",
       "      <th>14931</th>\n",
       "      <td>T</td>\n",
       "      <td>Technology</td>\n",
       "      <td>Rockets /</td>\n",
       "      <td>\"An examination of the origins, history, devel...</td>\n",
       "      <td>62381342</td>\n",
       "      <td>True</td>\n",
       "    </tr>\n",
       "    <tr>\n",
       "      <th>3928</th>\n",
       "      <td>Q</td>\n",
       "      <td>Science</td>\n",
       "      <td>Scientists of Ancient Greece /</td>\n",
       "      <td>Discusses the life and work of the seven Greek...</td>\n",
       "      <td>38886648</td>\n",
       "      <td>True</td>\n",
       "    </tr>\n",
       "    <tr>\n",
       "      <th>1678</th>\n",
       "      <td>B</td>\n",
       "      <td>Philosophy. Psychology. Religion</td>\n",
       "      <td>Kontroversi Aswaja : aula perdebatan dan reint...</td>\n",
       "      <td>Islamic theology; criticism and interpretation...</td>\n",
       "      <td>45846525</td>\n",
       "      <td>True</td>\n",
       "    </tr>\n",
       "    <tr>\n",
       "      <th>23358</th>\n",
       "      <td>F</td>\n",
       "      <td>History of the Americas (F)</td>\n",
       "      <td>The Great Chicago Fire /</td>\n",
       "      <td>Discusses the 1871 Chicago fire, its causes, t...</td>\n",
       "      <td>57652528</td>\n",
       "      <td>True</td>\n",
       "    </tr>\n",
       "  </tbody>\n",
       "</table>\n",
       "</div>"
      ],
      "text/plain": [
       "      class                        class_name  \\\n",
       "18045     N                         Fine Arts   \n",
       "14931     T                        Technology   \n",
       "3928      Q                           Science   \n",
       "1678      B  Philosophy. Psychology. Religion   \n",
       "23358     F       History of the Americas (F)   \n",
       "\n",
       "                                                   title  \\\n",
       "18045  The Usborne Introduction to art : in associati...   \n",
       "14931                                          Rockets /   \n",
       "3928                      Scientists of Ancient Greece /   \n",
       "1678   Kontroversi Aswaja : aula perdebatan dan reint...   \n",
       "23358                           The Great Chicago Fire /   \n",
       "\n",
       "                                                sypnosis        id  is_train  \n",
       "18045  Detailed introduction to the history of art wi...  54799245      True  \n",
       "14931  \"An examination of the origins, history, devel...  62381342      True  \n",
       "3928   Discusses the life and work of the seven Greek...  38886648      True  \n",
       "1678   Islamic theology; criticism and interpretation...  45846525      True  \n",
       "23358  Discusses the 1871 Chicago fire, its causes, t...  57652528      True  "
      ]
     },
     "execution_count": 10,
     "metadata": {},
     "output_type": "execute_result"
    }
   ],
   "source": [
    "df.head()"
   ]
  },
  {
   "cell_type": "markdown",
   "id": "247aafe3",
   "metadata": {},
   "source": [
    "### 0) Are the class really balanced?"
   ]
  },
  {
   "cell_type": "code",
   "execution_count": 27,
   "id": "96d38151",
   "metadata": {},
   "outputs": [
    {
     "data": {
      "text/html": [
       "<div>\n",
       "<style scoped>\n",
       "    .dataframe tbody tr th:only-of-type {\n",
       "        vertical-align: middle;\n",
       "    }\n",
       "\n",
       "    .dataframe tbody tr th {\n",
       "        vertical-align: top;\n",
       "    }\n",
       "\n",
       "    .dataframe thead tr th {\n",
       "        text-align: left;\n",
       "    }\n",
       "\n",
       "    .dataframe thead tr:last-of-type th {\n",
       "        text-align: right;\n",
       "    }\n",
       "</style>\n",
       "<table border=\"1\" class=\"dataframe\">\n",
       "  <thead>\n",
       "    <tr>\n",
       "      <th></th>\n",
       "      <th colspan=\"2\" halign=\"left\">0</th>\n",
       "    </tr>\n",
       "    <tr>\n",
       "      <th>is_train</th>\n",
       "      <th>False</th>\n",
       "      <th>True</th>\n",
       "    </tr>\n",
       "    <tr>\n",
       "      <th>class_name</th>\n",
       "      <th></th>\n",
       "      <th></th>\n",
       "    </tr>\n",
       "  </thead>\n",
       "  <tbody>\n",
       "    <tr>\n",
       "      <th>Agriculture</th>\n",
       "      <td>200</td>\n",
       "      <td>1056</td>\n",
       "    </tr>\n",
       "    <tr>\n",
       "      <th>Education</th>\n",
       "      <td>200</td>\n",
       "      <td>1800</td>\n",
       "    </tr>\n",
       "    <tr>\n",
       "      <th>Fine Arts</th>\n",
       "      <td>200</td>\n",
       "      <td>1782</td>\n",
       "    </tr>\n",
       "    <tr>\n",
       "      <th>Geography. Anthropology. Recreation</th>\n",
       "      <td>200</td>\n",
       "      <td>1800</td>\n",
       "    </tr>\n",
       "    <tr>\n",
       "      <th>History of the Americas (E)</th>\n",
       "      <td>200</td>\n",
       "      <td>1800</td>\n",
       "    </tr>\n",
       "    <tr>\n",
       "      <th>History of the Americas (F)</th>\n",
       "      <td>200</td>\n",
       "      <td>1800</td>\n",
       "    </tr>\n",
       "    <tr>\n",
       "      <th>Language and Literature</th>\n",
       "      <td>200</td>\n",
       "      <td>1800</td>\n",
       "    </tr>\n",
       "    <tr>\n",
       "      <th>Law</th>\n",
       "      <td>200</td>\n",
       "      <td>1345</td>\n",
       "    </tr>\n",
       "    <tr>\n",
       "      <th>Medicine</th>\n",
       "      <td>200</td>\n",
       "      <td>1800</td>\n",
       "    </tr>\n",
       "    <tr>\n",
       "      <th>Philosophy. Psychology. Religion</th>\n",
       "      <td>200</td>\n",
       "      <td>1800</td>\n",
       "    </tr>\n",
       "    <tr>\n",
       "      <th>Political Science</th>\n",
       "      <td>200</td>\n",
       "      <td>1543</td>\n",
       "    </tr>\n",
       "    <tr>\n",
       "      <th>Science</th>\n",
       "      <td>200</td>\n",
       "      <td>1800</td>\n",
       "    </tr>\n",
       "    <tr>\n",
       "      <th>Social Sciences</th>\n",
       "      <td>200</td>\n",
       "      <td>1800</td>\n",
       "    </tr>\n",
       "    <tr>\n",
       "      <th>Technology</th>\n",
       "      <td>200</td>\n",
       "      <td>1800</td>\n",
       "    </tr>\n",
       "    <tr>\n",
       "      <th>World History and History of Europe, Asia, Africa, Australia, New Zealand, etc.</th>\n",
       "      <td>200</td>\n",
       "      <td>1800</td>\n",
       "    </tr>\n",
       "  </tbody>\n",
       "</table>\n",
       "</div>"
      ],
      "text/plain": [
       "                                                       0      \n",
       "is_train                                           False  True\n",
       "class_name                                                    \n",
       "Agriculture                                          200  1056\n",
       "Education                                            200  1800\n",
       "Fine Arts                                            200  1782\n",
       "Geography. Anthropology. Recreation                  200  1800\n",
       "History of the Americas (E)                          200  1800\n",
       "History of the Americas (F)                          200  1800\n",
       "Language and Literature                              200  1800\n",
       "Law                                                  200  1345\n",
       "Medicine                                             200  1800\n",
       "Philosophy. Psychology. Religion                     200  1800\n",
       "Political Science                                    200  1543\n",
       "Science                                              200  1800\n",
       "Social Sciences                                      200  1800\n",
       "Technology                                           200  1800\n",
       "World History and History of Europe, Asia, Afri...   200  1800"
      ]
     },
     "execution_count": 27,
     "metadata": {},
     "output_type": "execute_result"
    }
   ],
   "source": [
    "tmp = df[[\"class_name\", \"is_train\"]].value_counts().reset_index()\n",
    "tmp.pivot(index=\"class_name\", columns=\"is_train\")"
   ]
  },
  {
   "cell_type": "code",
   "execution_count": 12,
   "id": "80ce8629",
   "metadata": {},
   "outputs": [
    {
     "data": {
      "text/html": [
       "<img src=\"https://www.meme-arsenal.com/memes/e837e8811c81b0346c20fec1af8ea93d.jpg\" width=\"300\"/>"
      ],
      "text/plain": [
       "<IPython.core.display.Image object>"
      ]
     },
     "execution_count": 12,
     "metadata": {},
     "output_type": "execute_result"
    }
   ],
   "source": [
    "Image(url= \"https://www.meme-arsenal.com/memes/e837e8811c81b0346c20fec1af8ea93d.jpg\",width=300)"
   ]
  },
  {
   "cell_type": "markdown",
   "id": "26087666",
   "metadata": {},
   "source": [
    "### 1. Explore common words in each class"
   ]
  },
  {
   "cell_type": "code",
   "execution_count": 39,
   "id": "b8e6503d",
   "metadata": {},
   "outputs": [],
   "source": [
    "# Cleaning data\n",
    "cleaning_pipelines = [\n",
    "    remove_punc,\n",
    "    tokenize_words,\n",
    "    remove_stop_words,\n",
    "    remove_empty_token\n",
    "]"
   ]
  },
  {
   "cell_type": "code",
   "execution_count": 46,
   "id": "e539688e",
   "metadata": {},
   "outputs": [],
   "source": [
    "df[\"title_words\"] = clean_text(df.title, cleaning_pipelines)\n",
    "df[\"sypnosis_words\"] = clean_text(df.sypnosis, cleaning_pipelines)"
   ]
  },
  {
   "cell_type": "code",
   "execution_count": 48,
   "id": "50af1a5f",
   "metadata": {},
   "outputs": [],
   "source": [
    "word_counts = df.groupby(\"class_name\").agg({\"title_words\": sum, \"sypnosis_words\": sum})"
   ]
  },
  {
   "cell_type": "code",
   "execution_count": 76,
   "id": "e97e9757",
   "metadata": {},
   "outputs": [
    {
     "data": {
      "text/html": [
       "<div>\n",
       "<style scoped>\n",
       "    .dataframe tbody tr th:only-of-type {\n",
       "        vertical-align: middle;\n",
       "    }\n",
       "\n",
       "    .dataframe tbody tr th {\n",
       "        vertical-align: top;\n",
       "    }\n",
       "\n",
       "    .dataframe thead th {\n",
       "        text-align: right;\n",
       "    }\n",
       "</style>\n",
       "<table border=\"1\" class=\"dataframe\">\n",
       "  <thead>\n",
       "    <tr style=\"text-align: right;\">\n",
       "      <th></th>\n",
       "      <th>title_words</th>\n",
       "    </tr>\n",
       "    <tr>\n",
       "      <th>class_name</th>\n",
       "      <th></th>\n",
       "    </tr>\n",
       "  </thead>\n",
       "  <tbody>\n",
       "    <tr>\n",
       "      <th>Agriculture</th>\n",
       "      <td>[(The, 130), (dan, 68), (book, 53), (di, 47), (dog, 41), (farm, 41), (dogs, 41), (A, 37), (story, 36), (guide, 35), (garden, 34), (life, 28), (horses, 28), (true, 27), (horse, 26), (My, 24), (animals, 22), (cat, 21), (Indonesia, 21), (hutan, 21)]</td>\n",
       "    </tr>\n",
       "    <tr>\n",
       "      <th>Education</th>\n",
       "      <td>[(The, 190), (education, 136), (learning, 116), (pendidikan, 116), (guide, 116), (school, 107), (dan, 93), (activities, 88), (reading, 80), (teachers, 72), (students, 68), (writing, 68), (classroom, 67), (A, 61), (skills, 59), (di, 57), (children, 54), (teaching, 54), (book, 52), (Teaching, 51)]</td>\n",
       "    </tr>\n",
       "    <tr>\n",
       "      <th>Fine Arts</th>\n",
       "      <td>[(art, 302), (The, 258), (Art, 81), (artists, 61), (book, 60), (dan, 56), (American, 52), (A, 52), (architecture, 51), (seni, 50), (de, 49), (guide, 40), (Indonesia, 40), (life, 39), (history, 38), (artist, 38), (world, 35), (di, 31), (arts, 31), (draw, 30)]</td>\n",
       "    </tr>\n",
       "    <tr>\n",
       "      <th>Geography. Anthropology. Recreation</th>\n",
       "      <td>[(The, 236), (world, 96), (history, 68), (dan, 66), (book, 64), (sports, 56), (baseball, 51), (guide, 51), (story, 48), (games, 44), (A, 38), (di, 37), (Christmas, 36), (I, 34), (geography, 29), (around, 28), (game, 27), (life, 27), (masyarakat, 26), (America, 24)]</td>\n",
       "    </tr>\n",
       "    <tr>\n",
       "      <th>History of the Americas (E)</th>\n",
       "      <td>[(The, 476), (American, 252), (America, 141), (War, 127), (history, 121), (Civil, 92), (story, 84), (Americans, 83), (States, 70), (Indian, 69), (United, 68), (Native, 65), (Indians, 61), (life, 56), (Black, 50), (Americas, 49), (A, 48), (freedom, 42), (John, 42), (King, 41)]</td>\n",
       "    </tr>\n",
       "    <tr>\n",
       "      <th>History of the Americas (F)</th>\n",
       "      <td>[(The, 316), (de, 181), (America, 92), (Mexico, 90), (la, 88), (history, 81), (Ohio, 71), (American, 68), (A, 64), (New, 58), (story, 53), (en, 53), (West, 52), (alphabet, 44), (life, 42), (los, 41), (Lewis, 40), (Clark, 40), (County, 40), (del, 39)]</td>\n",
       "    </tr>\n",
       "    <tr>\n",
       "      <th>Language and Literature</th>\n",
       "      <td>[(The, 428), (novel, 86), (A, 68), (mystery, 46), (stories, 43), (story, 34), (I, 34), (Little, 30), (book, 30), (poems, 27), (Christmas, 25), (tale, 25), (dan, 23), (bahasa, 19), (little, 19), (night, 17), (My, 17), (love, 16), (How, 15), (man, 14)]</td>\n",
       "    </tr>\n",
       "    <tr>\n",
       "      <th>Law</th>\n",
       "      <td>[(dan, 207), (The, 189), (law, 145), (hukum, 124), (di, 123), (Indonesia, 101), (Islam, 77), (dalam, 76), (rights, 67), (tahun, 52), (undangundang, 47), (Court, 47), (laws, 43), (justice, 43), (trial, 42), (Malaysia, 42), (case, 42), (Akta, 40), (A, 39), (United, 37)]</td>\n",
       "    </tr>\n",
       "    <tr>\n",
       "      <th>Medicine</th>\n",
       "      <td>[(health, 193), (The, 184), (guide, 115), (disorders, 92), (medicine, 71), (medical, 68), (information, 67), (AIDS, 67), (care, 62), (story, 57), (disease, 53), (dan, 47), (children, 44), (A, 44), (book, 43), (Health, 43), (life, 39), (nursing, 38), (diseases, 36), (drugs, 35)]</td>\n",
       "    </tr>\n",
       "    <tr>\n",
       "      <th>Philosophy. Psychology. Religion</th>\n",
       "      <td>[(The, 291), (dan, 182), (Islam, 139), (di, 81), (dalam, 74), (Bible, 60), (A, 58), (Indonesia, 46), (world, 45), (God, 44), (life, 44), (stories, 43), (book, 42), (story, 40), (guide, 37), (Jesus, 33), (fi, 31), (religion, 29), (history, 29), (I, 28)]</td>\n",
       "    </tr>\n",
       "    <tr>\n",
       "      <th>Political Science</th>\n",
       "      <td>[(dan, 251), (The, 162), (Indonesia, 126), (di, 109), (politik, 109), (dalam, 84), (American, 52), (politics, 51), (daerah, 50), (government, 50), (demokrasi, 49), (Pancasila, 45), (America, 45), (United, 44), (negara, 42), (Islam, 42), (rights, 36), (political, 33), (tahun, 33), (dari, 31)]</td>\n",
       "    </tr>\n",
       "    <tr>\n",
       "      <th>Science</th>\n",
       "      <td>[(The, 236), (science, 98), (book, 80), (guide, 59), (life, 51), (A, 50), (world, 40), (animals, 36), (What, 32), (story, 30), (Science, 30), (animal, 28), (body, 27), (How, 26), (experiments, 25), (mathematics, 23), (activities, 23), (forest, 23), (I, 22), (nature, 22)]</td>\n",
       "    </tr>\n",
       "    <tr>\n",
       "      <th>Social Sciences</th>\n",
       "      <td>[(The, 190), (dan, 164), (di, 107), (Indonesia, 88), (dalam, 56), (guide, 53), (pembangunan, 48), (ekonomi, 46), (masyarakat, 41), (American, 39), (business, 37), (America, 36), (de, 36), (story, 34), (women, 34), (sosial, 32), (social, 31), (states, 31), (Women, 31), (life, 31)]</td>\n",
       "    </tr>\n",
       "    <tr>\n",
       "      <th>Technology</th>\n",
       "      <td>[(The, 185), (IEEE, 95), (guide, 65), (book, 61), (standard, 57), (technology, 50), (concrete, 47), (kids, 47), (systems, 46), (A, 41), (course, 41), (design, 37), (crafts, 36), (space, 35), (dan, 34), (cookbook, 34), (food, 33), (test, 33), (American, 31), (Virginia, 31)]</td>\n",
       "    </tr>\n",
       "  </tbody>\n",
       "</table>\n",
       "</div>"
      ],
      "text/plain": [
       "                                                                                                                                                                                                                                                                                                                                  title_words\n",
       "class_name                                                                                                                                                                                                                                                                                                                                   \n",
       "Agriculture                                                                            [(The, 130), (dan, 68), (book, 53), (di, 47), (dog, 41), (farm, 41), (dogs, 41), (A, 37), (story, 36), (guide, 35), (garden, 34), (life, 28), (horses, 28), (true, 27), (horse, 26), (My, 24), (animals, 22), (cat, 21), (Indonesia, 21), (hutan, 21)]\n",
       "Education                            [(The, 190), (education, 136), (learning, 116), (pendidikan, 116), (guide, 116), (school, 107), (dan, 93), (activities, 88), (reading, 80), (teachers, 72), (students, 68), (writing, 68), (classroom, 67), (A, 61), (skills, 59), (di, 57), (children, 54), (teaching, 54), (book, 52), (Teaching, 51)]\n",
       "Fine Arts                                                                  [(art, 302), (The, 258), (Art, 81), (artists, 61), (book, 60), (dan, 56), (American, 52), (A, 52), (architecture, 51), (seni, 50), (de, 49), (guide, 40), (Indonesia, 40), (life, 39), (history, 38), (artist, 38), (world, 35), (di, 31), (arts, 31), (draw, 30)]\n",
       "Geography. Anthropology. Recreation                                 [(The, 236), (world, 96), (history, 68), (dan, 66), (book, 64), (sports, 56), (baseball, 51), (guide, 51), (story, 48), (games, 44), (A, 38), (di, 37), (Christmas, 36), (I, 34), (geography, 29), (around, 28), (game, 27), (life, 27), (masyarakat, 26), (America, 24)]\n",
       "History of the Americas (E)                              [(The, 476), (American, 252), (America, 141), (War, 127), (history, 121), (Civil, 92), (story, 84), (Americans, 83), (States, 70), (Indian, 69), (United, 68), (Native, 65), (Indians, 61), (life, 56), (Black, 50), (Americas, 49), (A, 48), (freedom, 42), (John, 42), (King, 41)]\n",
       "History of the Americas (F)                                                        [(The, 316), (de, 181), (America, 92), (Mexico, 90), (la, 88), (history, 81), (Ohio, 71), (American, 68), (A, 64), (New, 58), (story, 53), (en, 53), (West, 52), (alphabet, 44), (life, 42), (los, 41), (Lewis, 40), (Clark, 40), (County, 40), (del, 39)]\n",
       "Language and Literature                                                            [(The, 428), (novel, 86), (A, 68), (mystery, 46), (stories, 43), (story, 34), (I, 34), (Little, 30), (book, 30), (poems, 27), (Christmas, 25), (tale, 25), (dan, 23), (bahasa, 19), (little, 19), (night, 17), (My, 17), (love, 16), (How, 15), (man, 14)]\n",
       "Law                                                              [(dan, 207), (The, 189), (law, 145), (hukum, 124), (di, 123), (Indonesia, 101), (Islam, 77), (dalam, 76), (rights, 67), (tahun, 52), (undangundang, 47), (Court, 47), (laws, 43), (justice, 43), (trial, 42), (Malaysia, 42), (case, 42), (Akta, 40), (A, 39), (United, 37)]\n",
       "Medicine                                               [(health, 193), (The, 184), (guide, 115), (disorders, 92), (medicine, 71), (medical, 68), (information, 67), (AIDS, 67), (care, 62), (story, 57), (disease, 53), (dan, 47), (children, 44), (A, 44), (book, 43), (Health, 43), (life, 39), (nursing, 38), (diseases, 36), (drugs, 35)]\n",
       "Philosophy. Psychology. Religion                                                 [(The, 291), (dan, 182), (Islam, 139), (di, 81), (dalam, 74), (Bible, 60), (A, 58), (Indonesia, 46), (world, 45), (God, 44), (life, 44), (stories, 43), (book, 42), (story, 40), (guide, 37), (Jesus, 33), (fi, 31), (religion, 29), (history, 29), (I, 28)]\n",
       "Political Science                        [(dan, 251), (The, 162), (Indonesia, 126), (di, 109), (politik, 109), (dalam, 84), (American, 52), (politics, 51), (daerah, 50), (government, 50), (demokrasi, 49), (Pancasila, 45), (America, 45), (United, 44), (negara, 42), (Islam, 42), (rights, 36), (political, 33), (tahun, 33), (dari, 31)]\n",
       "Science                                                       [(The, 236), (science, 98), (book, 80), (guide, 59), (life, 51), (A, 50), (world, 40), (animals, 36), (What, 32), (story, 30), (Science, 30), (animal, 28), (body, 27), (How, 26), (experiments, 25), (mathematics, 23), (activities, 23), (forest, 23), (I, 22), (nature, 22)]\n",
       "Social Sciences                                      [(The, 190), (dan, 164), (di, 107), (Indonesia, 88), (dalam, 56), (guide, 53), (pembangunan, 48), (ekonomi, 46), (masyarakat, 41), (American, 39), (business, 37), (America, 36), (de, 36), (story, 34), (women, 34), (sosial, 32), (social, 31), (states, 31), (Women, 31), (life, 31)]\n",
       "Technology                                                  [(The, 185), (IEEE, 95), (guide, 65), (book, 61), (standard, 57), (technology, 50), (concrete, 47), (kids, 47), (systems, 46), (A, 41), (course, 41), (design, 37), (crafts, 36), (space, 35), (dan, 34), (cookbook, 34), (food, 33), (test, 33), (American, 31), (Virginia, 31)]"
      ]
     },
     "execution_count": 76,
     "metadata": {},
     "output_type": "execute_result"
    }
   ],
   "source": [
    "title_counts = word_counts[\"title_words\"].apply(lambda word_counts: Counter(word_counts))\n",
    "result = pd.DataFrame(title_counts.apply(lambda x: x.most_common(20)))[:-1]\n",
    "\n",
    "result"
   ]
  },
  {
   "cell_type": "code",
   "execution_count": 77,
   "id": "1c192732",
   "metadata": {},
   "outputs": [
    {
     "data": {
      "text/html": [
       "<div>\n",
       "<style scoped>\n",
       "    .dataframe tbody tr th:only-of-type {\n",
       "        vertical-align: middle;\n",
       "    }\n",
       "\n",
       "    .dataframe tbody tr th {\n",
       "        vertical-align: top;\n",
       "    }\n",
       "\n",
       "    .dataframe thead th {\n",
       "        text-align: right;\n",
       "    }\n",
       "</style>\n",
       "<table border=\"1\" class=\"dataframe\">\n",
       "  <thead>\n",
       "    <tr style=\"text-align: right;\">\n",
       "      <th></th>\n",
       "      <th>sypnosis_words</th>\n",
       "    </tr>\n",
       "    <tr>\n",
       "      <th>class_name</th>\n",
       "      <th></th>\n",
       "    </tr>\n",
       "  </thead>\n",
       "  <tbody>\n",
       "    <tr>\n",
       "      <th>Agriculture</th>\n",
       "      <td>[(The, 176), (care, 157), (Describes, 151), (life, 139), (history, 128), (information, 118), (A, 118), (text, 116), (photographs, 113), (including, 107), (dogs, 107), (animals, 103), (This, 92), (behavior, 86), (Discusses, 84), (dog, 81), (development, 80), (forest, 78), (farm, 77), (different, 76)]</td>\n",
       "    </tr>\n",
       "    <tr>\n",
       "      <th>Education</th>\n",
       "      <td>[(students, 693), (education, 531), (The, 513), (school, 460), (teachers, 431), (book, 405), (learning, 385), (This, 378), (activities, 320), (children, 317), (reading, 301), (schools, 244), (skills, 234), (teaching, 223), (research, 212), (classroom, 211), (information, 205), (A, 191), (help, 191), (teacher, 189)]</td>\n",
       "    </tr>\n",
       "    <tr>\n",
       "      <th>Fine Arts</th>\n",
       "      <td>[(art, 765), (artists, 415), (The, 345), (work, 308), (life, 303), (works, 247), (artist, 245), (book, 243), (paintings, 226), (A, 220), (American, 199), (This, 178), (history, 173), (painting, 160), (architecture, 145), (world, 138), (Art, 132), (painter, 130), (information, 129), (collection, 125)]</td>\n",
       "    </tr>\n",
       "    <tr>\n",
       "      <th>Geography. Anthropology. Recreation</th>\n",
       "      <td>[(history, 317), (The, 272), (A, 261), (world, 243), (life, 206), (Describes, 195), (This, 182), (book, 178), (including, 175), (baseball, 166), (games, 132), (information, 130), (publisher, 130), (people, 130), (sports, 124), (American, 119), (first, 115), (one, 107), (game, 99), (Discusses, 99)]</td>\n",
       "    </tr>\n",
       "    <tr>\n",
       "      <th>History of the Americas (E)</th>\n",
       "      <td>[(American, 718), (life, 540), (history, 506), (The, 393), (A, 385), (United, 304), (War, 298), (States, 297), (people, 258), (Americans, 258), (America, 230), (political, 210), (first, 208), (Indian, 201), (This, 189), (book, 188), (biography, 171), (events, 170), (Civil, 169), (Native, 169)]</td>\n",
       "    </tr>\n",
       "    <tr>\n",
       "      <th>History of the Americas (F)</th>\n",
       "      <td>[(history, 750), (American, 641), (Latin, 463), (people, 419), (Studies, 419), (v, 418), (geography, 328), (life, 319), (The, 283), (A, 273), (culture, 255), (economy, 221), (57, 216), (de, 206), (58, 200), (government, 175), (An, 167), (Describes, 159), (political, 146), (state, 141)]</td>\n",
       "    </tr>\n",
       "    <tr>\n",
       "      <th>Language and Literature</th>\n",
       "      <td>[(A, 458), (The, 405), (life, 199), (In, 196), (When, 166), (one, 164), (family, 161), (new, 153), (young, 143), (author, 132), (man, 118), (mother, 113), (father, 108), (girl, 106), (woman, 106), (boy, 105), (find, 104), (friends, 99), (story, 98), (school, 98)]</td>\n",
       "    </tr>\n",
       "    <tr>\n",
       "      <th>Law</th>\n",
       "      <td>[(law, 556), (legal, 298), (The, 254), (Court, 203), (Indonesia, 196), (Indonesian, 188), (rights, 175), (This, 170), (Supreme, 169), (cases, 166), (laws, 155), (Islamic, 137), (issues, 134), (information, 131), (Constitution, 129), (United, 126), (history, 125), (American, 123), (book, 117), (States, 115)]</td>\n",
       "    </tr>\n",
       "    <tr>\n",
       "      <th>Medicine</th>\n",
       "      <td>[(health, 583), (The, 526), (information, 445), (treatment, 294), (medical, 292), (book, 284), (This, 280), (disease, 271), (A, 231), (disorders, 223), (care, 201), (Discusses, 197), (medicine, 190), (research, 182), (including, 176), (diseases, 160), (publisher, 159), (use, 158), (effects, 154), (people, 151)]</td>\n",
       "    </tr>\n",
       "    <tr>\n",
       "      <th>Philosophy. Psychology. Religion</th>\n",
       "      <td>[(The, 383), (life, 278), (Islamic, 261), (book, 222), (Indonesia, 204), (A, 193), (religious, 188), (history, 173), (This, 169), (world, 164), (In, 164), (Catholic, 157), (Islam, 148), (articles, 141), (publisher, 137), (collection, 128), (people, 127), (religion, 109), (Christian, 109), (work, 109)]</td>\n",
       "    </tr>\n",
       "    <tr>\n",
       "      <th>Political Science</th>\n",
       "      <td>[(political, 433), (Indonesia, 339), (government, 299), (The, 271), (American, 230), (This, 193), (politics, 190), (rights, 189), (articles, 186), (United, 171), (Indonesian, 168), (state, 153), (book, 153), (information, 150), (election, 142), (history, 138), (collection, 134), (human, 132), (publisher, 125), (public, 125)]</td>\n",
       "    </tr>\n",
       "    <tr>\n",
       "      <th>Science</th>\n",
       "      <td>[(life, 325), (The, 311), (Describes, 305), (animals, 260), (characteristics, 214), (physical, 202), (A, 201), (science, 198), (text, 192), (behavior, 187), (information, 186), (including, 183), (world, 167), (different, 166), (book, 162), (This, 149), (various, 131), (species, 124), (activities, 120), (illustrations, 108)]</td>\n",
       "    </tr>\n",
       "    <tr>\n",
       "      <th>Social Sciences</th>\n",
       "      <td>[(The, 540), (This, 346), (Indonesia, 255), (book, 226), (economic, 208), (American, 196), (information, 191), (development, 191), (women, 185), (social, 180), (In, 175), (articles, 167), (A, 166), (research, 153), (use, 152), (children, 148), (data, 142), (life, 142), (new, 137), (business, 133)]</td>\n",
       "    </tr>\n",
       "    <tr>\n",
       "      <th>Technology</th>\n",
       "      <td>[(The, 949), (This, 375), (used, 297), (A, 295), (information, 243), (design, 235), (using, 233), (data, 230), (including, 227), (use, 224), (book, 201), (concrete, 199), (also, 189), (study, 183), (bridge, 183), (system, 173), (different, 164), (test, 161), (materials, 161), (systems, 159)]</td>\n",
       "    </tr>\n",
       "  </tbody>\n",
       "</table>\n",
       "</div>"
      ],
      "text/plain": [
       "                                                                                                                                                                                                                                                                                                                                                             sypnosis_words\n",
       "class_name                                                                                                                                                                                                                                                                                                                                                                 \n",
       "Agriculture                                                    [(The, 176), (care, 157), (Describes, 151), (life, 139), (history, 128), (information, 118), (A, 118), (text, 116), (photographs, 113), (including, 107), (dogs, 107), (animals, 103), (This, 92), (behavior, 86), (Discusses, 84), (dog, 81), (development, 80), (forest, 78), (farm, 77), (different, 76)]\n",
       "Education                                      [(students, 693), (education, 531), (The, 513), (school, 460), (teachers, 431), (book, 405), (learning, 385), (This, 378), (activities, 320), (children, 317), (reading, 301), (schools, 244), (skills, 234), (teaching, 223), (research, 212), (classroom, 211), (information, 205), (A, 191), (help, 191), (teacher, 189)]\n",
       "Fine Arts                                                     [(art, 765), (artists, 415), (The, 345), (work, 308), (life, 303), (works, 247), (artist, 245), (book, 243), (paintings, 226), (A, 220), (American, 199), (This, 178), (history, 173), (painting, 160), (architecture, 145), (world, 138), (Art, 132), (painter, 130), (information, 129), (collection, 125)]\n",
       "Geography. Anthropology. Recreation                              [(history, 317), (The, 272), (A, 261), (world, 243), (life, 206), (Describes, 195), (This, 182), (book, 178), (including, 175), (baseball, 166), (games, 132), (information, 130), (publisher, 130), (people, 130), (sports, 124), (American, 119), (first, 115), (one, 107), (game, 99), (Discusses, 99)]\n",
       "History of the Americas (E)                                          [(American, 718), (life, 540), (history, 506), (The, 393), (A, 385), (United, 304), (War, 298), (States, 297), (people, 258), (Americans, 258), (America, 230), (political, 210), (first, 208), (Indian, 201), (This, 189), (book, 188), (biography, 171), (events, 170), (Civil, 169), (Native, 169)]\n",
       "History of the Americas (F)                                                  [(history, 750), (American, 641), (Latin, 463), (people, 419), (Studies, 419), (v, 418), (geography, 328), (life, 319), (The, 283), (A, 273), (culture, 255), (economy, 221), (57, 216), (de, 206), (58, 200), (government, 175), (An, 167), (Describes, 159), (political, 146), (state, 141)]\n",
       "Language and Literature                                                                             [(A, 458), (The, 405), (life, 199), (In, 196), (When, 166), (one, 164), (family, 161), (new, 153), (young, 143), (author, 132), (man, 118), (mother, 113), (father, 108), (girl, 106), (woman, 106), (boy, 105), (find, 104), (friends, 99), (story, 98), (school, 98)]\n",
       "Law                                                    [(law, 556), (legal, 298), (The, 254), (Court, 203), (Indonesia, 196), (Indonesian, 188), (rights, 175), (This, 170), (Supreme, 169), (cases, 166), (laws, 155), (Islamic, 137), (issues, 134), (information, 131), (Constitution, 129), (United, 126), (history, 125), (American, 123), (book, 117), (States, 115)]\n",
       "Medicine                                           [(health, 583), (The, 526), (information, 445), (treatment, 294), (medical, 292), (book, 284), (This, 280), (disease, 271), (A, 231), (disorders, 223), (care, 201), (Discusses, 197), (medicine, 190), (research, 182), (including, 176), (diseases, 160), (publisher, 159), (use, 158), (effects, 154), (people, 151)]\n",
       "Philosophy. Psychology. Religion                             [(The, 383), (life, 278), (Islamic, 261), (book, 222), (Indonesia, 204), (A, 193), (religious, 188), (history, 173), (This, 169), (world, 164), (In, 164), (Catholic, 157), (Islam, 148), (articles, 141), (publisher, 137), (collection, 128), (people, 127), (religion, 109), (Christian, 109), (work, 109)]\n",
       "Political Science                    [(political, 433), (Indonesia, 339), (government, 299), (The, 271), (American, 230), (This, 193), (politics, 190), (rights, 189), (articles, 186), (United, 171), (Indonesian, 168), (state, 153), (book, 153), (information, 150), (election, 142), (history, 138), (collection, 134), (human, 132), (publisher, 125), (public, 125)]\n",
       "Science                               [(life, 325), (The, 311), (Describes, 305), (animals, 260), (characteristics, 214), (physical, 202), (A, 201), (science, 198), (text, 192), (behavior, 187), (information, 186), (including, 183), (world, 167), (different, 166), (book, 162), (This, 149), (various, 131), (species, 124), (activities, 120), (illustrations, 108)]\n",
       "Social Sciences                                                  [(The, 540), (This, 346), (Indonesia, 255), (book, 226), (economic, 208), (American, 196), (information, 191), (development, 191), (women, 185), (social, 180), (In, 175), (articles, 167), (A, 166), (research, 153), (use, 152), (children, 148), (data, 142), (life, 142), (new, 137), (business, 133)]\n",
       "Technology                                                             [(The, 949), (This, 375), (used, 297), (A, 295), (information, 243), (design, 235), (using, 233), (data, 230), (including, 227), (use, 224), (book, 201), (concrete, 199), (also, 189), (study, 183), (bridge, 183), (system, 173), (different, 164), (test, 161), (materials, 161), (systems, 159)]"
      ]
     },
     "execution_count": 77,
     "metadata": {},
     "output_type": "execute_result"
    }
   ],
   "source": [
    "title_counts = word_counts[\"sypnosis_words\"].apply(lambda word_counts: Counter(word_counts))\n",
    "result = pd.DataFrame(title_counts.apply(lambda x: x.most_common(20)))[:-1]\n",
    "\n",
    "result"
   ]
  },
  {
   "cell_type": "markdown",
   "id": "87fad0b8",
   "metadata": {},
   "source": [
    "### Record's title that aren't English"
   ]
  },
  {
   "cell_type": "code",
   "execution_count": 87,
   "id": "2c50e8c3",
   "metadata": {
    "scrolled": false
   },
   "outputs": [
    {
     "data": {
      "text/html": [
       "<div>\n",
       "<style scoped>\n",
       "    .dataframe tbody tr th:only-of-type {\n",
       "        vertical-align: middle;\n",
       "    }\n",
       "\n",
       "    .dataframe tbody tr th {\n",
       "        vertical-align: top;\n",
       "    }\n",
       "\n",
       "    .dataframe thead th {\n",
       "        text-align: right;\n",
       "    }\n",
       "</style>\n",
       "<table border=\"1\" class=\"dataframe\">\n",
       "  <thead>\n",
       "    <tr style=\"text-align: right;\">\n",
       "      <th></th>\n",
       "      <th>title</th>\n",
       "      <th>sypnosis</th>\n",
       "    </tr>\n",
       "  </thead>\n",
       "  <tbody>\n",
       "    <tr>\n",
       "      <th>415</th>\n",
       "      <td>Memori masa bhakti /</td>\n",
       "      <td>End-of-office report of former President Habibie's cabinet, May 1998-Oct. 1999.</td>\n",
       "    </tr>\n",
       "    <tr>\n",
       "      <th>24157</th>\n",
       "      <td>Scenarios for the insurgency in Iraq /</td>\n",
       "      <td>Touching on a top U.S. foreign policy priority, this Special Report identifies several possibly outcomes of the insurgency in Iraq, and recommends to U.S. policymakers the best strategies to deal with the current situation and the unfolding futures.</td>\n",
       "    </tr>\n",
       "    <tr>\n",
       "      <th>1049</th>\n",
       "      <td>Brazilian industrialists and democratic change /</td>\n",
       "      <td>\"Important study of business elites and their attitudes toward democratization in 1980s is based heavily on personal interviews with leading industrialists. Finds that many of the incentives that led these actors to support the coup of 1964 have changed or disappeared. Offers a worthwhile glimpse into the thinking of these elites\"--Handbook of Latin American Studies, v. 57.</td>\n",
       "    </tr>\n",
       "    <tr>\n",
       "      <th>15289</th>\n",
       "      <td>Menuju partai masa depan : pemikiran dan gagasan tentang PPP /</td>\n",
       "      <td>Collection of opinions and concepts on Partai Persatuan Pembangunan.</td>\n",
       "    </tr>\n",
       "    <tr>\n",
       "      <th>2121</th>\n",
       "      <td>Kekuasaan presiden dalam UUD 1945 sangat besar /</td>\n",
       "      <td>The executive power of the president according to the 1945 Constitution.</td>\n",
       "    </tr>\n",
       "    <tr>\n",
       "      <th>1149</th>\n",
       "      <td>Dasar awam di Malaysia /</td>\n",
       "      <td>Public administration in Malaysia.</td>\n",
       "    </tr>\n",
       "    <tr>\n",
       "      <th>12976</th>\n",
       "      <td>Wira bangsa dalam kenangan : sejarah perjuangan UMNO &amp; profil ahli majlis kerja tertinggi, 1946-2000.</td>\n",
       "      <td>History and profile of UMNO Supreme Council members from 1946 to 2000.</td>\n",
       "    </tr>\n",
       "    <tr>\n",
       "      <th>10683</th>\n",
       "      <td>1996 tahun kekerasan : potret pelanggaran HAM di Indonesia.</td>\n",
       "      <td>Human and civil rights abuse in Indonesia, 1996; report.</td>\n",
       "    </tr>\n",
       "    <tr>\n",
       "      <th>12378</th>\n",
       "      <td>Manajemen otonomi daerah : membangun daerah berdasar paradigma baru /</td>\n",
       "      <td>Study of regional autonomy in Indonesia.</td>\n",
       "    </tr>\n",
       "    <tr>\n",
       "      <th>7538</th>\n",
       "      <td>Menentang arogansi kekuasaan : kasus Mega Bintang /</td>\n",
       "      <td>Indonesian politics leading up to the 1997 elections, and the alliance between PDI Perjuangan and PPP; research report.</td>\n",
       "    </tr>\n",
       "  </tbody>\n",
       "</table>\n",
       "</div>"
      ],
      "text/plain": [
       "                                                                                                       title                                                                                                                                                                                                                                                                                                                                                                                  sypnosis\n",
       "415                                                                                     Memori masa bhakti /                                                                                                                                                                                                                                                                                                           End-of-office report of former President Habibie's cabinet, May 1998-Oct. 1999.\n",
       "24157                                                                 Scenarios for the insurgency in Iraq /                                                                                                                                 Touching on a top U.S. foreign policy priority, this Special Report identifies several possibly outcomes of the insurgency in Iraq, and recommends to U.S. policymakers the best strategies to deal with the current situation and the unfolding futures.\n",
       "1049                                                        Brazilian industrialists and democratic change /  \"Important study of business elites and their attitudes toward democratization in 1980s is based heavily on personal interviews with leading industrialists. Finds that many of the incentives that led these actors to support the coup of 1964 have changed or disappeared. Offers a worthwhile glimpse into the thinking of these elites\"--Handbook of Latin American Studies, v. 57.\n",
       "15289                                         Menuju partai masa depan : pemikiran dan gagasan tentang PPP /                                                                                                                                                                                                                                                                                                                      Collection of opinions and concepts on Partai Persatuan Pembangunan.\n",
       "2121                                                        Kekuasaan presiden dalam UUD 1945 sangat besar /                                                                                                                                                                                                                                                                                                                  The executive power of the president according to the 1945 Constitution.\n",
       "1149                                                                                Dasar awam di Malaysia /                                                                                                                                                                                                                                                                                                                                                        Public administration in Malaysia.\n",
       "12976  Wira bangsa dalam kenangan : sejarah perjuangan UMNO & profil ahli majlis kerja tertinggi, 1946-2000.                                                                                                                                                                                                                                                                                                                    History and profile of UMNO Supreme Council members from 1946 to 2000.\n",
       "10683                                            1996 tahun kekerasan : potret pelanggaran HAM di Indonesia.                                                                                                                                                                                                                                                                                                                                  Human and civil rights abuse in Indonesia, 1996; report.\n",
       "12378                                  Manajemen otonomi daerah : membangun daerah berdasar paradigma baru /                                                                                                                                                                                                                                                                                                                                                  Study of regional autonomy in Indonesia.\n",
       "7538                                                     Menentang arogansi kekuasaan : kasus Mega Bintang /                                                                                                                                                                                                                                                                   Indonesian politics leading up to the 1997 elections, and the alliance between PDI Perjuangan and PPP; research report."
      ]
     },
     "execution_count": 87,
     "metadata": {},
     "output_type": "execute_result"
    }
   ],
   "source": [
    "# Seems like lots of title from Political Science aren't English, their sypnosis are though.\n",
    "df[[\"title\", \"sypnosis\"]][df.class_name ==\"Political Science\"].sample(10)"
   ]
  },
  {
   "cell_type": "markdown",
   "id": "83a55588",
   "metadata": {},
   "source": [
    "### Comparing sentences length of each class"
   ]
  },
  {
   "cell_type": "code",
   "execution_count": 105,
   "id": "e0ec790e",
   "metadata": {},
   "outputs": [
    {
     "data": {
      "text/plain": [
       "<AxesSubplot:xlabel='title_words_count', ylabel='class_name'>"
      ]
     },
     "execution_count": 105,
     "metadata": {},
     "output_type": "execute_result"
    },
    {
     "data": {
      "image/png": "[encoded data removed]",
      "text/plain": [
       "<Figure size 432x288 with 1 Axes>"
      ]
     },
     "metadata": {
      "needs_background": "light"
     },
     "output_type": "display_data"
    }
   ],
   "source": [
    "df[\"title_words_count\"] = df.title_words.apply(len)\n",
    "df_ = df[df.title_words_count < 20].sort_values(\"title_words_count\")\n",
    "sns.boxplot(data=df_.reset_index(), x=\"title_words_count\", y=\"class_name\")"
   ]
  },
  {
   "cell_type": "code",
   "execution_count": 112,
   "id": "3859a6fe",
   "metadata": {},
   "outputs": [
    {
     "data": {
      "text/plain": [
       "<AxesSubplot:xlabel='sypnosis_words_count', ylabel='class_name'>"
      ]
     },
     "execution_count": 112,
     "metadata": {},
     "output_type": "execute_result"
    },
    {
     "data": {
      "image/png": "[encoded data removed]",
      "text/plain": [
       "<Figure size 432x288 with 1 Axes>"
      ]
     },
     "metadata": {
      "needs_background": "light"
     },
     "output_type": "display_data"
    }
   ],
   "source": [
    "df[\"sypnosis_words_count\"] = df.sypnosis_words.apply(len)\n",
    "df_ = df[df.sypnosis_words_count < 100].sort_values(\"sypnosis_words_count\")\n",
    "sns.boxplot(data=df_.reset_index(), x=\"sypnosis_words_count\", y=\"class_name\")"
   ]
  },
  {
   "cell_type": "code",
   "execution_count": null,
   "id": "71ed92b6",
   "metadata": {},
   "outputs": [],
   "source": []
  }
 ],
 "metadata": {
  "kernelspec": {
   "display_name": "Python 3 (ipykernel)",
   "language": "python",
   "name": "python3"
  },
  "language_info": {
   "codemirror_mode": {
    "name": "ipython",
    "version": 3
   },
   "file_extension": ".py",
   "mimetype": "text/x-python",
   "name": "python",
   "nbconvert_exporter": "python",
   "pygments_lexer": "ipython3",
   "version": "3.9.1"
  }
 },
 "nbformat": 4,
 "nbformat_minor": 5
}
