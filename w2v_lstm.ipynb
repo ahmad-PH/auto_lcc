{
 "cells": [
  {
   "cell_type": "code",
   "execution_count": 1,
   "id": "a97f4f96",
   "metadata": {},
   "outputs": [],
   "source": [
    "import sys\n",
    "from data import RecordStore, Record\n",
    "import numpy as np\n",
    "from typing import *\n",
    "import torch\n",
    "import torch.nn as nn\n",
    "import torch.nn.functional as F\n",
    "import torch.nn.utils.rnn as rnn\n",
    "import matplotlib.pyplot as plt\n"
   ]
  },
  {
   "cell_type": "code",
   "execution_count": 2,
   "id": "6dad5c80",
   "metadata": {},
   "outputs": [
    {
     "data": {
      "text/plain": [
       "(15,\n",
       " ['P', 'D', 'Q', 'K', 'E', 'H', 'F', 'T', 'S', 'R', 'G', 'B', 'N', 'L', 'J'])"
      ]
     },
     "execution_count": 2,
     "metadata": {},
     "output_type": "execute_result"
    }
   ],
   "source": [
    "RecordStore.load()\n",
    "RecordStore.load_w2v()\n",
    "\n",
    "len(RecordStore.classes), RecordStore.classes"
   ]
  },
  {
   "cell_type": "code",
   "execution_count": 14,
   "id": "cea940a6",
   "metadata": {},
   "outputs": [],
   "source": [
    "class LSTM_Classifier(torch.nn.Module):\n",
    "    def __init__(self) -> None:\n",
    "        super(LSTM_Classifier, self).__init__()\n",
    "        num_layers = 2\n",
    "        hidden_size = 300\n",
    "        # h0 = torch.randn(num_layers, batch_size, hidden_size)\n",
    "        # c0 = torch.randn(num_layers, batch_size, hidden_size)\n",
    "        self.lstm_title = torch.nn.LSTM(input_size=300, hidden_size=hidden_size,\n",
    "            num_layers=num_layers, batch_first=True).cuda()\n",
    "        self.lstm_synopsis = torch.nn.LSTM(input_size=300, hidden_size=hidden_size, \n",
    "            num_layers=num_layers, batch_first=True).cuda()\n",
    "        self.clf = nn.Sequential(nn.Linear(hidden_size*2, hidden_size),\n",
    "            nn.ReLU(),\n",
    "            nn.Linear(hidden_size, len(RecordStore.classes))\n",
    "            ).cuda()\n",
    "\n",
    "    def _get_last_timesteps(self, lstm_out):\n",
    "        padded_seq, lengths = rnn.pad_packed_sequence(lstm_out, batch_first=True)\n",
    "        last_timesteps = []\n",
    "        for i in range(len(padded_seq)):\n",
    "            last_timesteps.append(padded_seq[i, lengths[i]-1])\n",
    "        return torch.stack(last_timesteps, dim=0)\n",
    "\n",
    "    def forward(self, x_t, x_s):\n",
    "        lstm_out_t, _ = self.lstm_title(x_t)\n",
    "        lstm_out_s, _ = self.lstm_synopsis(x_s)\n",
    "        last_timesteps_t = self._get_last_timesteps(lstm_out_t)\n",
    "        last_timesteps_s = self._get_last_timesteps(lstm_out_s)\n",
    "        # print('lts shapes:', last_timesteps_t.shape, last_timesteps_s.shape)\n",
    "        clf_out = self.clf(torch.concat([last_timesteps_t, last_timesteps_s], dim=1))\n",
    "        scores = F.log_softmax(clf_out, dim=1)\n",
    "        return scores\n",
    "    \n",
    "    def predict(self, x_t, x_s):\n",
    "        assert type(x_t) == type(x_s) == torch.Tensor, \"expected a single tensor\"\n",
    "        assert len(x_t.shape) == len(x_s.shape) == 2, \"expected a tensor with 2 dimensions\"\n",
    "        x_t, x_s = rnn.pack_sequence([x_t]), rnn.pack_sequence([x_s])\n",
    "        out = self.forward(x_t, x_s).squeeze(0)\n",
    "        return torch.argmax(out)"
   ]
  },
  {
   "cell_type": "code",
   "execution_count": 4,
   "id": "731e3e69",
   "metadata": {},
   "outputs": [],
   "source": [
    "X_t, X_s, Y = [], [], []\n",
    "for record in RecordStore.train_records:\n",
    "    X_t.append(torch.from_numpy(record.title_embeddings_w2v).cuda())\n",
    "    X_s.append(torch.from_numpy(record.synopsis_embeddings_w2v).cuda())\n",
    "    Y.append(record.cls_idx)"
   ]
  },
  {
   "cell_type": "code",
   "execution_count": 6,
   "id": "950f115a",
   "metadata": {},
   "outputs": [],
   "source": [
    "def sort_XXY(X_t, X_s, Y):\n",
    "    to_be_sorted = [(x_t, x_s,y) for x_t, x_s,y in zip(X_t, X_s, Y)]\n",
    "    to_be_sorted.sort(reverse=True, key=lambda x: x[1].shape[0])\n",
    "    X_t, X_s, Y = [], [], []\n",
    "    for (x_t, x_s, y) in to_be_sorted:\n",
    "        X_t.append(x_t)\n",
    "        X_s.append(x_s)\n",
    "        Y.append(y)\n",
    "    return X_t, X_s, Y\n",
    "\n",
    "X_t, X_s, Y = sort_XXY(X_t, X_s, Y)\n",
    "Y = torch.tensor(Y).cuda()"
   ]
  },
  {
   "cell_type": "code",
   "execution_count": 7,
   "id": "1dea0fc8",
   "metadata": {},
   "outputs": [],
   "source": [
    "def accuracy(model: nn.Module, X_t, X_s, Y):\n",
    "    mode = model.training\n",
    "    model.eval()\n",
    "    count = 0\n",
    "    with torch.no_grad():\n",
    "        for x_t, x_s, y in zip(X_t, X_s, Y):\n",
    "            if model.predict(x_t, x_s) == y:\n",
    "                count += 1\n",
    "    print('count, len:', count, len(X_t))\n",
    "    model.train(mode)\n",
    "    return count / len(X_t)"
   ]
  },
  {
   "cell_type": "code",
   "execution_count": 15,
   "id": "d8249b45",
   "metadata": {},
   "outputs": [],
   "source": [
    "model = LSTM_Classifier().cuda()\n",
    "optim = torch.optim.Adam(model.parameters(), lr=0.001)\n",
    "loss_function = torch.nn.NLLLoss()"
   ]
  },
  {
   "cell_type": "code",
   "execution_count": 16,
   "id": "181609c9",
   "metadata": {},
   "outputs": [
    {
     "name": "stdout",
     "output_type": "stream",
     "text": [
      "epoch: 0\n",
      "0/398\n",
      "loss:2.7086405754089355\n",
      "100/398\n",
      "loss:1.6661590337753296\n",
      "200/398\n",
      "loss:1.4699246883392334\n",
      "300/398\n",
      "loss:1.666192650794983\n",
      "epoch: 1\n",
      "0/398\n",
      "loss:3.4568397998809814\n",
      "100/398\n",
      "loss:1.1923002004623413\n",
      "200/398\n",
      "loss:0.9436505436897278\n",
      "300/398\n",
      "loss:1.2411218881607056\n",
      "epoch: 2\n",
      "0/398\n",
      "loss:1.3845975399017334\n",
      "100/398\n",
      "loss:0.8796219825744629\n",
      "200/398\n",
      "loss:0.7704432606697083\n",
      "300/398\n",
      "loss:1.1031606197357178\n",
      "epoch: 3\n",
      "0/398\n",
      "loss:0.6898866891860962\n",
      "100/398\n",
      "loss:0.7307702898979187\n",
      "200/398\n",
      "loss:0.6188595294952393\n",
      "300/398\n",
      "loss:0.9061126708984375\n",
      "epoch: 4\n",
      "0/398\n",
      "loss:0.5521284341812134\n",
      "100/398\n",
      "loss:0.7324220538139343\n",
      "200/398\n",
      "loss:0.4849553108215332\n",
      "300/398\n",
      "loss:0.7140002846717834\n",
      "epoch: 5\n",
      "0/398\n",
      "loss:0.5542596578598022\n",
      "100/398\n",
      "loss:0.5471367239952087\n",
      "200/398\n",
      "loss:0.3958241939544678\n",
      "300/398\n",
      "loss:0.574756383895874\n",
      "epoch: 6\n",
      "0/398\n",
      "loss:0.3601258397102356\n",
      "100/398\n",
      "loss:0.4674089252948761\n",
      "200/398\n",
      "loss:0.3096596598625183\n",
      "300/398\n",
      "loss:0.4655711054801941\n",
      "epoch: 7\n",
      "0/398\n",
      "loss:0.2750481367111206\n",
      "100/398\n",
      "loss:0.3594590723514557\n",
      "200/398\n",
      "loss:0.23257021605968475\n",
      "300/398\n",
      "loss:0.3317895531654358\n",
      "epoch: 8\n",
      "0/398\n",
      "loss:0.21967199444770813\n",
      "100/398\n",
      "loss:0.34602320194244385\n",
      "200/398\n",
      "loss:0.1322840303182602\n",
      "300/398\n",
      "loss:0.21427087485790253\n",
      "epoch: 9\n",
      "0/398\n",
      "loss:0.11706972122192383\n",
      "100/398\n",
      "loss:0.36489078402519226\n",
      "200/398\n",
      "loss:0.22211158275604248\n",
      "300/398\n",
      "loss:0.17613160610198975\n",
      "epoch: 10\n",
      "0/398\n",
      "loss:0.20399275422096252\n",
      "100/398\n",
      "loss:0.20808982849121094\n",
      "200/398\n",
      "loss:0.13114267587661743\n",
      "300/398\n",
      "loss:0.2479388266801834\n",
      "epoch: 11\n",
      "0/398\n",
      "loss:0.06952670961618423\n",
      "100/398\n",
      "loss:0.28141894936561584\n",
      "200/398\n",
      "loss:0.08069854974746704\n",
      "300/398\n",
      "loss:0.10476464778184891\n",
      "epoch: 12\n",
      "0/398\n",
      "loss:0.031214753165841103\n",
      "100/398\n",
      "loss:0.15019845962524414\n",
      "200/398\n",
      "loss:0.06265220791101456\n",
      "300/398\n",
      "loss:0.10840202122926712\n",
      "epoch: 13\n",
      "0/398\n",
      "loss:0.05177729204297066\n",
      "100/398\n",
      "loss:0.17598459124565125\n",
      "200/398\n",
      "loss:0.09845642000436783\n",
      "300/398\n",
      "loss:0.08968748152256012\n",
      "epoch: 14\n",
      "0/398\n",
      "loss:0.07119403034448624\n",
      "100/398\n",
      "loss:0.07431889325380325\n",
      "200/398\n",
      "loss:0.0349435992538929\n",
      "300/398\n",
      "loss:0.015292496420443058\n",
      "epoch: 15\n",
      "0/398\n",
      "loss:0.03438462316989899\n",
      "100/398\n",
      "loss:0.0704432874917984\n",
      "200/398\n",
      "loss:0.028857015073299408\n",
      "300/398\n",
      "loss:0.15425841510295868\n",
      "epoch: 16\n",
      "0/398\n",
      "loss:0.03263077512383461\n",
      "100/398\n",
      "loss:0.04186827689409256\n",
      "200/398\n",
      "loss:0.022875569760799408\n",
      "300/398\n",
      "loss:0.0707327201962471\n",
      "epoch: 17\n",
      "0/398\n",
      "loss:0.04988611117005348\n",
      "100/398\n",
      "loss:0.0404413677752018\n",
      "200/398\n",
      "loss:0.011151577346026897\n",
      "300/398\n",
      "loss:0.08873314410448074\n",
      "epoch: 18\n",
      "0/398\n",
      "loss:0.07548332959413528\n",
      "100/398\n",
      "loss:0.029065990820527077\n",
      "200/398\n",
      "loss:0.04974253848195076\n",
      "300/398\n",
      "loss:0.03760562464594841\n",
      "epoch: 19\n",
      "0/398\n",
      "loss:0.005556198302656412\n",
      "100/398\n",
      "loss:0.01557912491261959\n",
      "200/398\n",
      "loss:0.03980807960033417\n",
      "300/398\n",
      "loss:0.05814696475863457\n",
      "epoch: 20\n",
      "0/398\n",
      "loss:0.0081370510160923\n",
      "100/398\n",
      "loss:0.058781132102012634\n",
      "200/398\n",
      "loss:0.035249173641204834\n",
      "300/398\n",
      "loss:0.014681321568787098\n",
      "epoch: 21\n",
      "0/398\n",
      "loss:0.013940522447228432\n",
      "100/398\n",
      "loss:0.024026956409215927\n",
      "200/398\n",
      "loss:0.008192267268896103\n",
      "300/398\n",
      "loss:0.089934341609478\n",
      "epoch: 22\n",
      "0/398\n",
      "loss:0.033619023859500885\n",
      "100/398\n",
      "loss:0.04075280576944351\n",
      "200/398\n",
      "loss:0.0452335961163044\n",
      "300/398\n",
      "loss:0.011137471534311771\n",
      "epoch: 23\n",
      "0/398\n",
      "loss:0.15109679102897644\n",
      "100/398\n",
      "loss:0.024017050862312317\n",
      "200/398\n",
      "loss:0.008782009594142437\n",
      "300/398\n",
      "loss:0.054705165326595306\n",
      "epoch: 24\n",
      "0/398\n",
      "loss:0.001479682745411992\n",
      "100/398\n",
      "loss:0.007669419515877962\n",
      "200/398\n",
      "loss:0.001189766451716423\n",
      "300/398\n",
      "loss:0.020624982193112373\n",
      "epoch: 25\n",
      "0/398\n",
      "loss:0.04200609400868416\n",
      "100/398\n",
      "loss:0.16212198138237\n",
      "200/398\n",
      "loss:0.0046139927580952644\n",
      "300/398\n",
      "loss:0.09906823933124542\n",
      "epoch: 26\n",
      "0/398\n",
      "loss:0.008740350604057312\n",
      "100/398\n",
      "loss:0.03333871066570282\n",
      "200/398\n",
      "loss:0.006640553940087557\n",
      "300/398\n",
      "loss:0.04587289318442345\n",
      "epoch: 27\n",
      "0/398\n",
      "loss:0.013450375758111477\n",
      "100/398\n",
      "loss:0.0019346954068168998\n",
      "200/398\n",
      "loss:0.033493462949991226\n",
      "300/398\n",
      "loss:0.013622661121189594\n",
      "epoch: 28\n",
      "0/398\n",
      "loss:0.017073141410946846\n",
      "100/398\n",
      "loss:0.007563733495771885\n",
      "200/398\n",
      "loss:0.09527143090963364\n",
      "300/398\n",
      "loss:0.007988335564732552\n",
      "epoch: 29\n",
      "0/398\n",
      "loss:0.000679573742672801\n",
      "100/398\n",
      "loss:0.03697481378912926\n",
      "200/398\n",
      "loss:0.02846088819205761\n",
      "300/398\n",
      "loss:0.08681539446115494\n"
     ]
    }
   ],
   "source": [
    "# Training\n",
    "losses = []\n",
    "batch_size = 64\n",
    "for epoch in range(30):\n",
    "    print('epoch:', epoch)\n",
    "    n_steps = int(len(X_s)/batch_size)\n",
    "    for i in range(n_steps):\n",
    "        inp_t = rnn.pack_sequence(X_t[i*batch_size:(i+1)*batch_size], enforce_sorted=False)\n",
    "        inp_s = rnn.pack_sequence(X_s[i*batch_size:(i+1)*batch_size])\n",
    "        labels = Y[i*batch_size:(i+1)*batch_size]\n",
    "        model.zero_grad()\n",
    "        out = model(inp_t, inp_s)\n",
    "        # print('out shape')\n",
    "        # print(out.shape)\n",
    "        loss = loss_function(out, labels)\n",
    "        losses.append(loss.item())\n",
    "        loss.backward()\n",
    "        optim.step()\n",
    "\n",
    "        if i % 100 == 0:\n",
    "            print('{}/{}'.format(i, n_steps))\n",
    "            print('loss:{}'.format(loss.item()))\n"
   ]
  },
  {
   "cell_type": "code",
   "execution_count": 17,
   "id": "e2528bd9",
   "metadata": {},
   "outputs": [
    {
     "data": {
      "text/plain": [
       "[<matplotlib.lines.Line2D at 0x7fae402b6e20>]"
      ]
     },
     "execution_count": 17,
     "metadata": {},
     "output_type": "execute_result"
    },
    {
     "data": {
      "image/png": "[encoded data removed]",
      "text/plain": [
       "<Figure size 432x288 with 1 Axes>"
      ]
     },
     "metadata": {
      "needs_background": "light"
     },
     "output_type": "display_data"
    }
   ],
   "source": [
    "plt.plot(losses)"
   ]
  },
  {
   "cell_type": "code",
   "execution_count": 12,
   "id": "4cb39daf",
   "metadata": {},
   "outputs": [
    {
     "data": {
      "text/plain": [
       "[<matplotlib.lines.Line2D at 0x7f97d8092cd0>]"
      ]
     },
     "execution_count": 12,
     "metadata": {},
     "output_type": "execute_result"
    },
    {
     "data": {
      "image/png": "[encoded data removed]",
      "text/plain": [
       "<Figure size 432x288 with 1 Axes>"
      ]
     },
     "metadata": {
      "needs_background": "light"
     },
     "output_type": "display_data"
    }
   ],
   "source": [
    "# an old loss\n",
    "plt.plot(losses)"
   ]
  },
  {
   "cell_type": "code",
   "execution_count": 18,
   "id": "11e385c0",
   "metadata": {},
   "outputs": [
    {
     "name": "stdout",
     "output_type": "stream",
     "text": [
      "count, len: 25361 25526\n"
     ]
    },
    {
     "data": {
      "text/plain": [
       "0.9935360025072475"
      ]
     },
     "execution_count": 18,
     "metadata": {},
     "output_type": "execute_result"
    }
   ],
   "source": [
    "accuracy(model, X_t, X_s, Y)"
   ]
  },
  {
   "cell_type": "code",
   "execution_count": 19,
   "id": "6006eacb",
   "metadata": {},
   "outputs": [],
   "source": [
    "# Prepare test data\n",
    "X_t_test, X_s_test, Y_test = [], [], []\n",
    "for record in RecordStore.test_records:\n",
    "    X_t_test.append(torch.from_numpy(record.title_embeddings_w2v).cuda())\n",
    "    X_s_test.append(torch.from_numpy(record.synopsis_embeddings_w2v).cuda())\n",
    "    Y_test.append(record.cls_idx)"
   ]
  },
  {
   "cell_type": "code",
   "execution_count": 20,
   "id": "0a264f1e",
   "metadata": {},
   "outputs": [
    {
     "name": "stdout",
     "output_type": "stream",
     "text": [
      "count, len: 2148 3000\n"
     ]
    },
    {
     "data": {
      "text/plain": [
       "0.716"
      ]
     },
     "execution_count": 20,
     "metadata": {},
     "output_type": "execute_result"
    }
   ],
   "source": [
    "accuracy(model, X_t_test, X_s_test, Y_test)"
   ]
  },
  {
   "cell_type": "code",
   "execution_count": 21,
   "id": "3402b1e2",
   "metadata": {},
   "outputs": [],
   "source": [
    "# torch.save(model, 'model1.pt')"
   ]
  }
 ],
 "metadata": {
  "kernelspec": {
   "display_name": "Python 3",
   "language": "python",
   "name": "python3"
  },
  "language_info": {
   "codemirror_mode": {
    "name": "ipython",
    "version": 3
   },
   "file_extension": ".py",
   "mimetype": "text/x-python",
   "name": "python",
   "nbconvert_exporter": "python",
   "pygments_lexer": "ipython3",
   "version": "3.9.7"
  }
 },
 "nbformat": 4,
 "nbformat_minor": 5
}
