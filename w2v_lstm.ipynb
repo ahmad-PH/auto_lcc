{
 "cells": [
  {
   "cell_type": "code",
   "execution_count": 1,
   "id": "a97f4f96",
   "metadata": {},
   "outputs": [],
   "source": [
    "import sys\n",
    "from data import RecordStore, Record\n",
    "import numpy as np\n",
    "from typing import *\n",
    "import torch\n",
    "import torch.nn as nn\n",
    "import torch.nn.functional as F\n",
    "import torch.nn.utils.rnn as rnn\n",
    "import matplotlib.pyplot as plt\n"
   ]
  },
  {
   "cell_type": "code",
   "execution_count": 2,
   "id": "6dad5c80",
   "metadata": {},
   "outputs": [
    {
     "data": {
      "text/plain": [
       "(15,\n",
       " ['P', 'D', 'Q', 'K', 'E', 'H', 'F', 'T', 'S', 'R', 'G', 'B', 'N', 'L', 'J'])"
      ]
     },
     "execution_count": 2,
     "metadata": {},
     "output_type": "execute_result"
    }
   ],
   "source": [
    "RecordStore.load()\n",
    "RecordStore.load_w2v()\n",
    "\n",
    "len(RecordStore.classes), RecordStore.classes"
   ]
  },
  {
   "cell_type": "code",
   "execution_count": 3,
   "id": "cea940a6",
   "metadata": {},
   "outputs": [],
   "source": [
    "class LSTM_Classifier(torch.nn.Module):\n",
    "    def __init__(self) -> None:\n",
    "        super(LSTM_Classifier, self).__init__()\n",
    "        num_layers = 2\n",
    "        batch_size = 1\n",
    "        hidden_size = 300\n",
    "        # h0 = torch.randn(num_layers, batch_size, hidden_size)\n",
    "        # c0 = torch.randn(num_layers, batch_size, hidden_size)\n",
    "        self.lstm = torch.nn.LSTM(input_size=300, hidden_size=hidden_size, num_layers=num_layers, batch_first=True).cuda()\n",
    "        self.clf = nn.Sequential(nn.Linear(hidden_size, hidden_size),\n",
    "            nn.ReLU(),\n",
    "            nn.Linear(hidden_size, len(RecordStore.classes))\n",
    "            ).cuda()\n",
    "        # self.clf = torch.nn.Linear(hidden_size, len(RecordStore.classes)).cuda()\n",
    "\n",
    "    def _get_last_timesteps(self, lstm_out):\n",
    "        padded_seq, lengths = rnn.pad_packed_sequence(lstm_out, batch_first=True)\n",
    "        last_timesteps = []\n",
    "        for i in range(len(padded_seq)):\n",
    "            last_timesteps.append(padded_seq[i, lengths[i]-1])\n",
    "        return torch.stack(last_timesteps, dim=0)\n",
    "\n",
    "    def forward(self, x):\n",
    "        lstm_out, _ = self.lstm(x)\n",
    "        last_timesteps = self._get_last_timesteps(lstm_out)\n",
    "        clf_out = self.clf(last_timesteps)\n",
    "        scores = F.log_softmax(clf_out, dim=1)\n",
    "        return scores\n",
    "    \n",
    "    def predict(self, x):\n",
    "        assert type(x) == torch.Tensor, \"expected a single tensor\"\n",
    "        assert len(x.shape) == 2, \"expected a tensor with 2 dimensions\"\n",
    "        x = rnn.pack_sequence([x])\n",
    "        out = self.forward(x).squeeze(0)\n",
    "        return torch.argmax(out)"
   ]
  },
  {
   "cell_type": "code",
   "execution_count": 4,
   "id": "731e3e69",
   "metadata": {},
   "outputs": [
    {
     "name": "stdout",
     "output_type": "stream",
     "text": [
      "LABEL: 12\n"
     ]
    }
   ],
   "source": [
    "X, Y = [], []\n",
    "for record in RecordStore.train_records:\n",
    "    embedding = record.synopsis_embeddings_w2v\n",
    "    X.append(torch.from_numpy(embedding).cuda())\n",
    "    Y.append(record.cls_idx)"
   ]
  },
  {
   "cell_type": "code",
   "execution_count": 6,
   "id": "950f115a",
   "metadata": {},
   "outputs": [],
   "source": [
    "def sort_XY(X, Y):\n",
    "    to_be_sorted = [(x,y) for x,y in zip(X,Y)]\n",
    "    to_be_sorted.sort(reverse=True, key=lambda x: x[0].shape[0])\n",
    "    X, Y = [], []\n",
    "    for (x,y) in to_be_sorted:\n",
    "        X.append(x)\n",
    "        Y.append(y)\n",
    "    return X, Y\n",
    "\n",
    "X, Y = sort_XY(X, Y)\n",
    "Y = torch.tensor(Y).cuda()"
   ]
  },
  {
   "cell_type": "code",
   "execution_count": 14,
   "id": "1dea0fc8",
   "metadata": {},
   "outputs": [],
   "source": [
    "def accuracy(model: nn.Module, X, Y):\n",
    "    mode = model.training\n",
    "    model.eval()\n",
    "    count = 0\n",
    "    with torch.no_grad():\n",
    "        for x, y in zip(X,Y):\n",
    "            if model.predict(x) == y:\n",
    "                count += 1\n",
    "    print('count, len:', count, len(X))\n",
    "    model.train(mode)\n",
    "    return count / len(X)"
   ]
  },
  {
   "cell_type": "code",
   "execution_count": 22,
   "id": "d8249b45",
   "metadata": {},
   "outputs": [],
   "source": [
    "model = LSTM_Classifier().cuda()\n",
    "optim = torch.optim.Adam(model.parameters(), lr=0.001)\n",
    "loss_function = torch.nn.NLLLoss()"
   ]
  },
  {
   "cell_type": "code",
   "execution_count": 23,
   "id": "181609c9",
   "metadata": {},
   "outputs": [
    {
     "name": "stdout",
     "output_type": "stream",
     "text": [
      "epoch: 0\n",
      "0/398\n",
      "loss:2.7061119079589844\n",
      "100/398\n",
      "loss:2.0975823402404785\n",
      "200/398\n",
      "loss:1.7310750484466553\n",
      "300/398\n",
      "loss:1.5712765455245972\n",
      "epoch: 1\n",
      "0/398\n",
      "loss:5.614026069641113\n",
      "100/398\n",
      "loss:1.3232722282409668\n",
      "200/398\n",
      "loss:1.2466171979904175\n",
      "300/398\n",
      "loss:1.2859865427017212\n",
      "epoch: 2\n",
      "0/398\n",
      "loss:2.5119595527648926\n",
      "100/398\n",
      "loss:1.1264742612838745\n",
      "200/398\n",
      "loss:1.015842318534851\n",
      "300/398\n",
      "loss:1.077006459236145\n",
      "epoch: 3\n",
      "0/398\n",
      "loss:1.8404788970947266\n",
      "100/398\n",
      "loss:1.0607014894485474\n",
      "200/398\n",
      "loss:0.831504762172699\n",
      "300/398\n",
      "loss:0.9207471609115601\n",
      "epoch: 4\n",
      "0/398\n",
      "loss:1.3429574966430664\n",
      "100/398\n",
      "loss:0.9181041717529297\n",
      "200/398\n",
      "loss:0.7094770669937134\n",
      "300/398\n",
      "loss:0.7896018028259277\n",
      "epoch: 5\n",
      "0/398\n",
      "loss:1.0968928337097168\n",
      "100/398\n",
      "loss:0.9007744193077087\n",
      "200/398\n",
      "loss:0.6188061237335205\n",
      "300/398\n",
      "loss:0.7113907337188721\n",
      "epoch: 6\n",
      "0/398\n",
      "loss:0.9478774666786194\n",
      "100/398\n",
      "loss:0.8098680377006531\n",
      "200/398\n",
      "loss:0.5677005648612976\n",
      "300/398\n",
      "loss:0.6003221869468689\n",
      "epoch: 7\n",
      "0/398\n",
      "loss:0.8361952900886536\n",
      "100/398\n",
      "loss:0.7070565223693848\n",
      "200/398\n",
      "loss:0.46362483501434326\n",
      "300/398\n",
      "loss:0.5014254450798035\n",
      "epoch: 8\n",
      "0/398\n",
      "loss:0.6834101676940918\n",
      "100/398\n",
      "loss:0.6540490984916687\n",
      "200/398\n",
      "loss:0.39731550216674805\n",
      "300/398\n",
      "loss:0.39956143498420715\n",
      "epoch: 9\n",
      "0/398\n",
      "loss:0.5882020592689514\n",
      "100/398\n",
      "loss:0.6177657842636108\n",
      "200/398\n",
      "loss:0.31981101632118225\n",
      "300/398\n",
      "loss:0.34809747338294983\n",
      "epoch: 10\n",
      "0/398\n",
      "loss:0.5850318074226379\n",
      "100/398\n",
      "loss:0.5693802833557129\n",
      "200/398\n",
      "loss:0.2680736482143402\n",
      "300/398\n",
      "loss:0.25345611572265625\n",
      "epoch: 11\n",
      "0/398\n",
      "loss:0.49748072028160095\n",
      "100/398\n",
      "loss:0.4108967185020447\n",
      "200/398\n",
      "loss:0.13566209375858307\n",
      "300/398\n",
      "loss:0.18521353602409363\n",
      "epoch: 12\n",
      "0/398\n",
      "loss:0.4409791827201843\n",
      "100/398\n",
      "loss:0.48074012994766235\n",
      "200/398\n",
      "loss:0.2422035187482834\n",
      "300/398\n",
      "loss:0.1428605020046234\n",
      "epoch: 13\n",
      "0/398\n",
      "loss:0.44122734665870667\n",
      "100/398\n",
      "loss:0.342083603143692\n",
      "200/398\n",
      "loss:0.0869317576289177\n",
      "300/398\n",
      "loss:0.07589985430240631\n",
      "epoch: 14\n",
      "0/398\n",
      "loss:0.488520085811615\n",
      "100/398\n",
      "loss:0.19362187385559082\n",
      "200/398\n",
      "loss:0.26268577575683594\n",
      "300/398\n",
      "loss:0.057998452335596085\n",
      "epoch: 15\n",
      "0/398\n",
      "loss:0.37304261326789856\n",
      "100/398\n",
      "loss:0.19572754204273224\n",
      "200/398\n",
      "loss:0.036589235067367554\n",
      "300/398\n",
      "loss:0.19089365005493164\n",
      "epoch: 16\n",
      "0/398\n",
      "loss:0.1876290738582611\n",
      "100/398\n",
      "loss:0.2364848405122757\n",
      "200/398\n",
      "loss:0.011276746168732643\n",
      "300/398\n",
      "loss:0.12738226354122162\n",
      "epoch: 17\n",
      "0/398\n",
      "loss:0.16642607748508453\n",
      "100/398\n",
      "loss:0.09166158735752106\n",
      "200/398\n",
      "loss:0.027124345302581787\n",
      "300/398\n",
      "loss:0.059695079922676086\n",
      "epoch: 18\n",
      "0/398\n",
      "loss:0.06496676057577133\n",
      "100/398\n",
      "loss:0.17113704979419708\n",
      "200/398\n",
      "loss:0.029203427955508232\n",
      "300/398\n",
      "loss:0.019573312252759933\n",
      "epoch: 19\n",
      "0/398\n",
      "loss:0.04787577688694\n",
      "100/398\n",
      "loss:0.054033063352108\n",
      "200/398\n",
      "loss:0.009981435723602772\n",
      "300/398\n",
      "loss:0.03226129710674286\n",
      "epoch: 20\n",
      "0/398\n",
      "loss:0.013467544689774513\n",
      "100/398\n",
      "loss:0.025795157998800278\n",
      "200/398\n",
      "loss:0.024224696680903435\n",
      "300/398\n",
      "loss:0.09843526035547256\n",
      "epoch: 21\n",
      "0/398\n",
      "loss:0.08050747960805893\n",
      "100/398\n",
      "loss:0.08978664129972458\n",
      "200/398\n",
      "loss:0.007238501217216253\n",
      "300/398\n",
      "loss:0.002485494362190366\n",
      "epoch: 22\n",
      "0/398\n",
      "loss:0.034048594534397125\n",
      "100/398\n",
      "loss:0.0837448313832283\n",
      "200/398\n",
      "loss:0.009939288720488548\n",
      "300/398\n",
      "loss:0.01741713657975197\n",
      "epoch: 23\n",
      "0/398\n",
      "loss:0.021586567163467407\n",
      "100/398\n",
      "loss:0.0170188806951046\n",
      "200/398\n",
      "loss:0.006732270587235689\n",
      "300/398\n",
      "loss:0.00967224407941103\n",
      "epoch: 24\n",
      "0/398\n",
      "loss:0.08867587149143219\n",
      "100/398\n",
      "loss:0.05372247099876404\n",
      "200/398\n",
      "loss:0.03899947553873062\n",
      "300/398\n",
      "loss:0.006068552378565073\n",
      "epoch: 25\n",
      "0/398\n",
      "loss:0.05426837131381035\n",
      "100/398\n",
      "loss:0.030060870572924614\n",
      "200/398\n",
      "loss:0.0639820545911789\n",
      "300/398\n",
      "loss:0.018955741077661514\n",
      "epoch: 26\n",
      "0/398\n",
      "loss:0.030014319345355034\n",
      "100/398\n",
      "loss:0.004889287985861301\n",
      "200/398\n",
      "loss:0.03000459261238575\n",
      "300/398\n",
      "loss:0.0011934398207813501\n",
      "epoch: 27\n",
      "0/398\n",
      "loss:0.017271988093852997\n",
      "100/398\n",
      "loss:0.017861725762486458\n",
      "200/398\n",
      "loss:0.04404262825846672\n",
      "300/398\n",
      "loss:0.007958142086863518\n",
      "epoch: 28\n",
      "0/398\n",
      "loss:0.055719438940286636\n",
      "100/398\n",
      "loss:0.006002181675285101\n",
      "200/398\n",
      "loss:0.0010177588555961847\n",
      "300/398\n",
      "loss:0.0013985930709168315\n",
      "epoch: 29\n",
      "0/398\n",
      "loss:0.006082892417907715\n",
      "100/398\n",
      "loss:0.003810254158452153\n",
      "200/398\n",
      "loss:0.0208232793956995\n",
      "300/398\n",
      "loss:0.0022756727412343025\n"
     ]
    }
   ],
   "source": [
    "# Training\n",
    "losses = []\n",
    "batch_size = 64\n",
    "for epoch in range(30):\n",
    "    print('epoch:', epoch)\n",
    "    n_steps = int(len(X)/batch_size)\n",
    "    for i in range(n_steps):\n",
    "        inp = X[i*batch_size:(i+1)*batch_size]\n",
    "        inp = rnn.pack_sequence(inp)\n",
    "        labels = Y[i*batch_size:(i+1)*batch_size]\n",
    "        model.zero_grad()\n",
    "        out = model(inp)\n",
    "        # print('out shape')\n",
    "        # print(out.shape)\n",
    "        loss = loss_function(out, labels)\n",
    "        losses.append(loss.item())\n",
    "        loss.backward()\n",
    "        optim.step()\n",
    "\n",
    "        if i % 100 == 0:\n",
    "            print('{}/{}'.format(i, n_steps))\n",
    "            print('loss:{}'.format(loss.item()))\n"
   ]
  },
  {
   "cell_type": "code",
   "execution_count": 24,
   "id": "e2528bd9",
   "metadata": {},
   "outputs": [
    {
     "data": {
      "text/plain": [
       "[<matplotlib.lines.Line2D at 0x7fef8cb86550>]"
      ]
     },
     "execution_count": 24,
     "metadata": {},
     "output_type": "execute_result"
    },
    {
     "data": {
      "image/png": "[encoded data removed]",
      "text/plain": [
       "<Figure size 432x288 with 1 Axes>"
      ]
     },
     "metadata": {
      "needs_background": "light"
     },
     "output_type": "display_data"
    }
   ],
   "source": [
    "plt.plot(losses)"
   ]
  },
  {
   "cell_type": "code",
   "execution_count": 12,
   "id": "4cb39daf",
   "metadata": {},
   "outputs": [
    {
     "data": {
      "text/plain": [
       "[<matplotlib.lines.Line2D at 0x7f97d8092cd0>]"
      ]
     },
     "execution_count": 12,
     "metadata": {},
     "output_type": "execute_result"
    },
    {
     "data": {
      "image/png": "[encoded data removed]",
      "text/plain": [
       "<Figure size 432x288 with 1 Axes>"
      ]
     },
     "metadata": {
      "needs_background": "light"
     },
     "output_type": "display_data"
    }
   ],
   "source": [
    "# an old loss\n",
    "plt.plot(losses)"
   ]
  },
  {
   "cell_type": "code",
   "execution_count": 25,
   "id": "11e385c0",
   "metadata": {},
   "outputs": [
    {
     "name": "stdout",
     "output_type": "stream",
     "text": [
      "count, len: 24918 25526\n"
     ]
    },
    {
     "data": {
      "text/plain": [
       "0.9761811486327666"
      ]
     },
     "execution_count": 25,
     "metadata": {},
     "output_type": "execute_result"
    }
   ],
   "source": [
    "accuracy(model, X, Y)"
   ]
  },
  {
   "cell_type": "code",
   "execution_count": 26,
   "id": "6006eacb",
   "metadata": {},
   "outputs": [],
   "source": [
    "# Prepare test data\n",
    "X_test, Y_test = [], []\n",
    "for record in RecordStore.test_records:\n",
    "    embedding = record.synopsis_embeddings_w2v\n",
    "    X_test.append(torch.from_numpy(embedding).cuda())\n",
    "    Y_test.append(record.cls_idx)\n",
    "Y_test = torch.tensor(Y_test)"
   ]
  },
  {
   "cell_type": "code",
   "execution_count": 27,
   "id": "0a264f1e",
   "metadata": {},
   "outputs": [
    {
     "name": "stdout",
     "output_type": "stream",
     "text": [
      "count, len: 2054 3000\n"
     ]
    },
    {
     "data": {
      "text/plain": [
       "0.6846666666666666"
      ]
     },
     "execution_count": 27,
     "metadata": {},
     "output_type": "execute_result"
    }
   ],
   "source": [
    "accuracy(model, X_test, Y_test)"
   ]
  },
  {
   "cell_type": "code",
   "execution_count": null,
   "id": "3402b1e2",
   "metadata": {},
   "outputs": [],
   "source": []
  }
 ],
 "metadata": {
  "kernelspec": {
   "display_name": "Python 3",
   "language": "python",
   "name": "python3"
  },
  "language_info": {
   "codemirror_mode": {
    "name": "ipython",
    "version": 3
   },
   "file_extension": ".py",
   "mimetype": "text/x-python",
   "name": "python",
   "nbconvert_exporter": "python",
   "pygments_lexer": "ipython3",
   "version": "3.9.7"
  }
 },
 "nbformat": 4,
 "nbformat_minor": 5
}
